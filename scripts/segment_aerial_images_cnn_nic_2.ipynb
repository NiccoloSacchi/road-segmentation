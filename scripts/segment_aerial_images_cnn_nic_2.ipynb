{
 "cells": [
  {
   "cell_type": "code",
   "execution_count": 1,
   "metadata": {},
   "outputs": [
    {
     "name": "stderr",
     "output_type": "stream",
     "text": [
      "Using TensorFlow backend.\n"
     ]
    }
   ],
   "source": [
    "%matplotlib inline\n",
    "\n",
    "import matplotlib.pyplot as plt\n",
    "from preprocessing import *\n",
    "from postprocessing import *\n",
    "from cnn_models import *\n",
    "from datetime import datetime\n",
    "from evaluate import *\n",
    "\n",
    "%load_ext autoreload\n",
    "%autoreload 2"
   ]
  },
  {
   "cell_type": "markdown",
   "metadata": {},
   "source": [
    "#### Overview\n",
    "The goal here is to use the CNN to reduce the size of the input image to obtain a \"discretized\" image of shape, e.g. (W/16, H/16). Every entry of this image is related to a patch in the input image. This obtained image is compared by the CNN with the groundtruth (after properly discretizing by it patch-wise)."
   ]
  },
  {
   "cell_type": "markdown",
   "metadata": {},
   "source": [
    "### - Load data"
   ]
  },
  {
   "cell_type": "code",
   "execution_count": 19,
   "metadata": {},
   "outputs": [
    {
     "name": "stdout",
     "output_type": "stream",
     "text": [
      "Loading 100 images\n"
     ]
    },
    {
     "data": {
      "text/plain": [
       "((400, 400, 3), (400, 400))"
      ]
     },
     "execution_count": 19,
     "metadata": {},
     "output_type": "execute_result"
    }
   ],
   "source": [
    "# Loaded a set of images\n",
    "n = 100\n",
    "\n",
    "imgs, gt_imgs = load_images(n)\n",
    "imgs[0].shape, gt_imgs[0].shape"
   ]
  },
  {
   "cell_type": "code",
   "execution_count": 3,
   "metadata": {},
   "outputs": [],
   "source": [
    "X = imgs\n",
    "Y = gt_imgs\n",
    "set_ = SimpleNamespace()\n",
    "set_.X = X\n",
    "set_.Y = Y"
   ]
  },
  {
   "cell_type": "code",
   "execution_count": 48,
   "metadata": {},
   "outputs": [
    {
     "data": {
      "text/plain": [
       "0.20474031249999999"
      ]
     },
     "execution_count": 48,
     "metadata": {},
     "output_type": "execute_result"
    }
   ],
   "source": [
    "import scipy\n",
    "pixels = gt_imgs.flatten()\n",
    "roads_mask = pixels>0.25\n",
    "pixels = pixels*0\n",
    "pixels[roads_mask] = 1\n",
    "np.sum(pixels==1)/pixels.shape[0]"
   ]
  },
  {
   "cell_type": "code",
   "execution_count": null,
   "metadata": {},
   "outputs": [],
   "source": [
    "# for i in range(100):\n",
    "i = 41\n",
    "display_prediction(set_.X[i], set_.Y[i])\n",
    "plt\n",
    "# plt.show()\n",
    "# plt.savefig(\"highway.png\")"
   ]
  },
  {
   "cell_type": "markdown",
   "metadata": {},
   "source": [
    "### - Reshape the data NOMORE (we pass the train directly the images as they are so not to mess data augmentation)\n",
    "We reshape each input to fulfill our cnn inputs and output shape."
   ]
  },
  {
   "cell_type": "code",
   "execution_count": null,
   "metadata": {},
   "outputs": [],
   "source": [
    "# # !!! set predict_patch_width in accordance to the model you are using !!!\n",
    "# # the shape of the output of the model depends on the strides parameters \n",
    "# # (if a layer has stride=2 then each ouput's side is half of the input'side).\n",
    "# # predict_patch_width must be equal to the total reduction of the model, e.g.\n",
    "# # if the model has three layer with stride=2 => the input of the model is \n",
    "# # reduced by a factor of 2*2*2=8, i.e. the ouptut will be patch-wise with \n",
    "# # patches 8x8 pixels.\n",
    "# predict_patch_width = 8\n",
    "\n",
    "# X, Y = images_to_XY(imgs, gt_imgs, predict_patch_width=predict_patch_width)\n",
    "\n",
    "# set_ = SimpleNamespace()\n",
    "# set_.X = X\n",
    "# set_.Y = Y\n",
    "\n",
    "# X.shape, Y.shape"
   ]
  },
  {
   "cell_type": "code",
   "execution_count": null,
   "metadata": {},
   "outputs": [],
   "source": [
    "# vvv checking data augmentation\n",
    "# gen = batches_generator(imgs, gt_imgs)\n",
    "# batches_x = []\n",
    "# batches_y = []\n",
    "# for i in range(4):\n",
    "#     x_batch, y_batch = next(gen)\n",
    "#     batches_x.append(x_batch)\n",
    "#     batches_y.append(y_batch)\n",
    "# batches_x = np.array(batches_x)\n",
    "# batches_y = np.array(batches_y)\n",
    "\n",
    "# # batches_x = np.expand_dims(batches_x, axis=0)\n",
    "# # batches_y = np.expand_dims(batches_y, axis=0)\n",
    "# batches_x.shape, batches_y.shape"
   ]
  },
  {
   "cell_type": "code",
   "execution_count": null,
   "metadata": {},
   "outputs": [],
   "source": [
    "# # batch = 0\n",
    "# fig, axs = plt.subplots(2, 2, figsize=(20, 20))\n",
    "\n",
    "# img = imgs[0]\n",
    "# gt_img = gt_imgs[0]\n",
    "# new_img = make_img_overlay(img, gt_img)   \n",
    "# axs[0][0].imshow(new_img)\n",
    "\n",
    "# batch, im = 1, 0\n",
    "# img = batches_x[batch, im, :, :]\n",
    "# gt_img = batches_y[batch, im, :, :, 1]\n",
    "# h, w = img.shape[0], img.shape[1]\n",
    "# gt_img = predictions_to_img(gt_img, (h, w))\n",
    "# new_img = make_img_overlay(img, gt_img)   \n",
    "# axs[0][1].imshow(new_img)\n",
    "\n",
    "# batch, im = 1, 1\n",
    "# img = batches_x[batch, im, :, :]\n",
    "# gt_img = batches_y[batch, im, :, :, 1]\n",
    "# h, w = img.shape[0], img.shape[1]\n",
    "# gt_img = predictions_to_img(gt_img, (h, w))\n",
    "# new_img = make_img_overlay(img, gt_img)   \n",
    "# axs[1][0].imshow(new_img)\n",
    "\n",
    "# batch, im = 1, 2\n",
    "# img = batches_x[batch, im, :, :]\n",
    "# gt_img = batches_y[batch, im, :, :, 1]\n",
    "# h, w = img.shape[0], img.shape[1]\n",
    "# gt_img = predictions_to_img(gt_img, (h, w))\n",
    "# new_img = make_img_overlay(img, gt_img)   \n",
    "# axs[1][1].imshow(new_img)\n",
    "\n",
    "# plt.tight_layout()\n",
    "# plt.savefig(\"data_augmentation.png\")"
   ]
  },
  {
   "cell_type": "markdown",
   "metadata": {},
   "source": [
    "### - For now avoid cross validation, just split the datasest in test and train. "
   ]
  },
  {
   "cell_type": "code",
   "execution_count": null,
   "metadata": {},
   "outputs": [],
   "source": [
    "test_ratio = 0.25\n",
    "\n",
    "train, test = split_train_test(X, Y, test_ratio=test_ratio, seed=1)\n",
    "train.X.shape, train.Y.shape, test.X.shape, test.Y.shape "
   ]
  },
  {
   "cell_type": "code",
   "execution_count": null,
   "metadata": {},
   "outputs": [],
   "source": [
    "# # check it makes sense (show the i-th input of set_)\n",
    "# i = 0\n",
    "# set_ = test\n",
    "\n",
    "# fig, axs = plt.subplots(1, 2, figsize=(20, 10))\n",
    "# axs[0].imshow(set_.Y[i, :, :, 1], cmap='gray')\n",
    "# axs[1].imshow(set_.X[i, :, :])"
   ]
  },
  {
   "cell_type": "markdown",
   "metadata": {},
   "source": [
    "### - Build the CNN model or load a previous one"
   ]
  },
  {
   "cell_type": "markdown",
   "metadata": {},
   "source": [
    "- Choose one of the models you defined (with model_n) and initialize it."
   ]
  },
  {
   "cell_type": "code",
   "execution_count": null,
   "metadata": {},
   "outputs": [],
   "source": [
    "# generate an unique name for the model (so to avoid overwriting previous models)\n",
    "folder_name = \"model_\"+str('{0:%Y-%m-%d_%H:%M:%S}'.format(datetime.now()))\n",
    "model_path = \"models/\"+folder_name\n",
    "model = CnnModel(model_n=9, model_path=model_path)\n",
    "model.summary()"
   ]
  },
  {
   "cell_type": "markdown",
   "metadata": {},
   "source": [
    "- Otherwise load a previous model"
   ]
  },
  {
   "cell_type": "code",
   "execution_count": 41,
   "metadata": {},
   "outputs": [
    {
     "name": "stdout",
     "output_type": "stream",
     "text": [
      "Loaded model from disk\n",
      "model_leakyrelu_maxpooling\n",
      "_________________________________________________________________\n",
      "Layer (type)                 Output Shape              Param #   \n",
      "=================================================================\n",
      "conv2d_6 (Conv2D)            (None, None, None, 48)    17472     \n",
      "_________________________________________________________________\n",
      "leaky_re_lu_6 (LeakyReLU)    (None, None, None, 48)    0         \n",
      "_________________________________________________________________\n",
      "max_pooling2d_4 (MaxPooling2 (None, None, None, 48)    0         \n",
      "_________________________________________________________________\n",
      "dropout_5 (Dropout)          (None, None, None, 48)    0         \n",
      "_________________________________________________________________\n",
      "conv2d_7 (Conv2D)            (None, None, None, 64)    150592    \n",
      "_________________________________________________________________\n",
      "leaky_re_lu_7 (LeakyReLU)    (None, None, None, 64)    0         \n",
      "_________________________________________________________________\n",
      "max_pooling2d_5 (MaxPooling2 (None, None, None, 64)    0         \n",
      "_________________________________________________________________\n",
      "dropout_6 (Dropout)          (None, None, None, 64)    0         \n",
      "_________________________________________________________________\n",
      "conv2d_8 (Conv2D)            (None, None, None, 128)   204928    \n",
      "_________________________________________________________________\n",
      "leaky_re_lu_8 (LeakyReLU)    (None, None, None, 128)   0         \n",
      "_________________________________________________________________\n",
      "max_pooling2d_6 (MaxPooling2 (None, None, None, 128)   0         \n",
      "_________________________________________________________________\n",
      "dropout_7 (Dropout)          (None, None, None, 128)   0         \n",
      "_________________________________________________________________\n",
      "conv2d_9 (Conv2D)            (None, None, None, 256)   819456    \n",
      "_________________________________________________________________\n",
      "leaky_re_lu_9 (LeakyReLU)    (None, None, None, 256)   0         \n",
      "_________________________________________________________________\n",
      "dropout_8 (Dropout)          (None, None, None, 256)   0         \n",
      "_________________________________________________________________\n",
      "conv2d_10 (Conv2D)           (None, None, None, 2)     12802     \n",
      "_________________________________________________________________\n",
      "leaky_re_lu_10 (LeakyReLU)   (None, None, None, 2)     0         \n",
      "_________________________________________________________________\n",
      "activation_2 (Activation)    (None, None, None, 2)     0         \n",
      "=================================================================\n",
      "Total params: 1,205,250\n",
      "Trainable params: 1,205,250\n",
      "Non-trainable params: 0\n",
      "_________________________________________________________________\n",
      "None\n"
     ]
    }
   ],
   "source": [
    "# give the folder\n",
    "folder_name = \"model_2017-12-17_130123\"\n",
    "model_path = \"../models/\"+folder_name\n",
    "models = []\n",
    "models_id = [7]\n",
    "for i in range(len(models_id)):\n",
    "    models.append(CnnModel(model_n=models_id[i], model_path=model_path))\n",
    "    models[i].load() # load the model and its weights\n",
    "    models[i].summary()\n",
    "model = models[0]"
   ]
  },
  {
   "cell_type": "code",
   "execution_count": 42,
   "metadata": {},
   "outputs": [],
   "source": [
    "model.load_weights(\"2017-12-17_160742_best-weightsmodel_leakyrelu_maxpooling.hdf5\")"
   ]
  },
  {
   "cell_type": "markdown",
   "metadata": {},
   "source": [
    "### - Train the model on the train data while validating it on the test data"
   ]
  },
  {
   "cell_type": "code",
   "execution_count": null,
   "metadata": {},
   "outputs": [],
   "source": [
    "# pass a batch size which is a factor of train.shape[0] so that all the batches are fo the same size\n",
    "num_epochs=1\n",
    "batch_size=5\n",
    "_ = model.train(train, test=test, num_epochs=num_epochs, batch_size=batch_size, monitor='val_loss') "
   ]
  },
  {
   "cell_type": "markdown",
   "metadata": {},
   "source": [
    "### - Run cross validation to evaluate the model"
   ]
  },
  {
   "cell_type": "code",
   "execution_count": null,
   "metadata": {},
   "outputs": [],
   "source": [
    "result = model.cross_validation(set_, batch_size=batch_size, num_epochs=num_epochs)\n",
    "result"
   ]
  },
  {
   "cell_type": "code",
   "execution_count": null,
   "metadata": {},
   "outputs": [],
   "source": [
    "# plot the histories of the cross validation\n",
    "plot_history(result[\"history_mean\"]) \n",
    "# history of the folds (check if there is a worst case)\n",
    "# plot_history(result[\"histories\"][0]) \n",
    "# plot_history(result[\"histories\"][1]) \n",
    "# plot_history(result[\"histories\"][2]) \n",
    "# plot_history(result[\"histories\"][3]) "
   ]
  },
  {
   "cell_type": "markdown",
   "metadata": {},
   "source": [
    "#### Plot the accuracy and the loss obtained during training"
   ]
  },
  {
   "cell_type": "code",
   "execution_count": 6,
   "metadata": {
    "scrolled": false
   },
   "outputs": [
    {
     "name": "stdout",
     "output_type": "stream",
     "text": [
      "model_leakyrelu_maxpooling\n"
     ]
    },
    {
     "data": {
      "image/png": "[encoded data removed]",
      "text/plain": [
       "<matplotlib.figure.Figure at 0x7f3a35e4c470>"
      ]
     },
     "metadata": {},
     "output_type": "display_data"
    }
   ],
   "source": [
    "last_epochs=-1 # plot only the last n epochs\n",
    "for model in models:\n",
    "    print(model.name())\n",
    "    model.plot_history(last_epochs=last_epochs)\n",
    "    plt.show()"
   ]
  },
  {
   "cell_type": "markdown",
   "metadata": {},
   "source": [
    "#### Display the output of a specific layer"
   ]
  },
  {
   "cell_type": "code",
   "execution_count": null,
   "metadata": {},
   "outputs": [],
   "source": [
    "# these are all the layers \n",
    "model.model.layers"
   ]
  },
  {
   "cell_type": "code",
   "execution_count": null,
   "metadata": {},
   "outputs": [],
   "source": [
    "# choose a layer and an image \n",
    "image = set_.X[0]\n",
    "layer_num = 1\n",
    "\n",
    "model.show_layer_output(image, layer_num, filename=\"\") # pass a filename if you want to store the image to file "
   ]
  },
  {
   "cell_type": "markdown",
   "metadata": {},
   "source": [
    "### - Evaluate the model on the test data"
   ]
  },
  {
   "cell_type": "code",
   "execution_count": 43,
   "metadata": {},
   "outputs": [
    {
     "name": "stdout",
     "output_type": "stream",
     "text": [
      "model_leakyrelu_maxpooling\n",
      "                precision    recall  f1-score   support\n",
      "\n",
      "0 (background)       0.98      0.98      0.98    192521\n",
      "      1 (road)       0.94      0.93      0.93     57479\n",
      "\n",
      "   avg / total       0.97      0.97      0.97    250000\n",
      "\n",
      "Confusion matrix, without normalization\n"
     ]
    },
    {
     "data": {
      "image/png": "[encoded data removed]",
      "text/plain": [
       "<matplotlib.figure.Figure at 0x7f3a2a5f4b00>"
      ]
     },
     "metadata": {},
     "output_type": "display_data"
    },
    {
     "name": "stdout",
     "output_type": "stream",
     "text": [
      "Normalized confusion matrix\n"
     ]
    },
    {
     "data": {
      "image/png": "[encoded data removed]",
      "text/plain": [
       "<matplotlib.figure.Figure at 0x7f3a1cd3f3c8>"
      ]
     },
     "metadata": {},
     "output_type": "display_data"
    }
   ],
   "source": [
    "# check the performance on train or test\n",
    "set_ = set_\n",
    "i = 10\n",
    "asd = SimpleNamespace()\n",
    "asd.X = set_.X[:10]\n",
    "asd.Y = set_.Y[:10]\n",
    "for model in models:\n",
    "    print(model.name())\n",
    "    model.evaluate_model(set_.X, set_.Y)\n",
    "    plt.show()"
   ]
  },
  {
   "cell_type": "markdown",
   "metadata": {},
   "source": [
    "### - Show a prediction"
   ]
  },
  {
   "cell_type": "code",
   "execution_count": null,
   "metadata": {},
   "outputs": [],
   "source": [
    "# choose an image to predict (or part of it)\n",
    "img = test.X[0][:, :]\n",
    "\n",
    "models[1].display_prediction(img, ax=None)"
   ]
  },
  {
   "cell_type": "markdown",
   "metadata": {},
   "source": [
    "### - Save/load model"
   ]
  },
  {
   "cell_type": "code",
   "execution_count": null,
   "metadata": {},
   "outputs": [],
   "source": [
    "model.save()"
   ]
  },
  {
   "cell_type": "markdown",
   "metadata": {},
   "source": [
    "## - Postprocessing"
   ]
  },
  {
   "cell_type": "markdown",
   "metadata": {},
   "source": [
    "#### 1. Predict an image after rotating and flipping in some predefined ways and then average the predictions. "
   ]
  },
  {
   "cell_type": "markdown",
   "metadata": {},
   "source": [
    "- **predict**"
   ]
  },
  {
   "cell_type": "code",
   "execution_count": 11,
   "metadata": {},
   "outputs": [
    {
     "data": {
      "text/plain": [
       "((100, 400, 400, 3), (100, 400, 400))"
      ]
     },
     "execution_count": 11,
     "metadata": {},
     "output_type": "execute_result"
    }
   ],
   "source": [
    "set_.X.shape, set_.Y.shape"
   ]
  },
  {
   "cell_type": "markdown",
   "metadata": {},
   "source": [
    "Normal prediction"
   ]
  },
  {
   "cell_type": "code",
   "execution_count": 12,
   "metadata": {},
   "outputs": [
    {
     "data": {
      "text/plain": [
       "(100, 50, 50, 2)"
      ]
     },
     "execution_count": 12,
     "metadata": {},
     "output_type": "execute_result"
    }
   ],
   "source": [
    "pred_norm = model.predict(set_.X)\n",
    "pred_norm.shape"
   ]
  },
  {
   "cell_type": "markdown",
   "metadata": {},
   "source": [
    "Predict augmenting the image: 4 rotations"
   ]
  },
  {
   "cell_type": "code",
   "execution_count": null,
   "metadata": {},
   "outputs": [],
   "source": [
    "pred_rot4 = model.predict_augmented(set_.X, n_rotations=4)\n",
    "pred_rot4.shape"
   ]
  },
  {
   "cell_type": "markdown",
   "metadata": {},
   "source": [
    "Predict augmenting the image: 8 rotations"
   ]
  },
  {
   "cell_type": "code",
   "execution_count": null,
   "metadata": {},
   "outputs": [],
   "source": [
    "pred_rot8 = model.predict_augmented(set_.X, n_rotations=8)\n",
    "pred_rot8.shape"
   ]
  },
  {
   "cell_type": "markdown",
   "metadata": {},
   "source": [
    "- ** evaluate **"
   ]
  },
  {
   "cell_type": "markdown",
   "metadata": {},
   "source": [
    "Evaluate all of them and compare the F1 scores"
   ]
  },
  {
   "cell_type": "code",
   "execution_count": 25,
   "metadata": {},
   "outputs": [
    {
     "data": {
      "text/plain": [
       "((250000,), (250000,), (250000,), (250000,))"
      ]
     },
     "execution_count": 25,
     "metadata": {},
     "output_type": "execute_result"
    }
   ],
   "source": [
    "true = predictions_to_class(np.array([gt_img_to_Y(y, predict_patch_width=8) for y in set_.Y])).flatten()\n",
    "pred_norm_class = predictions_to_class(pred_norm).flatten()\n",
    "pred_rot4_class = predictions_to_class(pred_rot4).flatten()\n",
    "pred_rot8_class = predictions_to_class(pred_rot8).flatten()\n",
    "pred_norm_class.shape, pred_rot4_class.shape, pred_rot8_class.shape, true.shape"
   ]
  },
  {
   "cell_type": "code",
   "execution_count": 40,
   "metadata": {},
   "outputs": [
    {
     "name": "stdout",
     "output_type": "stream",
     "text": [
      "                precision    recall  f1-score   support\n",
      "\n",
      "0 (background)       1.00      0.99      0.99    192521\n",
      "      1 (road)       0.98      0.98      0.98     57479\n",
      "\n",
      "   avg / total       0.99      0.99      0.99    250000\n",
      "\n",
      "Confusion matrix, without normalization\n"
     ]
    },
    {
     "data": {
      "image/png": "[encoded data removed]",
      "text/plain": [
       "<matplotlib.figure.Figure at 0x7fc445f0c588>"
      ]
     },
     "metadata": {},
     "output_type": "display_data"
    },
    {
     "name": "stdout",
     "output_type": "stream",
     "text": [
      "Normalized confusion matrix\n"
     ]
    },
    {
     "data": {
      "image/png": "[encoded data removed]",
      "text/plain": [
       "<matplotlib.figure.Figure at 0x7fc44a0da208>"
      ]
     },
     "metadata": {},
     "output_type": "display_data"
    }
   ],
   "source": [
    "evaluate_predictions(pred_norm_class, true)"
   ]
  },
  {
   "cell_type": "code",
   "execution_count": null,
   "metadata": {},
   "outputs": [],
   "source": [
    "evaluate_predictions(pred_rot4_class, true)"
   ]
  },
  {
   "cell_type": "code",
   "execution_count": null,
   "metadata": {},
   "outputs": [],
   "source": [
    "evaluate_predictions(pred_rot8_class, true)"
   ]
  },
  {
   "cell_type": "code",
   "execution_count": null,
   "metadata": {},
   "outputs": [],
   "source": [
    "# im_rot = rotate(im, 45, reshape=True, order=1, mode=\"reflect\")\n",
    "# plt.figure(figsize=(10, 10))\n",
    "# plt.imshow(im_rot)\n",
    "# plt.show()\n",
    "\n",
    "# pred = model.predict(np.array([im_rot]))[0]\n",
    "# pred = take_image_at_center(rotate_image(pred, -45), target_shape=(50, 50))\n",
    "# plt.figure(figsize=(10, 10))\n",
    "# plt.imshow(prediction_to_class(pred), cmap=\"gray\")\n",
    "# plt.show()"
   ]
  },
  {
   "cell_type": "markdown",
   "metadata": {},
   "source": [
    "- Choose the best threshold to classify a patch as road."
   ]
  },
  {
   "cell_type": "code",
   "execution_count": 29,
   "metadata": {},
   "outputs": [
    {
     "data": {
      "text/plain": [
       "(0.98309300586178705, 0.53000000000000003)"
      ]
     },
     "execution_count": 29,
     "metadata": {},
     "output_type": "execute_result"
    }
   ],
   "source": [
    "grid_search_treshold(pred_norm[:, :, :, 1].flatten(), true)"
   ]
  },
  {
   "cell_type": "code",
   "execution_count": 30,
   "metadata": {},
   "outputs": [
    {
     "data": {
      "text/plain": [
       "(0.98871375076199608, 0.54000000000000004)"
      ]
     },
     "execution_count": 30,
     "metadata": {},
     "output_type": "execute_result"
    }
   ],
   "source": [
    "grid_search_treshold(pred_rot4[:, :, :, 1].flatten(), true)"
   ]
  },
  {
   "cell_type": "code",
   "execution_count": 31,
   "metadata": {},
   "outputs": [
    {
     "data": {
      "text/plain": [
       "(0.97797379776178361, 0.47000000000000003)"
      ]
     },
     "execution_count": 31,
     "metadata": {},
     "output_type": "execute_result"
    }
   ],
   "source": [
    "grid_search_treshold(pred_rot8[:, :, :, 1].flatten(), true)"
   ]
  },
  {
   "cell_type": "code",
   "execution_count": 43,
   "metadata": {},
   "outputs": [
    {
     "name": "stdout",
     "output_type": "stream",
     "text": [
      "Threshold: 0.55\n",
      "Loading 5 images to predict\n",
      "loading image ../dataset/test_set_images/test_1/test_1.png\n",
      "loading image ../dataset/test_set_images/test_2/test_2.png\n",
      "loading image ../dataset/test_set_images/test_3/test_3.png\n",
      "loading image ../dataset/test_set_images/test_4/test_4.png\n",
      "loading image ../dataset/test_set_images/test_5/test_5.png\n",
      "Predicting image 0\n",
      "\tFlipping image: False\n",
      "\t\tRotate by 0 degrees and predict\n",
      "\t\tRotate by 90 degrees and predict\n",
      "\t\tRotate by 180 degrees and predict\n",
      "\t\tRotate by 270 degrees and predict\n",
      "\tFlipping image: True\n",
      "\t\tRotate by 0 degrees and predict\n",
      "\t\tRotate by 90 degrees and predict\n",
      "\t\tRotate by 180 degrees and predict\n",
      "\t\tRotate by 270 degrees and predict\n",
      "Predicting image 1\n",
      "\tFlipping image: False\n",
      "\t\tRotate by 0 degrees and predict\n",
      "\t\tRotate by 90 degrees and predict\n",
      "\t\tRotate by 180 degrees and predict\n",
      "\t\tRotate by 270 degrees and predict\n",
      "\tFlipping image: True\n",
      "\t\tRotate by 0 degrees and predict\n",
      "\t\tRotate by 90 degrees and predict\n",
      "\t\tRotate by 180 degrees and predict\n",
      "\t\tRotate by 270 degrees and predict\n",
      "Predicting image 2\n",
      "\tFlipping image: False\n",
      "\t\tRotate by 0 degrees and predict\n",
      "\t\tRotate by 90 degrees and predict\n",
      "\t\tRotate by 180 degrees and predict\n",
      "\t\tRotate by 270 degrees and predict\n",
      "\tFlipping image: True\n",
      "\t\tRotate by 0 degrees and predict\n",
      "\t\tRotate by 90 degrees and predict\n",
      "\t\tRotate by 180 degrees and predict\n",
      "\t\tRotate by 270 degrees and predict\n",
      "Predicting image 3\n",
      "\tFlipping image: False\n",
      "\t\tRotate by 0 degrees and predict\n",
      "\t\tRotate by 90 degrees and predict\n",
      "\t\tRotate by 180 degrees and predict\n",
      "\t\tRotate by 270 degrees and predict\n",
      "\tFlipping image: True\n",
      "\t\tRotate by 0 degrees and predict\n",
      "\t\tRotate by 90 degrees and predict\n",
      "\t\tRotate by 180 degrees and predict\n",
      "\t\tRotate by 270 degrees and predict\n",
      "Predicting image 4\n",
      "\tFlipping image: False\n",
      "\t\tRotate by 0 degrees and predict\n",
      "\t\tRotate by 90 degrees and predict\n",
      "\t\tRotate by 180 degrees and predict\n",
      "\t\tRotate by 270 degrees and predict\n",
      "\tFlipping image: True\n",
      "\t\tRotate by 0 degrees and predict\n",
      "\t\tRotate by 90 degrees and predict\n",
      "\t\tRotate by 180 degrees and predict\n",
      "\t\tRotate by 270 degrees and predict\n"
     ]
    },
    {
     "name": "stderr",
     "output_type": "stream",
     "text": [
      "/home/niccolo/anaconda3/envs/ada/lib/python3.6/site-packages/imageio/core/util.py:78: UserWarning: Lossy conversion from float64 to uint8, range [0, 1]\n",
      "  dtype_str, out_type.__name__))\n"
     ]
    },
    {
     "name": "stdout",
     "output_type": "stream",
     "text": [
      "Loading 5 images to predict\n",
      "loading image ../dataset/test_set_images/test_6/test_6.png\n",
      "loading image ../dataset/test_set_images/test_7/test_7.png\n",
      "loading image ../dataset/test_set_images/test_8/test_8.png\n",
      "loading image ../dataset/test_set_images/test_9/test_9.png\n",
      "loading image ../dataset/test_set_images/test_10/test_10.png\n",
      "Predicting image 0\n",
      "\tFlipping image: False\n",
      "\t\tRotate by 0 degrees and predict\n",
      "\t\tRotate by 90 degrees and predict\n",
      "\t\tRotate by 180 degrees and predict\n",
      "\t\tRotate by 270 degrees and predict\n",
      "\tFlipping image: True\n",
      "\t\tRotate by 0 degrees and predict\n",
      "\t\tRotate by 90 degrees and predict\n",
      "\t\tRotate by 180 degrees and predict\n",
      "\t\tRotate by 270 degrees and predict\n",
      "Predicting image 1\n",
      "\tFlipping image: False\n",
      "\t\tRotate by 0 degrees and predict\n",
      "\t\tRotate by 90 degrees and predict\n",
      "\t\tRotate by 180 degrees and predict\n",
      "\t\tRotate by 270 degrees and predict\n",
      "\tFlipping image: True\n",
      "\t\tRotate by 0 degrees and predict\n",
      "\t\tRotate by 90 degrees and predict\n",
      "\t\tRotate by 180 degrees and predict\n",
      "\t\tRotate by 270 degrees and predict\n",
      "Predicting image 2\n",
      "\tFlipping image: False\n",
      "\t\tRotate by 0 degrees and predict\n",
      "\t\tRotate by 90 degrees and predict\n",
      "\t\tRotate by 180 degrees and predict\n",
      "\t\tRotate by 270 degrees and predict\n",
      "\tFlipping image: True\n",
      "\t\tRotate by 0 degrees and predict\n",
      "\t\tRotate by 90 degrees and predict\n",
      "\t\tRotate by 180 degrees and predict\n",
      "\t\tRotate by 270 degrees and predict\n",
      "Predicting image 3\n",
      "\tFlipping image: False\n",
      "\t\tRotate by 0 degrees and predict\n",
      "\t\tRotate by 90 degrees and predict\n",
      "\t\tRotate by 180 degrees and predict\n",
      "\t\tRotate by 270 degrees and predict\n",
      "\tFlipping image: True\n",
      "\t\tRotate by 0 degrees and predict\n",
      "\t\tRotate by 90 degrees and predict\n",
      "\t\tRotate by 180 degrees and predict\n",
      "\t\tRotate by 270 degrees and predict\n",
      "Predicting image 4\n",
      "\tFlipping image: False\n",
      "\t\tRotate by 0 degrees and predict\n",
      "\t\tRotate by 90 degrees and predict\n",
      "\t\tRotate by 180 degrees and predict\n",
      "\t\tRotate by 270 degrees and predict\n",
      "\tFlipping image: True\n",
      "\t\tRotate by 0 degrees and predict\n",
      "\t\tRotate by 90 degrees and predict\n",
      "\t\tRotate by 180 degrees and predict\n",
      "\t\tRotate by 270 degrees and predict\n",
      "Loading 5 images to predict\n",
      "loading image ../dataset/test_set_images/test_11/test_11.png\n",
      "loading image ../dataset/test_set_images/test_12/test_12.png\n",
      "loading image ../dataset/test_set_images/test_13/test_13.png\n",
      "loading image ../dataset/test_set_images/test_14/test_14.png\n",
      "loading image ../dataset/test_set_images/test_15/test_15.png\n",
      "Predicting image 0\n",
      "\tFlipping image: False\n",
      "\t\tRotate by 0 degrees and predict\n",
      "\t\tRotate by 90 degrees and predict\n",
      "\t\tRotate by 180 degrees and predict\n",
      "\t\tRotate by 270 degrees and predict\n",
      "\tFlipping image: True\n",
      "\t\tRotate by 0 degrees and predict\n",
      "\t\tRotate by 90 degrees and predict\n",
      "\t\tRotate by 180 degrees and predict\n",
      "\t\tRotate by 270 degrees and predict\n",
      "Predicting image 1\n",
      "\tFlipping image: False\n",
      "\t\tRotate by 0 degrees and predict\n",
      "\t\tRotate by 90 degrees and predict\n",
      "\t\tRotate by 180 degrees and predict\n",
      "\t\tRotate by 270 degrees and predict\n",
      "\tFlipping image: True\n",
      "\t\tRotate by 0 degrees and predict\n",
      "\t\tRotate by 90 degrees and predict\n",
      "\t\tRotate by 180 degrees and predict\n",
      "\t\tRotate by 270 degrees and predict\n",
      "Predicting image 2\n",
      "\tFlipping image: False\n",
      "\t\tRotate by 0 degrees and predict\n",
      "\t\tRotate by 90 degrees and predict\n",
      "\t\tRotate by 180 degrees and predict\n",
      "\t\tRotate by 270 degrees and predict\n",
      "\tFlipping image: True\n",
      "\t\tRotate by 0 degrees and predict\n",
      "\t\tRotate by 90 degrees and predict\n",
      "\t\tRotate by 180 degrees and predict\n",
      "\t\tRotate by 270 degrees and predict\n",
      "Predicting image 3\n",
      "\tFlipping image: False\n",
      "\t\tRotate by 0 degrees and predict\n",
      "\t\tRotate by 90 degrees and predict\n",
      "\t\tRotate by 180 degrees and predict\n",
      "\t\tRotate by 270 degrees and predict\n",
      "\tFlipping image: True\n",
      "\t\tRotate by 0 degrees and predict\n",
      "\t\tRotate by 90 degrees and predict\n",
      "\t\tRotate by 180 degrees and predict\n",
      "\t\tRotate by 270 degrees and predict\n",
      "Predicting image 4\n",
      "\tFlipping image: False\n",
      "\t\tRotate by 0 degrees and predict\n",
      "\t\tRotate by 90 degrees and predict\n",
      "\t\tRotate by 180 degrees and predict\n",
      "\t\tRotate by 270 degrees and predict\n",
      "\tFlipping image: True\n",
      "\t\tRotate by 0 degrees and predict\n",
      "\t\tRotate by 90 degrees and predict\n",
      "\t\tRotate by 180 degrees and predict\n",
      "\t\tRotate by 270 degrees and predict\n",
      "Loading 5 images to predict\n",
      "loading image ../dataset/test_set_images/test_16/test_16.png\n",
      "loading image ../dataset/test_set_images/test_17/test_17.png\n",
      "loading image ../dataset/test_set_images/test_18/test_18.png\n",
      "loading image ../dataset/test_set_images/test_19/test_19.png\n",
      "loading image ../dataset/test_set_images/test_20/test_20.png\n",
      "Predicting image 0\n",
      "\tFlipping image: False\n",
      "\t\tRotate by 0 degrees and predict\n",
      "\t\tRotate by 90 degrees and predict\n",
      "\t\tRotate by 180 degrees and predict\n",
      "\t\tRotate by 270 degrees and predict\n",
      "\tFlipping image: True\n",
      "\t\tRotate by 0 degrees and predict\n",
      "\t\tRotate by 90 degrees and predict\n",
      "\t\tRotate by 180 degrees and predict\n",
      "\t\tRotate by 270 degrees and predict\n",
      "Predicting image 1\n",
      "\tFlipping image: False\n",
      "\t\tRotate by 0 degrees and predict\n",
      "\t\tRotate by 90 degrees and predict\n",
      "\t\tRotate by 180 degrees and predict\n",
      "\t\tRotate by 270 degrees and predict\n",
      "\tFlipping image: True\n",
      "\t\tRotate by 0 degrees and predict\n",
      "\t\tRotate by 90 degrees and predict\n",
      "\t\tRotate by 180 degrees and predict\n",
      "\t\tRotate by 270 degrees and predict\n",
      "Predicting image 2\n",
      "\tFlipping image: False\n",
      "\t\tRotate by 0 degrees and predict\n",
      "\t\tRotate by 90 degrees and predict\n",
      "\t\tRotate by 180 degrees and predict\n",
      "\t\tRotate by 270 degrees and predict\n",
      "\tFlipping image: True\n",
      "\t\tRotate by 0 degrees and predict\n",
      "\t\tRotate by 90 degrees and predict\n",
      "\t\tRotate by 180 degrees and predict\n",
      "\t\tRotate by 270 degrees and predict\n",
      "Predicting image 3\n",
      "\tFlipping image: False\n",
      "\t\tRotate by 0 degrees and predict\n",
      "\t\tRotate by 90 degrees and predict\n",
      "\t\tRotate by 180 degrees and predict\n",
      "\t\tRotate by 270 degrees and predict\n",
      "\tFlipping image: True\n",
      "\t\tRotate by 0 degrees and predict\n",
      "\t\tRotate by 90 degrees and predict\n",
      "\t\tRotate by 180 degrees and predict\n",
      "\t\tRotate by 270 degrees and predict\n",
      "Predicting image 4\n",
      "\tFlipping image: False\n",
      "\t\tRotate by 0 degrees and predict\n",
      "\t\tRotate by 90 degrees and predict\n",
      "\t\tRotate by 180 degrees and predict\n",
      "\t\tRotate by 270 degrees and predict\n",
      "\tFlipping image: True\n",
      "\t\tRotate by 0 degrees and predict\n",
      "\t\tRotate by 90 degrees and predict\n",
      "\t\tRotate by 180 degrees and predict\n",
      "\t\tRotate by 270 degrees and predict\n",
      "Loading 5 images to predict\n",
      "loading image ../dataset/test_set_images/test_21/test_21.png\n",
      "loading image ../dataset/test_set_images/test_22/test_22.png\n",
      "loading image ../dataset/test_set_images/test_23/test_23.png\n",
      "loading image ../dataset/test_set_images/test_24/test_24.png\n",
      "loading image ../dataset/test_set_images/test_25/test_25.png\n",
      "Predicting image 0\n",
      "\tFlipping image: False\n",
      "\t\tRotate by 0 degrees and predict\n",
      "\t\tRotate by 90 degrees and predict\n",
      "\t\tRotate by 180 degrees and predict\n",
      "\t\tRotate by 270 degrees and predict\n",
      "\tFlipping image: True\n",
      "\t\tRotate by 0 degrees and predict\n",
      "\t\tRotate by 90 degrees and predict\n",
      "\t\tRotate by 180 degrees and predict\n",
      "\t\tRotate by 270 degrees and predict\n",
      "Predicting image 1\n",
      "\tFlipping image: False\n",
      "\t\tRotate by 0 degrees and predict\n",
      "\t\tRotate by 90 degrees and predict\n",
      "\t\tRotate by 180 degrees and predict\n",
      "\t\tRotate by 270 degrees and predict\n",
      "\tFlipping image: True\n",
      "\t\tRotate by 0 degrees and predict\n",
      "\t\tRotate by 90 degrees and predict\n",
      "\t\tRotate by 180 degrees and predict\n",
      "\t\tRotate by 270 degrees and predict\n",
      "Predicting image 2\n",
      "\tFlipping image: False\n",
      "\t\tRotate by 0 degrees and predict\n",
      "\t\tRotate by 90 degrees and predict\n",
      "\t\tRotate by 180 degrees and predict\n",
      "\t\tRotate by 270 degrees and predict\n",
      "\tFlipping image: True\n",
      "\t\tRotate by 0 degrees and predict\n",
      "\t\tRotate by 90 degrees and predict\n",
      "\t\tRotate by 180 degrees and predict\n",
      "\t\tRotate by 270 degrees and predict\n",
      "Predicting image 3\n",
      "\tFlipping image: False\n",
      "\t\tRotate by 0 degrees and predict\n",
      "\t\tRotate by 90 degrees and predict\n",
      "\t\tRotate by 180 degrees and predict\n",
      "\t\tRotate by 270 degrees and predict\n",
      "\tFlipping image: True\n",
      "\t\tRotate by 0 degrees and predict\n",
      "\t\tRotate by 90 degrees and predict\n",
      "\t\tRotate by 180 degrees and predict\n",
      "\t\tRotate by 270 degrees and predict\n",
      "Predicting image 4\n",
      "\tFlipping image: False\n",
      "\t\tRotate by 0 degrees and predict\n",
      "\t\tRotate by 90 degrees and predict\n",
      "\t\tRotate by 180 degrees and predict\n",
      "\t\tRotate by 270 degrees and predict\n",
      "\tFlipping image: True\n",
      "\t\tRotate by 0 degrees and predict\n",
      "\t\tRotate by 90 degrees and predict\n",
      "\t\tRotate by 180 degrees and predict\n"
     ]
    },
    {
     "name": "stdout",
     "output_type": "stream",
     "text": [
      "\t\tRotate by 270 degrees and predict\n",
      "Loading 5 images to predict\n",
      "loading image ../dataset/test_set_images/test_26/test_26.png\n",
      "loading image ../dataset/test_set_images/test_27/test_27.png\n",
      "loading image ../dataset/test_set_images/test_28/test_28.png\n",
      "loading image ../dataset/test_set_images/test_29/test_29.png\n",
      "loading image ../dataset/test_set_images/test_30/test_30.png\n",
      "Predicting image 0\n",
      "\tFlipping image: False\n",
      "\t\tRotate by 0 degrees and predict\n",
      "\t\tRotate by 90 degrees and predict\n",
      "\t\tRotate by 180 degrees and predict\n",
      "\t\tRotate by 270 degrees and predict\n",
      "\tFlipping image: True\n",
      "\t\tRotate by 0 degrees and predict\n",
      "\t\tRotate by 90 degrees and predict\n",
      "\t\tRotate by 180 degrees and predict\n",
      "\t\tRotate by 270 degrees and predict\n",
      "Predicting image 1\n",
      "\tFlipping image: False\n",
      "\t\tRotate by 0 degrees and predict\n",
      "\t\tRotate by 90 degrees and predict\n",
      "\t\tRotate by 180 degrees and predict\n",
      "\t\tRotate by 270 degrees and predict\n",
      "\tFlipping image: True\n",
      "\t\tRotate by 0 degrees and predict\n",
      "\t\tRotate by 90 degrees and predict\n",
      "\t\tRotate by 180 degrees and predict\n",
      "\t\tRotate by 270 degrees and predict\n",
      "Predicting image 2\n",
      "\tFlipping image: False\n",
      "\t\tRotate by 0 degrees and predict\n",
      "\t\tRotate by 90 degrees and predict\n",
      "\t\tRotate by 180 degrees and predict\n",
      "\t\tRotate by 270 degrees and predict\n",
      "\tFlipping image: True\n",
      "\t\tRotate by 0 degrees and predict\n",
      "\t\tRotate by 90 degrees and predict\n",
      "\t\tRotate by 180 degrees and predict\n",
      "\t\tRotate by 270 degrees and predict\n",
      "Predicting image 3\n",
      "\tFlipping image: False\n",
      "\t\tRotate by 0 degrees and predict\n",
      "\t\tRotate by 90 degrees and predict\n",
      "\t\tRotate by 180 degrees and predict\n",
      "\t\tRotate by 270 degrees and predict\n",
      "\tFlipping image: True\n",
      "\t\tRotate by 0 degrees and predict\n",
      "\t\tRotate by 90 degrees and predict\n",
      "\t\tRotate by 180 degrees and predict\n",
      "\t\tRotate by 270 degrees and predict\n",
      "Predicting image 4\n",
      "\tFlipping image: False\n",
      "\t\tRotate by 0 degrees and predict\n",
      "\t\tRotate by 90 degrees and predict\n",
      "\t\tRotate by 180 degrees and predict\n",
      "\t\tRotate by 270 degrees and predict\n",
      "\tFlipping image: True\n",
      "\t\tRotate by 0 degrees and predict\n",
      "\t\tRotate by 90 degrees and predict\n",
      "\t\tRotate by 180 degrees and predict\n",
      "\t\tRotate by 270 degrees and predict\n",
      "Loading 5 images to predict\n",
      "loading image ../dataset/test_set_images/test_31/test_31.png\n",
      "loading image ../dataset/test_set_images/test_32/test_32.png\n",
      "loading image ../dataset/test_set_images/test_33/test_33.png\n",
      "loading image ../dataset/test_set_images/test_34/test_34.png\n",
      "loading image ../dataset/test_set_images/test_35/test_35.png\n",
      "Predicting image 0\n",
      "\tFlipping image: False\n",
      "\t\tRotate by 0 degrees and predict\n",
      "\t\tRotate by 90 degrees and predict\n",
      "\t\tRotate by 180 degrees and predict\n",
      "\t\tRotate by 270 degrees and predict\n",
      "\tFlipping image: True\n",
      "\t\tRotate by 0 degrees and predict\n",
      "\t\tRotate by 90 degrees and predict\n",
      "\t\tRotate by 180 degrees and predict\n",
      "\t\tRotate by 270 degrees and predict\n",
      "Predicting image 1\n",
      "\tFlipping image: False\n",
      "\t\tRotate by 0 degrees and predict\n",
      "\t\tRotate by 90 degrees and predict\n",
      "\t\tRotate by 180 degrees and predict\n",
      "\t\tRotate by 270 degrees and predict\n",
      "\tFlipping image: True\n",
      "\t\tRotate by 0 degrees and predict\n",
      "\t\tRotate by 90 degrees and predict\n",
      "\t\tRotate by 180 degrees and predict\n",
      "\t\tRotate by 270 degrees and predict\n",
      "Predicting image 2\n",
      "\tFlipping image: False\n",
      "\t\tRotate by 0 degrees and predict\n",
      "\t\tRotate by 90 degrees and predict\n",
      "\t\tRotate by 180 degrees and predict\n",
      "\t\tRotate by 270 degrees and predict\n",
      "\tFlipping image: True\n",
      "\t\tRotate by 0 degrees and predict\n",
      "\t\tRotate by 90 degrees and predict\n",
      "\t\tRotate by 180 degrees and predict\n",
      "\t\tRotate by 270 degrees and predict\n",
      "Predicting image 3\n",
      "\tFlipping image: False\n",
      "\t\tRotate by 0 degrees and predict\n",
      "\t\tRotate by 90 degrees and predict\n",
      "\t\tRotate by 180 degrees and predict\n",
      "\t\tRotate by 270 degrees and predict\n",
      "\tFlipping image: True\n",
      "\t\tRotate by 0 degrees and predict\n",
      "\t\tRotate by 90 degrees and predict\n",
      "\t\tRotate by 180 degrees and predict\n",
      "\t\tRotate by 270 degrees and predict\n",
      "Predicting image 4\n",
      "\tFlipping image: False\n",
      "\t\tRotate by 0 degrees and predict\n",
      "\t\tRotate by 90 degrees and predict\n",
      "\t\tRotate by 180 degrees and predict\n",
      "\t\tRotate by 270 degrees and predict\n",
      "\tFlipping image: True\n",
      "\t\tRotate by 0 degrees and predict\n",
      "\t\tRotate by 90 degrees and predict\n",
      "\t\tRotate by 180 degrees and predict\n",
      "\t\tRotate by 270 degrees and predict\n",
      "Loading 5 images to predict\n",
      "loading image ../dataset/test_set_images/test_36/test_36.png\n",
      "loading image ../dataset/test_set_images/test_37/test_37.png\n",
      "loading image ../dataset/test_set_images/test_38/test_38.png\n",
      "loading image ../dataset/test_set_images/test_39/test_39.png\n",
      "loading image ../dataset/test_set_images/test_40/test_40.png\n",
      "Predicting image 0\n",
      "\tFlipping image: False\n",
      "\t\tRotate by 0 degrees and predict\n",
      "\t\tRotate by 90 degrees and predict\n",
      "\t\tRotate by 180 degrees and predict\n",
      "\t\tRotate by 270 degrees and predict\n",
      "\tFlipping image: True\n",
      "\t\tRotate by 0 degrees and predict\n",
      "\t\tRotate by 90 degrees and predict\n",
      "\t\tRotate by 180 degrees and predict\n",
      "\t\tRotate by 270 degrees and predict\n",
      "Predicting image 1\n",
      "\tFlipping image: False\n",
      "\t\tRotate by 0 degrees and predict\n",
      "\t\tRotate by 90 degrees and predict\n",
      "\t\tRotate by 180 degrees and predict\n",
      "\t\tRotate by 270 degrees and predict\n",
      "\tFlipping image: True\n",
      "\t\tRotate by 0 degrees and predict\n",
      "\t\tRotate by 90 degrees and predict\n",
      "\t\tRotate by 180 degrees and predict\n",
      "\t\tRotate by 270 degrees and predict\n",
      "Predicting image 2\n",
      "\tFlipping image: False\n",
      "\t\tRotate by 0 degrees and predict\n",
      "\t\tRotate by 90 degrees and predict\n",
      "\t\tRotate by 180 degrees and predict\n",
      "\t\tRotate by 270 degrees and predict\n",
      "\tFlipping image: True\n",
      "\t\tRotate by 0 degrees and predict\n",
      "\t\tRotate by 90 degrees and predict\n",
      "\t\tRotate by 180 degrees and predict\n",
      "\t\tRotate by 270 degrees and predict\n",
      "Predicting image 3\n",
      "\tFlipping image: False\n",
      "\t\tRotate by 0 degrees and predict\n",
      "\t\tRotate by 90 degrees and predict\n",
      "\t\tRotate by 180 degrees and predict\n",
      "\t\tRotate by 270 degrees and predict\n",
      "\tFlipping image: True\n",
      "\t\tRotate by 0 degrees and predict\n",
      "\t\tRotate by 90 degrees and predict\n",
      "\t\tRotate by 180 degrees and predict\n",
      "\t\tRotate by 270 degrees and predict\n",
      "Predicting image 4\n",
      "\tFlipping image: False\n",
      "\t\tRotate by 0 degrees and predict\n",
      "\t\tRotate by 90 degrees and predict\n",
      "\t\tRotate by 180 degrees and predict\n",
      "\t\tRotate by 270 degrees and predict\n",
      "\tFlipping image: True\n",
      "\t\tRotate by 0 degrees and predict\n",
      "\t\tRotate by 90 degrees and predict\n",
      "\t\tRotate by 180 degrees and predict\n",
      "\t\tRotate by 270 degrees and predict\n",
      "Loading 5 images to predict\n",
      "loading image ../dataset/test_set_images/test_41/test_41.png\n",
      "loading image ../dataset/test_set_images/test_42/test_42.png\n",
      "loading image ../dataset/test_set_images/test_43/test_43.png\n",
      "loading image ../dataset/test_set_images/test_44/test_44.png\n",
      "loading image ../dataset/test_set_images/test_45/test_45.png\n",
      "Predicting image 0\n",
      "\tFlipping image: False\n",
      "\t\tRotate by 0 degrees and predict\n",
      "\t\tRotate by 90 degrees and predict\n",
      "\t\tRotate by 180 degrees and predict\n",
      "\t\tRotate by 270 degrees and predict\n",
      "\tFlipping image: True\n",
      "\t\tRotate by 0 degrees and predict\n",
      "\t\tRotate by 90 degrees and predict\n",
      "\t\tRotate by 180 degrees and predict\n",
      "\t\tRotate by 270 degrees and predict\n",
      "Predicting image 1\n",
      "\tFlipping image: False\n",
      "\t\tRotate by 0 degrees and predict\n",
      "\t\tRotate by 90 degrees and predict\n",
      "\t\tRotate by 180 degrees and predict\n",
      "\t\tRotate by 270 degrees and predict\n",
      "\tFlipping image: True\n",
      "\t\tRotate by 0 degrees and predict\n",
      "\t\tRotate by 90 degrees and predict\n",
      "\t\tRotate by 180 degrees and predict\n",
      "\t\tRotate by 270 degrees and predict\n",
      "Predicting image 2\n",
      "\tFlipping image: False\n",
      "\t\tRotate by 0 degrees and predict\n",
      "\t\tRotate by 90 degrees and predict\n",
      "\t\tRotate by 180 degrees and predict\n",
      "\t\tRotate by 270 degrees and predict\n",
      "\tFlipping image: True\n",
      "\t\tRotate by 0 degrees and predict\n",
      "\t\tRotate by 90 degrees and predict\n",
      "\t\tRotate by 180 degrees and predict\n",
      "\t\tRotate by 270 degrees and predict\n",
      "Predicting image 3\n",
      "\tFlipping image: False\n",
      "\t\tRotate by 0 degrees and predict\n",
      "\t\tRotate by 90 degrees and predict\n",
      "\t\tRotate by 180 degrees and predict\n",
      "\t\tRotate by 270 degrees and predict\n",
      "\tFlipping image: True\n",
      "\t\tRotate by 0 degrees and predict\n",
      "\t\tRotate by 90 degrees and predict\n",
      "\t\tRotate by 180 degrees and predict\n",
      "\t\tRotate by 270 degrees and predict\n",
      "Predicting image 4\n",
      "\tFlipping image: False\n",
      "\t\tRotate by 0 degrees and predict\n",
      "\t\tRotate by 90 degrees and predict\n",
      "\t\tRotate by 180 degrees and predict\n",
      "\t\tRotate by 270 degrees and predict\n",
      "\tFlipping image: True\n",
      "\t\tRotate by 0 degrees and predict\n",
      "\t\tRotate by 90 degrees and predict\n"
     ]
    },
    {
     "name": "stdout",
     "output_type": "stream",
     "text": [
      "\t\tRotate by 180 degrees and predict\n",
      "\t\tRotate by 270 degrees and predict\n",
      "Loading 5 images to predict\n",
      "loading image ../dataset/test_set_images/test_46/test_46.png\n",
      "loading image ../dataset/test_set_images/test_47/test_47.png\n",
      "loading image ../dataset/test_set_images/test_48/test_48.png\n",
      "loading image ../dataset/test_set_images/test_49/test_49.png\n",
      "loading image ../dataset/test_set_images/test_50/test_50.png\n",
      "Predicting image 0\n",
      "\tFlipping image: False\n",
      "\t\tRotate by 0 degrees and predict\n",
      "\t\tRotate by 90 degrees and predict\n",
      "\t\tRotate by 180 degrees and predict\n",
      "\t\tRotate by 270 degrees and predict\n",
      "\tFlipping image: True\n",
      "\t\tRotate by 0 degrees and predict\n",
      "\t\tRotate by 90 degrees and predict\n",
      "\t\tRotate by 180 degrees and predict\n",
      "\t\tRotate by 270 degrees and predict\n",
      "Predicting image 1\n",
      "\tFlipping image: False\n",
      "\t\tRotate by 0 degrees and predict\n",
      "\t\tRotate by 90 degrees and predict\n",
      "\t\tRotate by 180 degrees and predict\n",
      "\t\tRotate by 270 degrees and predict\n",
      "\tFlipping image: True\n",
      "\t\tRotate by 0 degrees and predict\n",
      "\t\tRotate by 90 degrees and predict\n",
      "\t\tRotate by 180 degrees and predict\n",
      "\t\tRotate by 270 degrees and predict\n",
      "Predicting image 2\n",
      "\tFlipping image: False\n",
      "\t\tRotate by 0 degrees and predict\n",
      "\t\tRotate by 90 degrees and predict\n",
      "\t\tRotate by 180 degrees and predict\n",
      "\t\tRotate by 270 degrees and predict\n",
      "\tFlipping image: True\n",
      "\t\tRotate by 0 degrees and predict\n",
      "\t\tRotate by 90 degrees and predict\n",
      "\t\tRotate by 180 degrees and predict\n",
      "\t\tRotate by 270 degrees and predict\n",
      "Predicting image 3\n",
      "\tFlipping image: False\n",
      "\t\tRotate by 0 degrees and predict\n",
      "\t\tRotate by 90 degrees and predict\n",
      "\t\tRotate by 180 degrees and predict\n",
      "\t\tRotate by 270 degrees and predict\n",
      "\tFlipping image: True\n",
      "\t\tRotate by 0 degrees and predict\n",
      "\t\tRotate by 90 degrees and predict\n",
      "\t\tRotate by 180 degrees and predict\n",
      "\t\tRotate by 270 degrees and predict\n",
      "Predicting image 4\n",
      "\tFlipping image: False\n",
      "\t\tRotate by 0 degrees and predict\n",
      "\t\tRotate by 90 degrees and predict\n",
      "\t\tRotate by 180 degrees and predict\n",
      "\t\tRotate by 270 degrees and predict\n",
      "\tFlipping image: True\n",
      "\t\tRotate by 0 degrees and predict\n",
      "\t\tRotate by 90 degrees and predict\n",
      "\t\tRotate by 180 degrees and predict\n",
      "\t\tRotate by 270 degrees and predict\n"
     ]
    }
   ],
   "source": [
    "model.predict_augmented_and_export()"
   ]
  },
  {
   "cell_type": "markdown",
   "metadata": {},
   "source": [
    "### - Others"
   ]
  },
  {
   "cell_type": "code",
   "execution_count": null,
   "metadata": {},
   "outputs": [],
   "source": [
    "# some callbacks example: \n",
    "\n",
    "# create a list of callbacks we want to use during training\n",
    "# # a callback to store epoch results to a csv file\n",
    "# filename='model_train_new.csv'\n",
    "# csv_log = callbacks.CSVLogger(filename, separator=',', append=False)\n",
    "\n",
    "# # a callback to stob before doing the predefined number of epochs (stop before overfitting the data)\n",
    "# early_stopping = callbacks.EarlyStopping(monitor='val_loss', min_delta=0, patience=0, verbose=0, mode='min')\n",
    "\n",
    "# # a callback to save the best model (best model = the one with the lowest 'monitor' variable)\n",
    "# filepath = \"best-weights-{epoch:03d}-{loss:.4f}-{acc:.4f}.hdf5\"\n",
    "# checkpoint = callbacks.ModelCheckpoint(filepath, monitor='val_loss', verbose=1, save_best_only=True, mode='min')\n",
    "\n",
    "# # callbacks_list = [csv_log,early_stopping,checkpoint]\n",
    "\n",
    "print(\n",
    "    \"-get configurations:\", \"\\n\",\n",
    "    model.get_config(), \"\\n\",\n",
    "    model.layers[0].get_config(), \"\\n\",\n",
    "\n",
    "    \"\\n-get shapes\", \"\\n\",\n",
    "    model.layers[0].input_shape, \"\\n\",\n",
    "    model.layers[0].output_shape, \"\\n\",\n",
    "    \n",
    "    \"\\n-get weights\", \"\\n\",\n",
    "    model.layers[0].get_weights()[0].shape, \"\\n\",\n",
    "    \n",
    "    \"\\n-check if trainable\", \"\\n\",\n",
    "    model.layers[0].trainable, \"\\n\", # you can set this to false to \"freeze\" a layer\n",
    ")"
   ]
  },
  {
   "cell_type": "code",
   "execution_count": null,
   "metadata": {},
   "outputs": [],
   "source": [
    "from IPython.core.debugger import Pdb\n",
    "debugger = Pdb()\n",
    "debugger.set_trace() # put this line as a breakpoint"
   ]
  },
  {
   "cell_type": "markdown",
   "metadata": {},
   "source": [
    "Test batch generation"
   ]
  },
  {
   "cell_type": "code",
   "execution_count": null,
   "metadata": {},
   "outputs": [],
   "source": [
    "gen1, gen2 = image_generators(X, Y) "
   ]
  },
  {
   "cell_type": "code",
   "execution_count": null,
   "metadata": {},
   "outputs": [],
   "source": [
    "from cnn_models import batches_generator\n",
    "j = 0\n",
    "x_batches = []\n",
    "y_batches = []\n",
    "\n",
    "for x, y in batches_generator(X[:4], Y[:4], batch_size = 4):\n",
    "    j += 1\n",
    "    if j > 10:\n",
    "        break\n",
    "    x_batches.append(x)\n",
    "    y_batches.append(y)"
   ]
  },
  {
   "cell_type": "code",
   "execution_count": null,
   "metadata": {},
   "outputs": [],
   "source": [
    "np.array(x_batches).shape, np.array(y_batches).shape"
   ]
  },
  {
   "cell_type": "code",
   "execution_count": null,
   "metadata": {},
   "outputs": [],
   "source": [
    "b = 0\n",
    "i = -1"
   ]
  },
  {
   "cell_type": "code",
   "execution_count": null,
   "metadata": {},
   "outputs": [],
   "source": [
    "i += 1\n",
    "if i >= x_batches[0].shape[0]:\n",
    "    i = 0\n",
    "    b += 1\n",
    "print(\"Batch\", str(b) + \". Image\", i)\n",
    "fig, axs = plt.subplots(1, 2)\n",
    "fig.set_size_inches((20, 10))\n",
    "axs[0].imshow(x_batches[b][i], cmap='gray')\n",
    "axs[1].imshow(y_batches[b][i][:, :, 1], cmap='gray')"
   ]
  },
  {
   "cell_type": "markdown",
   "metadata": {},
   "source": [
    "Test set predictions probabilities"
   ]
  },
  {
   "cell_type": "code",
   "execution_count": 11,
   "metadata": {},
   "outputs": [
    {
     "name": "stdout",
     "output_type": "stream",
     "text": [
      "Loading 50 images to predict\n",
      "loading image ../dataset/test_set_images/test_1/test_1.png\n",
      "loading image ../dataset/test_set_images/test_2/test_2.png\n",
      "loading image ../dataset/test_set_images/test_3/test_3.png\n",
      "loading image ../dataset/test_set_images/test_4/test_4.png\n",
      "loading image ../dataset/test_set_images/test_5/test_5.png\n",
      "loading image ../dataset/test_set_images/test_6/test_6.png\n",
      "loading image ../dataset/test_set_images/test_7/test_7.png\n",
      "loading image ../dataset/test_set_images/test_8/test_8.png\n",
      "loading image ../dataset/test_set_images/test_9/test_9.png\n",
      "loading image ../dataset/test_set_images/test_10/test_10.png\n",
      "loading image ../dataset/test_set_images/test_11/test_11.png\n",
      "loading image ../dataset/test_set_images/test_12/test_12.png\n",
      "loading image ../dataset/test_set_images/test_13/test_13.png\n",
      "loading image ../dataset/test_set_images/test_14/test_14.png\n",
      "loading image ../dataset/test_set_images/test_15/test_15.png\n",
      "loading image ../dataset/test_set_images/test_16/test_16.png\n",
      "loading image ../dataset/test_set_images/test_17/test_17.png\n",
      "loading image ../dataset/test_set_images/test_18/test_18.png\n",
      "loading image ../dataset/test_set_images/test_19/test_19.png\n",
      "loading image ../dataset/test_set_images/test_20/test_20.png\n",
      "loading image ../dataset/test_set_images/test_21/test_21.png\n",
      "loading image ../dataset/test_set_images/test_22/test_22.png\n",
      "loading image ../dataset/test_set_images/test_23/test_23.png\n",
      "loading image ../dataset/test_set_images/test_24/test_24.png\n",
      "loading image ../dataset/test_set_images/test_25/test_25.png\n",
      "loading image ../dataset/test_set_images/test_26/test_26.png\n",
      "loading image ../dataset/test_set_images/test_27/test_27.png\n",
      "loading image ../dataset/test_set_images/test_28/test_28.png\n",
      "loading image ../dataset/test_set_images/test_29/test_29.png\n",
      "loading image ../dataset/test_set_images/test_30/test_30.png\n",
      "loading image ../dataset/test_set_images/test_31/test_31.png\n",
      "loading image ../dataset/test_set_images/test_32/test_32.png\n",
      "loading image ../dataset/test_set_images/test_33/test_33.png\n",
      "loading image ../dataset/test_set_images/test_34/test_34.png\n",
      "loading image ../dataset/test_set_images/test_35/test_35.png\n",
      "loading image ../dataset/test_set_images/test_36/test_36.png\n",
      "loading image ../dataset/test_set_images/test_37/test_37.png\n",
      "loading image ../dataset/test_set_images/test_38/test_38.png\n",
      "loading image ../dataset/test_set_images/test_39/test_39.png\n",
      "loading image ../dataset/test_set_images/test_40/test_40.png\n",
      "loading image ../dataset/test_set_images/test_41/test_41.png\n",
      "loading image ../dataset/test_set_images/test_42/test_42.png\n",
      "loading image ../dataset/test_set_images/test_43/test_43.png\n",
      "loading image ../dataset/test_set_images/test_44/test_44.png\n",
      "loading image ../dataset/test_set_images/test_45/test_45.png\n",
      "loading image ../dataset/test_set_images/test_46/test_46.png\n",
      "loading image ../dataset/test_set_images/test_47/test_47.png\n",
      "loading image ../dataset/test_set_images/test_48/test_48.png\n",
      "loading image ../dataset/test_set_images/test_49/test_49.png\n",
      "loading image ../dataset/test_set_images/test_50/test_50.png\n"
     ]
    },
    {
     "data": {
      "text/plain": [
       "(50, 608, 608, 3)"
      ]
     },
     "execution_count": 11,
     "metadata": {},
     "output_type": "execute_result"
    }
   ],
   "source": [
    "images = load_images_to_predict(0,50)\n",
    "images.shape"
   ]
  },
  {
   "cell_type": "code",
   "execution_count": 21,
   "metadata": {},
   "outputs": [
    {
     "data": {
      "text/plain": [
       "(100, 50, 50, 2)"
      ]
     },
     "execution_count": 21,
     "metadata": {},
     "output_type": "execute_result"
    }
   ],
   "source": [
    "predictions = model.model.predict(imgs)\n",
    "predictions.shape"
   ]
  },
  {
   "cell_type": "code",
   "execution_count": 29,
   "metadata": {},
   "outputs": [
    {
     "data": {
      "text/plain": [
       "array([[[[  9.97870445e-01,   2.12955242e-03],\n",
       "         [  9.99709070e-01,   2.90950091e-04],\n",
       "         [  9.99998927e-01,   1.08060192e-06],\n",
       "         ..., \n",
       "         [  1.00000000e+00,   5.61223406e-15],\n",
       "         [  1.00000000e+00,   3.00612513e-09],\n",
       "         [  9.99998331e-01,   1.68599684e-06]],\n",
       "\n",
       "        [[  9.99892831e-01,   1.07153508e-04],\n",
       "         [  9.99999762e-01,   2.85821613e-07],\n",
       "         [  1.00000000e+00,   8.17416447e-12],\n",
       "         ..., \n",
       "         [  1.00000000e+00,   9.84362539e-21],\n",
       "         [  1.00000000e+00,   4.20563931e-11],\n",
       "         [  9.99998212e-01,   1.80783786e-06]],\n",
       "\n",
       "        [[  1.00000000e+00,   3.97595290e-11],\n",
       "         [  1.00000000e+00,   1.74532223e-13],\n",
       "         [  1.00000000e+00,   4.78052201e-20],\n",
       "         ..., \n",
       "         [  1.00000000e+00,   2.89536479e-21],\n",
       "         [  1.00000000e+00,   1.88500215e-10],\n",
       "         [  9.99997377e-01,   2.58120053e-06]],\n",
       "\n",
       "        ..., \n",
       "        [[  1.00000000e+00,   3.26039670e-18],\n",
       "         [  1.00000000e+00,   8.26583864e-26],\n",
       "         [  1.00000000e+00,   1.58212112e-31],\n",
       "         ..., \n",
       "         [  1.00000000e+00,   4.36304712e-31],\n",
       "         [  1.00000000e+00,   4.46366846e-24],\n",
       "         [  1.00000000e+00,   5.46080447e-14]],\n",
       "\n",
       "        [[  1.00000000e+00,   1.06515628e-23],\n",
       "         [  1.00000000e+00,   1.21286800e-33],\n",
       "         [  1.00000000e+00,   0.00000000e+00],\n",
       "         ..., \n",
       "         [  1.00000000e+00,   4.42082387e-19],\n",
       "         [  1.00000000e+00,   6.53164851e-15],\n",
       "         [  9.99999881e-01,   9.77489307e-08]],\n",
       "\n",
       "        [[  1.00000000e+00,   1.05040353e-13],\n",
       "         [  1.00000000e+00,   2.20104282e-18],\n",
       "         [  1.00000000e+00,   2.96266534e-24],\n",
       "         ..., \n",
       "         [  1.00000000e+00,   5.06735004e-15],\n",
       "         [  1.00000000e+00,   1.77408505e-10],\n",
       "         [  9.99889374e-01,   1.10597459e-04]]],\n",
       "\n",
       "\n",
       "       [[[  1.00000000e+00,   4.56492103e-13],\n",
       "         [  1.00000000e+00,   4.22036429e-13],\n",
       "         [  1.00000000e+00,   1.12948245e-11],\n",
       "         ..., \n",
       "         [  4.74421367e-17,   1.00000000e+00],\n",
       "         [  1.29177891e-10,   1.00000000e+00],\n",
       "         [  8.53032649e-01,   1.46967337e-01]],\n",
       "\n",
       "        [[  1.00000000e+00,   4.86008273e-21],\n",
       "         [  1.00000000e+00,   3.69165272e-26],\n",
       "         [  1.00000000e+00,   5.17609850e-28],\n",
       "         ..., \n",
       "         [  5.12919096e-24,   1.00000000e+00],\n",
       "         [  1.20002580e-14,   1.00000000e+00],\n",
       "         [  9.22216535e-01,   7.77834952e-02]],\n",
       "\n",
       "        [[  1.00000000e+00,   7.57153039e-22],\n",
       "         [  1.00000000e+00,   1.89558576e-27],\n",
       "         [  1.00000000e+00,   2.28226791e-28],\n",
       "         ..., \n",
       "         [  4.88682725e-24,   1.00000000e+00],\n",
       "         [  7.89184303e-16,   1.00000000e+00],\n",
       "         [  9.72199082e-01,   2.78009772e-02]],\n",
       "\n",
       "        ..., \n",
       "        [[  9.99999404e-01,   5.87367651e-07],\n",
       "         [  1.00000000e+00,   4.63989784e-12],\n",
       "         [  1.00000000e+00,   1.81457280e-11],\n",
       "         ..., \n",
       "         [  1.07568028e-13,   1.00000000e+00],\n",
       "         [  1.35784687e-23,   1.00000000e+00],\n",
       "         [  1.21120047e-08,   1.00000000e+00]],\n",
       "\n",
       "        [[  9.97399449e-01,   2.60060024e-03],\n",
       "         [  9.99993205e-01,   6.82635800e-06],\n",
       "         [  9.99833465e-01,   1.66555561e-04],\n",
       "         ..., \n",
       "         [  2.15266390e-12,   1.00000000e+00],\n",
       "         [  9.43469799e-19,   1.00000000e+00],\n",
       "         [  2.89540640e-06,   9.99997139e-01]],\n",
       "\n",
       "        [[  9.98761535e-01,   1.23843446e-03],\n",
       "         [  9.99967098e-01,   3.28614515e-05],\n",
       "         [  9.99986172e-01,   1.38772957e-05],\n",
       "         ..., \n",
       "         [  1.68971870e-09,   1.00000000e+00],\n",
       "         [  4.66950155e-14,   1.00000000e+00],\n",
       "         [  4.66153258e-03,   9.95338440e-01]]],\n",
       "\n",
       "\n",
       "       [[[  4.37471428e-08,   1.00000000e+00],\n",
       "         [  2.75515708e-06,   9.99997258e-01],\n",
       "         [  1.02388374e-04,   9.99897599e-01],\n",
       "         ..., \n",
       "         [  1.00000000e+00,   1.59123381e-08],\n",
       "         [  9.97272313e-01,   2.72764522e-03],\n",
       "         [  9.64872718e-01,   3.51272970e-02]],\n",
       "\n",
       "        [[  9.19438744e-12,   1.00000000e+00],\n",
       "         [  1.78096149e-09,   1.00000000e+00],\n",
       "         [  5.59646151e-06,   9.99994397e-01],\n",
       "         ..., \n",
       "         [  1.00000000e+00,   1.27084787e-09],\n",
       "         [  9.94868159e-01,   5.13182441e-03],\n",
       "         [  9.22870517e-01,   7.71294907e-02]],\n",
       "\n",
       "        [[  1.00961596e-17,   1.00000000e+00],\n",
       "         [  1.31046866e-13,   1.00000000e+00],\n",
       "         [  2.36964840e-11,   1.00000000e+00],\n",
       "         ..., \n",
       "         [  1.00000000e+00,   3.38649819e-09],\n",
       "         [  9.97495830e-01,   2.50413362e-03],\n",
       "         [  9.80933309e-01,   1.90667156e-02]],\n",
       "\n",
       "        ..., \n",
       "        [[  3.10463756e-01,   6.89536214e-01],\n",
       "         [  2.21254161e-11,   1.00000000e+00],\n",
       "         [  8.32806963e-17,   1.00000000e+00],\n",
       "         ..., \n",
       "         [  1.00000000e+00,   0.00000000e+00],\n",
       "         [  1.00000000e+00,   3.21006615e-35],\n",
       "         [  1.00000000e+00,   1.24043548e-21]],\n",
       "\n",
       "        [[  4.07706141e-01,   5.92293859e-01],\n",
       "         [  1.86617899e-09,   1.00000000e+00],\n",
       "         [  1.41895653e-12,   1.00000000e+00],\n",
       "         ..., \n",
       "         [  1.00000000e+00,   0.00000000e+00],\n",
       "         [  1.00000000e+00,   3.55333511e-31],\n",
       "         [  1.00000000e+00,   2.59451972e-19]],\n",
       "\n",
       "        [[  5.73221266e-01,   4.26778764e-01],\n",
       "         [  1.01026008e-05,   9.99989867e-01],\n",
       "         [  7.72639979e-08,   9.99999881e-01],\n",
       "         ..., \n",
       "         [  1.00000000e+00,   3.33992005e-32],\n",
       "         [  1.00000000e+00,   1.75534968e-22],\n",
       "         [  1.00000000e+00,   3.02297315e-12]]],\n",
       "\n",
       "\n",
       "       ..., \n",
       "       [[[  1.00000000e+00,   4.64538878e-08],\n",
       "         [  1.00000000e+00,   4.45554238e-14],\n",
       "         [  1.00000000e+00,   3.27508614e-15],\n",
       "         ..., \n",
       "         [  1.00000000e+00,   2.72085888e-27],\n",
       "         [  1.00000000e+00,   1.81608812e-20],\n",
       "         [  1.00000000e+00,   2.05600063e-18]],\n",
       "\n",
       "        [[  1.00000000e+00,   6.92506436e-13],\n",
       "         [  1.00000000e+00,   7.29487432e-21],\n",
       "         [  1.00000000e+00,   8.99453209e-23],\n",
       "         ..., \n",
       "         [  1.00000000e+00,   0.00000000e+00],\n",
       "         [  1.00000000e+00,   5.81348913e-31],\n",
       "         [  1.00000000e+00,   5.54389106e-29]],\n",
       "\n",
       "        [[  1.00000000e+00,   9.37422215e-17],\n",
       "         [  1.00000000e+00,   1.59812588e-27],\n",
       "         [  1.00000000e+00,   1.69366298e-30],\n",
       "         ..., \n",
       "         [  1.00000000e+00,   2.73857822e-37],\n",
       "         [  1.00000000e+00,   1.03033012e-25],\n",
       "         [  1.00000000e+00,   6.77549920e-26]],\n",
       "\n",
       "        ..., \n",
       "        [[  8.81205916e-01,   1.18794098e-01],\n",
       "         [  9.81011868e-01,   1.89880896e-02],\n",
       "         [  9.97698367e-01,   2.30158120e-03],\n",
       "         ..., \n",
       "         [  9.45925236e-01,   5.40747419e-02],\n",
       "         [  9.51210678e-01,   4.87893298e-02],\n",
       "         [  9.17450726e-01,   8.25492665e-02]],\n",
       "\n",
       "        [[  8.48004222e-01,   1.51995793e-01],\n",
       "         [  9.23786819e-01,   7.62131810e-02],\n",
       "         [  9.87928987e-01,   1.20710433e-02],\n",
       "         ..., \n",
       "         [  5.68366349e-01,   4.31633592e-01],\n",
       "         [  5.36190927e-01,   4.63809073e-01],\n",
       "         [  2.87058055e-01,   7.12942004e-01]],\n",
       "\n",
       "        [[  9.87395048e-02,   9.01260495e-01],\n",
       "         [  2.95322295e-02,   9.70467806e-01],\n",
       "         [  1.56955738e-02,   9.84304368e-01],\n",
       "         ..., \n",
       "         [  3.59579265e-01,   6.40420675e-01],\n",
       "         [  3.58884871e-01,   6.41115129e-01],\n",
       "         [  3.03216457e-01,   6.96783483e-01]]],\n",
       "\n",
       "\n",
       "       [[[  1.69471161e-06,   9.99998331e-01],\n",
       "         [  1.96954589e-02,   9.80304539e-01],\n",
       "         [  7.78436303e-01,   2.21563682e-01],\n",
       "         ..., \n",
       "         [  1.00000000e+00,   9.27757389e-15],\n",
       "         [  1.00000000e+00,   5.43005311e-13],\n",
       "         [  9.99111235e-01,   8.88750306e-04]],\n",
       "\n",
       "        [[  6.34554596e-08,   9.99999881e-01],\n",
       "         [  1.02140810e-02,   9.89785910e-01],\n",
       "         [  9.24195051e-01,   7.58049861e-02],\n",
       "         ..., \n",
       "         [  1.00000000e+00,   6.27550778e-23],\n",
       "         [  1.00000000e+00,   5.48861608e-20],\n",
       "         [  1.00000000e+00,   2.89596236e-09]],\n",
       "\n",
       "        [[  6.90661395e-08,   9.99999881e-01],\n",
       "         [  1.12723792e-02,   9.88727570e-01],\n",
       "         [  9.79670525e-01,   2.03294661e-02],\n",
       "         ..., \n",
       "         [  1.00000000e+00,   8.95809215e-32],\n",
       "         [  1.00000000e+00,   4.38568145e-28],\n",
       "         [  1.00000000e+00,   1.41499646e-13]],\n",
       "\n",
       "        ..., \n",
       "        [[  1.68830045e-02,   9.83116984e-01],\n",
       "         [  9.99641299e-01,   3.58743127e-04],\n",
       "         [  1.00000000e+00,   4.25420883e-33],\n",
       "         ..., \n",
       "         [  1.24048144e-02,   9.87595201e-01],\n",
       "         [  2.97455443e-03,   9.97025430e-01],\n",
       "         [  1.08570177e-02,   9.89142954e-01]],\n",
       "\n",
       "        [[  3.24813686e-02,   9.67518628e-01],\n",
       "         [  9.95637476e-01,   4.36250819e-03],\n",
       "         [  1.00000000e+00,   7.79187325e-23],\n",
       "         ..., \n",
       "         [  9.25244093e-01,   7.47559443e-02],\n",
       "         [  1.84094593e-01,   8.15905392e-01],\n",
       "         [  6.37837052e-02,   9.36216354e-01]],\n",
       "\n",
       "        [[  1.31844401e-01,   8.68155599e-01],\n",
       "         [  9.84922409e-01,   1.50776068e-02],\n",
       "         [  1.00000000e+00,   1.86975986e-20],\n",
       "         ..., \n",
       "         [  9.64483202e-01,   3.55168320e-02],\n",
       "         [  4.04304951e-01,   5.95695019e-01],\n",
       "         [  1.23517334e-01,   8.76482666e-01]]],\n",
       "\n",
       "\n",
       "       [[[  9.99651432e-01,   3.48572677e-04],\n",
       "         [  1.00000000e+00,   8.29208369e-11],\n",
       "         [  1.00000000e+00,   2.56928631e-19],\n",
       "         ..., \n",
       "         [  1.00000000e+00,   3.56065648e-08],\n",
       "         [  1.00000000e+00,   2.00834531e-08],\n",
       "         [  9.99974489e-01,   2.55132691e-05]],\n",
       "\n",
       "        [[  1.00000000e+00,   2.16934578e-11],\n",
       "         [  1.00000000e+00,   1.16978795e-22],\n",
       "         [  1.00000000e+00,   1.44313697e-34],\n",
       "         ..., \n",
       "         [  1.00000000e+00,   6.55131616e-10],\n",
       "         [  1.00000000e+00,   2.11362550e-09],\n",
       "         [  9.99673843e-01,   3.26214591e-04]],\n",
       "\n",
       "        [[  1.00000000e+00,   3.80486793e-14],\n",
       "         [  1.00000000e+00,   3.31399671e-29],\n",
       "         [  1.00000000e+00,   0.00000000e+00],\n",
       "         ..., \n",
       "         [  1.00000000e+00,   1.47615774e-11],\n",
       "         [  1.00000000e+00,   1.94818188e-08],\n",
       "         [  9.95705187e-01,   4.29484248e-03]],\n",
       "\n",
       "        ..., \n",
       "        [[  9.86833870e-01,   1.31661380e-02],\n",
       "         [  9.99784648e-01,   2.15306514e-04],\n",
       "         [  9.99944568e-01,   5.53758000e-05],\n",
       "         ..., \n",
       "         [  4.95979984e-05,   9.99950409e-01],\n",
       "         [  1.73951368e-04,   9.99826133e-01],\n",
       "         [  9.92155052e-04,   9.99007881e-01]],\n",
       "\n",
       "        [[  1.53552920e-01,   8.46447110e-01],\n",
       "         [  3.64583880e-01,   6.35416090e-01],\n",
       "         [  1.55078799e-01,   8.44921231e-01],\n",
       "         ..., \n",
       "         [  6.87005469e-18,   1.00000000e+00],\n",
       "         [  4.83965658e-14,   1.00000000e+00],\n",
       "         [  5.50671686e-08,   1.00000000e+00]],\n",
       "\n",
       "        [[  9.51150898e-04,   9.99048889e-01],\n",
       "         [  2.79767031e-04,   9.99720156e-01],\n",
       "         [  1.80500699e-08,   1.00000000e+00],\n",
       "         ..., \n",
       "         [  9.82727945e-01,   1.72720756e-02],\n",
       "         [  9.79104400e-01,   2.08956227e-02],\n",
       "         [  9.66475606e-01,   3.35244238e-02]]]], dtype=float32)"
      ]
     },
     "execution_count": 29,
     "metadata": {},
     "output_type": "execute_result"
    }
   ],
   "source": [
    "predictions"
   ]
  },
  {
   "cell_type": "code",
   "execution_count": 28,
   "metadata": {},
   "outputs": [
    {
     "data": {
      "text/plain": [
       "<matplotlib.image.AxesImage at 0x7f3a2cc2fa90>"
      ]
     },
     "execution_count": 28,
     "metadata": {},
     "output_type": "execute_result"
    },
    {
     "data": {
      "image/png": "[encoded data removed]",
      "text/plain": [
       "<matplotlib.figure.Figure at 0x7f3a2dce89e8>"
      ]
     },
     "metadata": {},
     "output_type": "display_data"
    }
   ],
   "source": [
    "np.max(predictions)\n",
    "plt.imshow(predictions[0,:,:,1])"
   ]
  },
  {
   "cell_type": "code",
   "execution_count": 34,
   "metadata": {},
   "outputs": [],
   "source": [
    "np.save(\"predictions.npy\",predictions)"
   ]
  },
  {
   "cell_type": "code",
   "execution_count": 30,
   "metadata": {},
   "outputs": [],
   "source": [
    "asd = np.load(\"predictions.npy\")"
   ]
  },
  {
   "cell_type": "code",
   "execution_count": 31,
   "metadata": {},
   "outputs": [
    {
     "data": {
      "text/plain": [
       "1.0"
      ]
     },
     "execution_count": 31,
     "metadata": {},
     "output_type": "execute_result"
    }
   ],
   "source": [
    "np.max(asd)"
   ]
  },
  {
   "cell_type": "code",
   "execution_count": 25,
   "metadata": {},
   "outputs": [
    {
     "data": {
      "text/plain": [
       "(100, 50, 50, 2)"
      ]
     },
     "execution_count": 25,
     "metadata": {},
     "output_type": "execute_result"
    }
   ],
   "source": [
    "np.sum(predictions != asd)"
   ]
  },
  {
   "cell_type": "code",
   "execution_count": null,
   "metadata": {},
   "outputs": [],
   "source": [
    "threshold = 0.5\n",
    "filename_list = []\n",
    "for batch_idx in range(10):\n",
    "    images = load_images_to_predict(batch_idx*5,batch_idx*5+5)\n",
    "    predictions = model.model.predict(images)\n",
    "    for i in range(predictions.shape[0]):       \n",
    "        img_idx = batch_idx*5+i+1\n",
    "        filename = \"../dataset/test_set_images/test_\"+str(img_idx)+\"/gt\"+str(img_idx)\n",
    "        ext = \".jpg\"\n",
    "        pred = prediction_to_class(predictions[i], threshold = threshold) \n",
    "        imageio.imwrite(filename+ext, pred)\n",
    "        filename_list.append(filename+ext)\n",
    "\n",
    "masks_to_submission(\"submission.csv\",filename_list)"
   ]
  }
 ],
 "metadata": {
  "anaconda-cloud": {},
  "kernelspec": {
   "display_name": "Python [default]",
   "language": "python",
   "name": "python3"
  },
  "language_info": {
   "codemirror_mode": {
    "name": "ipython",
    "version": 3
   },
   "file_extension": ".py",
   "mimetype": "text/x-python",
   "name": "python",
   "nbconvert_exporter": "python",
   "pygments_lexer": "ipython3",
   "version": "3.6.3"
  }
 },
 "nbformat": 4,
 "nbformat_minor": 2
}
