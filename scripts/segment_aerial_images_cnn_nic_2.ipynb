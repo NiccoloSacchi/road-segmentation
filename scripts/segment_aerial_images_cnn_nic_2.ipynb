{
 "cells": [
  {
   "cell_type": "code",
   "execution_count": 1,
   "metadata": {},
   "outputs": [
    {
     "name": "stderr",
     "output_type": "stream",
     "text": [
      "Using TensorFlow backend.\n"
     ]
    }
   ],
   "source": [
    "%matplotlib inline\n",
    "\n",
    "import matplotlib.pyplot as plt\n",
    "from preprocessing import *\n",
    "from postprocessing import *\n",
    "from cnn_models import *\n",
    "from datetime import datetime\n",
    "from evaluate import *\n",
    "\n",
    "%load_ext autoreload\n",
    "%autoreload 2"
   ]
  },
  {
   "cell_type": "markdown",
   "metadata": {},
   "source": [
    "#### Overview\n",
    "The goal here is to use the CNN to reduce the size of the input image to obtain a \"discretized\" image of shape, e.g. (W/16, H/16). Every entry of this image is related to a patch in the input image. This obtained image is compared by the CNN with the groundtruth (after properly discretizing by it patch-wise)."
   ]
  },
  {
   "cell_type": "markdown",
   "metadata": {},
   "source": [
    "### - Load data"
   ]
  },
  {
   "cell_type": "code",
   "execution_count": 78,
   "metadata": {},
   "outputs": [
    {
     "name": "stdout",
     "output_type": "stream",
     "text": [
      "Loading 100 images\n"
     ]
    },
    {
     "data": {
      "text/plain": [
       "((400, 400, 3), (400, 400))"
      ]
     },
     "execution_count": 78,
     "metadata": {},
     "output_type": "execute_result"
    }
   ],
   "source": [
    "# Loaded a set of images\n",
    "n = 100\n",
    "\n",
    "imgs, gt_imgs = load_images(n)\n",
    "imgs[0].shape, gt_imgs[0].shape"
   ]
  },
  {
   "cell_type": "code",
   "execution_count": 70,
   "metadata": {},
   "outputs": [],
   "source": [
    "# names = sorted(['satImage_001.png', 'satImage_002.png', 'satImage_003.png', 'satImage_004.png', 'satImage_005.png', 'satImage_006.png', 'satImage_007.png', 'satImage_008.png', 'satImage_009.png', 'satImage_010.png', 'satImage_011.png', 'satImage_012.png', 'satImage_013.png', 'satImage_014.png', 'satImage_015.png', 'satImage_016.png', 'satImage_017.png', 'satImage_018.png', 'satImage_019.png', 'satImage_020.png', 'satImage_021.png', 'satImage_022.png', 'satImage_023.png', 'satImage_024.png', 'satImage_025.png', 'satImage_026.png', 'satImage_027.png', 'satImage_028.png', 'satImage_029.png', 'satImage_030.png', 'satImage_031.png', 'satImage_032.png', 'satImage_085.png', 'satImage_086.png', 'satImage_087.png', 'satImage_088.png', 'satImage_089.png', 'satImage_090.png', 'satImage_091.png', 'satImage_092.png', 'satImage_093.png', 'satImage_094.png', 'satImage_095.png', 'satImage_096.png', 'satImage_097.png', 'satImage_098.png', 'satImage_099.png', 'satImage_100.png', 'satImage_068.png', 'satImage_069.png', 'satImage_070.png', 'satImage_071.png', 'satImage_072.png', 'satImage_073.png', 'satImage_074.png', 'satImage_075.png', 'satImage_076.png', 'satImage_077.png', 'satImage_078.png', 'satImage_079.png', 'satImage_080.png', 'satImage_081.png', 'satImage_082.png', 'satImage_083.png', 'satImage_051.png', 'satImage_052.png', 'satImage_053.png', 'satImage_054.png', 'satImage_055.png', 'satImage_056.png', 'satImage_057.png', 'satImage_058.png', 'satImage_059.png', 'satImage_060.png', 'satImage_061.png', 'satImage_062.png', 'satImage_063.png', 'satImage_064.png', 'satImage_065.png', 'satImage_066.png', 'satImage_033.png', 'satImage_050.png', 'satImage_067.png', 'satImage_084.png', 'satImage_034.png', 'satImage_035.png', 'satImage_036.png', 'satImage_037.png', 'satImage_038.png', 'satImage_039.png', 'satImage_040.png', 'satImage_041.png', 'satImage_042.png', 'satImage_043.png', 'satImage_044.png', 'satImage_045.png', 'satImage_046.png', 'satImage_047.png', 'satImage_048.png', 'satImage_049.png'])\n",
    "# names"
   ]
  },
  {
   "cell_type": "code",
   "execution_count": 93,
   "metadata": {},
   "outputs": [],
   "source": [
    "X = imgs\n",
    "Y = gt_imgs\n",
    "set_ = SimpleNamespace()\n",
    "set_.X = X\n",
    "set_.Y = Y"
   ]
  },
  {
   "cell_type": "code",
   "execution_count": 48,
   "metadata": {},
   "outputs": [
    {
     "data": {
      "text/plain": [
       "0.20474031249999999"
      ]
     },
     "execution_count": 48,
     "metadata": {},
     "output_type": "execute_result"
    }
   ],
   "source": [
    "import scipy\n",
    "pixels = gt_imgs.flatten()\n",
    "roads_mask = pixels>0.25\n",
    "pixels = pixels*0\n",
    "pixels[roads_mask] = 1\n",
    "np.sum(pixels==1)/pixels.shape[0]"
   ]
  },
  {
   "cell_type": "code",
   "execution_count": null,
   "metadata": {},
   "outputs": [],
   "source": [
    "# for i in range(100):\n",
    "i = 41\n",
    "display_prediction(set_.X[i], set_.Y[i])\n",
    "plt\n",
    "# plt.show()\n",
    "# plt.savefig(\"highway.png\")"
   ]
  },
  {
   "cell_type": "markdown",
   "metadata": {},
   "source": [
    "### - Reshape the data NOMORE (we pass the train directly the images as they are so not to mess data augmentation)\n",
    "We reshape each input to fulfill our cnn inputs and output shape."
   ]
  },
  {
   "cell_type": "code",
   "execution_count": null,
   "metadata": {},
   "outputs": [],
   "source": [
    "# # !!! set predict_patch_width in accordance to the model you are using !!!\n",
    "# # the shape of the output of the model depends on the strides parameters \n",
    "# # (if a layer has stride=2 then each ouput's side is half of the input'side).\n",
    "# # predict_patch_width must be equal to the total reduction of the model, e.g.\n",
    "# # if the model has three layer with stride=2 => the input of the model is \n",
    "# # reduced by a factor of 2*2*2=8, i.e. the ouptut will be patch-wise with \n",
    "# # patches 8x8 pixels.\n",
    "# predict_patch_width = 8\n",
    "\n",
    "# X, Y = images_to_XY(imgs, gt_imgs, predict_patch_width=predict_patch_width)\n",
    "\n",
    "# set_ = SimpleNamespace()\n",
    "# set_.X = X\n",
    "# set_.Y = Y\n",
    "\n",
    "# X.shape, Y.shape"
   ]
  },
  {
   "cell_type": "code",
   "execution_count": null,
   "metadata": {},
   "outputs": [],
   "source": [
    "# vvv checking data augmentation\n",
    "# gen = batches_generator(imgs, gt_imgs)\n",
    "# batches_x = []\n",
    "# batches_y = []\n",
    "# for i in range(4):\n",
    "#     x_batch, y_batch = next(gen)\n",
    "#     batches_x.append(x_batch)\n",
    "#     batches_y.append(y_batch)\n",
    "# batches_x = np.array(batches_x)\n",
    "# batches_y = np.array(batches_y)\n",
    "\n",
    "# # batches_x = np.expand_dims(batches_x, axis=0)\n",
    "# # batches_y = np.expand_dims(batches_y, axis=0)\n",
    "# batches_x.shape, batches_y.shape"
   ]
  },
  {
   "cell_type": "code",
   "execution_count": null,
   "metadata": {},
   "outputs": [],
   "source": [
    "# # batch = 0\n",
    "# fig, axs = plt.subplots(2, 2, figsize=(20, 20))\n",
    "\n",
    "# img = imgs[0]\n",
    "# gt_img = gt_imgs[0]\n",
    "# new_img = make_img_overlay(img, gt_img)   \n",
    "# axs[0][0].imshow(new_img)\n",
    "\n",
    "# batch, im = 1, 0\n",
    "# img = batches_x[batch, im, :, :]\n",
    "# gt_img = batches_y[batch, im, :, :, 1]\n",
    "# h, w = img.shape[0], img.shape[1]\n",
    "# gt_img = predictions_to_img(gt_img, (h, w))\n",
    "# new_img = make_img_overlay(img, gt_img)   \n",
    "# axs[0][1].imshow(new_img)\n",
    "\n",
    "# batch, im = 1, 1\n",
    "# img = batches_x[batch, im, :, :]\n",
    "# gt_img = batches_y[batch, im, :, :, 1]\n",
    "# h, w = img.shape[0], img.shape[1]\n",
    "# gt_img = predictions_to_img(gt_img, (h, w))\n",
    "# new_img = make_img_overlay(img, gt_img)   \n",
    "# axs[1][0].imshow(new_img)\n",
    "\n",
    "# batch, im = 1, 2\n",
    "# img = batches_x[batch, im, :, :]\n",
    "# gt_img = batches_y[batch, im, :, :, 1]\n",
    "# h, w = img.shape[0], img.shape[1]\n",
    "# gt_img = predictions_to_img(gt_img, (h, w))\n",
    "# new_img = make_img_overlay(img, gt_img)   \n",
    "# axs[1][1].imshow(new_img)\n",
    "\n",
    "# plt.tight_layout()\n",
    "# plt.savefig(\"data_augmentation.png\")"
   ]
  },
  {
   "cell_type": "markdown",
   "metadata": {},
   "source": [
    "### - For now avoid cross validation, just split the datasest in test and train. "
   ]
  },
  {
   "cell_type": "code",
   "execution_count": null,
   "metadata": {},
   "outputs": [],
   "source": [
    "test_ratio = 0.25\n",
    "\n",
    "train, test = split_train_test(X, Y, test_ratio=test_ratio, seed=1)\n",
    "train.X.shape, train.Y.shape, test.X.shape, test.Y.shape "
   ]
  },
  {
   "cell_type": "code",
   "execution_count": null,
   "metadata": {},
   "outputs": [],
   "source": [
    "# # check it makes sense (show the i-th input of set_)\n",
    "# i = 0\n",
    "# set_ = test\n",
    "\n",
    "# fig, axs = plt.subplots(1, 2, figsize=(20, 10))\n",
    "# axs[0].imshow(set_.Y[i, :, :, 1], cmap='gray')\n",
    "# axs[1].imshow(set_.X[i, :, :])"
   ]
  },
  {
   "cell_type": "markdown",
   "metadata": {},
   "source": [
    "### - Build the CNN model or load a previous one"
   ]
  },
  {
   "cell_type": "markdown",
   "metadata": {},
   "source": [
    "- Choose one of the models you defined (with model_n) and initialize it."
   ]
  },
  {
   "cell_type": "code",
   "execution_count": 108,
   "metadata": {},
   "outputs": [
    {
     "name": "stdout",
     "output_type": "stream",
     "text": [
      "model_16x16leakyrelu_maxpooling\n",
      "_________________________________________________________________\n",
      "Layer (type)                 Output Shape              Param #   \n",
      "=================================================================\n",
      "conv2d_27 (Conv2D)           (None, None, None, 64)    19264     \n",
      "_________________________________________________________________\n",
      "leaky_re_lu_6 (LeakyReLU)    (None, None, None, 64)    0         \n",
      "_________________________________________________________________\n",
      "max_pooling2d_7 (MaxPooling2 (None, None, None, 64)    0         \n",
      "_________________________________________________________________\n",
      "dropout_17 (Dropout)         (None, None, None, 64)    0         \n",
      "_________________________________________________________________\n",
      "conv2d_28 (Conv2D)           (None, None, None, 64)    200768    \n",
      "_________________________________________________________________\n",
      "leaky_re_lu_7 (LeakyReLU)    (None, None, None, 64)    0         \n",
      "_________________________________________________________________\n",
      "max_pooling2d_8 (MaxPooling2 (None, None, None, 64)    0         \n",
      "_________________________________________________________________\n",
      "dropout_18 (Dropout)         (None, None, None, 64)    0         \n",
      "_________________________________________________________________\n",
      "conv2d_29 (Conv2D)           (None, None, None, 128)   204928    \n",
      "_________________________________________________________________\n",
      "leaky_re_lu_8 (LeakyReLU)    (None, None, None, 128)   0         \n",
      "_________________________________________________________________\n",
      "max_pooling2d_9 (MaxPooling2 (None, None, None, 128)   0         \n",
      "_________________________________________________________________\n",
      "dropout_19 (Dropout)         (None, None, None, 128)   0         \n",
      "_________________________________________________________________\n",
      "conv2d_30 (Conv2D)           (None, None, None, 256)   819456    \n",
      "_________________________________________________________________\n",
      "leaky_re_lu_9 (LeakyReLU)    (None, None, None, 256)   0         \n",
      "_________________________________________________________________\n",
      "max_pooling2d_10 (MaxPooling (None, None, None, 256)   0         \n",
      "_________________________________________________________________\n",
      "dropout_20 (Dropout)         (None, None, None, 256)   0         \n",
      "_________________________________________________________________\n",
      "conv2d_31 (Conv2D)           (None, None, None, 2)     12802     \n",
      "_________________________________________________________________\n",
      "leaky_re_lu_10 (LeakyReLU)   (None, None, None, 2)     0         \n",
      "_________________________________________________________________\n",
      "activation_5 (Activation)    (None, None, None, 2)     0         \n",
      "=================================================================\n",
      "Total params: 1,257,218\n",
      "Trainable params: 1,257,218\n",
      "Non-trainable params: 0\n",
      "_________________________________________________________________\n",
      "None\n"
     ]
    }
   ],
   "source": [
    "# generate an unique name for the model (so to avoid overwriting previous models)\n",
    "folder_name = \"model_\"+str('{0:%Y-%m-%d_%H:%M:%S}'.format(datetime.now()))\n",
    "model_path = \"models/\"+folder_name\n",
    "model = CnnModel(model_n=9, model_path=model_path)\n",
    "model.summary()"
   ]
  },
  {
   "cell_type": "markdown",
   "metadata": {},
   "source": [
    "- Otherwise load a previous model"
   ]
  },
  {
   "cell_type": "code",
   "execution_count": 8,
   "metadata": {},
   "outputs": [
    {
     "name": "stdout",
     "output_type": "stream",
     "text": [
      "Loaded model from disk\n",
      "model_leakyrelu_maxpooling\n",
      "_________________________________________________________________\n",
      "Layer (type)                 Output Shape              Param #   \n",
      "=================================================================\n",
      "conv2d_16 (Conv2D)           (None, None, None, 48)    7104      \n",
      "_________________________________________________________________\n",
      "leaky_re_lu_16 (LeakyReLU)   (None, None, None, 48)    0         \n",
      "_________________________________________________________________\n",
      "max_pooling2d_10 (MaxPooling (None, None, None, 48)    0         \n",
      "_________________________________________________________________\n",
      "dropout_13 (Dropout)         (None, None, None, 48)    0         \n",
      "_________________________________________________________________\n",
      "conv2d_17 (Conv2D)           (None, None, None, 64)    76864     \n",
      "_________________________________________________________________\n",
      "leaky_re_lu_17 (LeakyReLU)   (None, None, None, 64)    0         \n",
      "_________________________________________________________________\n",
      "max_pooling2d_11 (MaxPooling (None, None, None, 64)    0         \n",
      "_________________________________________________________________\n",
      "dropout_14 (Dropout)         (None, None, None, 64)    0         \n",
      "_________________________________________________________________\n",
      "conv2d_18 (Conv2D)           (None, None, None, 128)   204928    \n",
      "_________________________________________________________________\n",
      "leaky_re_lu_18 (LeakyReLU)   (None, None, None, 128)   0         \n",
      "_________________________________________________________________\n",
      "max_pooling2d_12 (MaxPooling (None, None, None, 128)   0         \n",
      "_________________________________________________________________\n",
      "dropout_15 (Dropout)         (None, None, None, 128)   0         \n",
      "_________________________________________________________________\n",
      "conv2d_19 (Conv2D)           (None, None, None, 256)   819456    \n",
      "_________________________________________________________________\n",
      "leaky_re_lu_19 (LeakyReLU)   (None, None, None, 256)   0         \n",
      "_________________________________________________________________\n",
      "dropout_16 (Dropout)         (None, None, None, 256)   0         \n",
      "_________________________________________________________________\n",
      "conv2d_20 (Conv2D)           (None, None, None, 2)     12802     \n",
      "_________________________________________________________________\n",
      "leaky_re_lu_20 (LeakyReLU)   (None, None, None, 2)     0         \n",
      "_________________________________________________________________\n",
      "activation_4 (Activation)    (None, None, None, 2)     0         \n",
      "=================================================================\n",
      "Total params: 1,121,154\n",
      "Trainable params: 1,121,154\n",
      "Non-trainable params: 0\n",
      "_________________________________________________________________\n",
      "None\n"
     ]
    }
   ],
   "source": [
    "# give the folder\n",
    "folder_name = \"model_2017-12-17_015606\"\n",
    "model_path = \"../models/\"+folder_name\n",
    "models = []\n",
    "models_id = [7]\n",
    "for i in range(len(models_id)):\n",
    "    models.append(CnnModel(model_n=models_id[i], model_path=model_path))\n",
    "    models[i].load() # load the model and its weights\n",
    "    models[i].summary()"
   ]
  },
  {
   "cell_type": "code",
   "execution_count": 41,
   "metadata": {},
   "outputs": [],
   "source": [
    "model.load_weights(\"2017-12-17_015714_best-weightsmodel_leakyrelu_maxpooling.hdf5\")"
   ]
  },
  {
   "cell_type": "markdown",
   "metadata": {},
   "source": [
    "### - Train the model on the train data while validating it on the test data"
   ]
  },
  {
   "cell_type": "code",
   "execution_count": null,
   "metadata": {},
   "outputs": [],
   "source": [
    "# pass a batch size which is a factor of train.shape[0] so that all the batches are fo the same size\n",
    "num_epochs=1\n",
    "batch_size=5\n",
    "_ = model.train(train, test=test, num_epochs=num_epochs, batch_size=batch_size, monitor='val_loss') "
   ]
  },
  {
   "cell_type": "markdown",
   "metadata": {},
   "source": [
    "### - Run cross validation to evaluate the model"
   ]
  },
  {
   "cell_type": "code",
   "execution_count": null,
   "metadata": {},
   "outputs": [],
   "source": [
    "result = model.cross_validation(set_, batch_size=batch_size, num_epochs=num_epochs)\n",
    "result"
   ]
  },
  {
   "cell_type": "code",
   "execution_count": null,
   "metadata": {},
   "outputs": [],
   "source": [
    "# plot the histories of the cross validation\n",
    "plot_history(result[\"history_mean\"]) \n",
    "# history of the folds (check if there is a worst case)\n",
    "# plot_history(result[\"histories\"][0]) \n",
    "# plot_history(result[\"histories\"][1]) \n",
    "# plot_history(result[\"histories\"][2]) \n",
    "# plot_history(result[\"histories\"][3]) "
   ]
  },
  {
   "cell_type": "markdown",
   "metadata": {},
   "source": [
    "#### Plot the accuracy and the loss obtained during training"
   ]
  },
  {
   "cell_type": "code",
   "execution_count": 42,
   "metadata": {
    "scrolled": false
   },
   "outputs": [
    {
     "name": "stdout",
     "output_type": "stream",
     "text": [
      "model_leakyrelu_maxpooling\n"
     ]
    },
    {
     "data": {
      "image/png": "[encoded data removed]",
      "text/plain": [
       "<matplotlib.figure.Figure at 0x7fc445fe7da0>"
      ]
     },
     "metadata": {},
     "output_type": "display_data"
    }
   ],
   "source": [
    "last_epochs=100 # plot only the last n epochs\n",
    "for model in models:\n",
    "    print(model.name())\n",
    "    model.plot_history(last_epochs=last_epochs)\n",
    "    plt.show()"
   ]
  },
  {
   "cell_type": "markdown",
   "metadata": {},
   "source": [
    "#### Display the output of a specific layer"
   ]
  },
  {
   "cell_type": "code",
   "execution_count": null,
   "metadata": {},
   "outputs": [],
   "source": [
    "# these are all the layers \n",
    "model.model.layers"
   ]
  },
  {
   "cell_type": "code",
   "execution_count": null,
   "metadata": {},
   "outputs": [],
   "source": [
    "# choose a layer and an image \n",
    "image = set_.X[0]\n",
    "layer_num = 1\n",
    "\n",
    "model.show_layer_output(image, layer_num, filename=\"\") # pass a filename if you want to store the image to file "
   ]
  },
  {
   "cell_type": "markdown",
   "metadata": {},
   "source": [
    "### - Evaluate the model on the test data"
   ]
  },
  {
   "cell_type": "code",
   "execution_count": 37,
   "metadata": {},
   "outputs": [
    {
     "name": "stdout",
     "output_type": "stream",
     "text": [
      "model_leakyrelu_maxpooling\n",
      "                precision    recall  f1-score   support\n",
      "\n",
      "0 (background)       1.00      0.99      0.99    192521\n",
      "      1 (road)       0.98      0.98      0.98     57479\n",
      "\n",
      "   avg / total       0.99      0.99      0.99    250000\n",
      "\n",
      "Confusion matrix, without normalization\n"
     ]
    },
    {
     "data": {
      "image/png": "[encoded data removed]",
      "text/plain": [
       "<matplotlib.figure.Figure at 0x7fc445f0c978>"
      ]
     },
     "metadata": {},
     "output_type": "display_data"
    },
    {
     "name": "stdout",
     "output_type": "stream",
     "text": [
      "Normalized confusion matrix\n"
     ]
    },
    {
     "data": {
      "image/png": "[encoded data removed]",
      "text/plain": [
       "<matplotlib.figure.Figure at 0x7fc446079ba8>"
      ]
     },
     "metadata": {},
     "output_type": "display_data"
    }
   ],
   "source": [
    "# check the performance on train or test\n",
    "set_ = set_\n",
    "\n",
    "for model in models:\n",
    "    print(model.name())\n",
    "    model.evaluate_model(set_.X, set_.Y)\n",
    "    plt.show()"
   ]
  },
  {
   "cell_type": "markdown",
   "metadata": {},
   "source": [
    "### - Show a prediction"
   ]
  },
  {
   "cell_type": "code",
   "execution_count": null,
   "metadata": {},
   "outputs": [],
   "source": [
    "# choose an image to predict (or part of it)\n",
    "img = test.X[0][:, :]\n",
    "\n",
    "models[1].display_prediction(img, ax=None)"
   ]
  },
  {
   "cell_type": "markdown",
   "metadata": {},
   "source": [
    "### - Save/load model"
   ]
  },
  {
   "cell_type": "code",
   "execution_count": null,
   "metadata": {},
   "outputs": [],
   "source": [
    "model.save()"
   ]
  },
  {
   "cell_type": "markdown",
   "metadata": {},
   "source": [
    "## - Postprocessing"
   ]
  },
  {
   "cell_type": "markdown",
   "metadata": {},
   "source": [
    "#### 1. Predict an image after rotating and flipping in some predefined ways and then average the predictions. "
   ]
  },
  {
   "cell_type": "markdown",
   "metadata": {},
   "source": [
    "- **predict**"
   ]
  },
  {
   "cell_type": "code",
   "execution_count": 11,
   "metadata": {},
   "outputs": [
    {
     "data": {
      "text/plain": [
       "((100, 400, 400, 3), (100, 400, 400))"
      ]
     },
     "execution_count": 11,
     "metadata": {},
     "output_type": "execute_result"
    }
   ],
   "source": [
    "set_.X.shape, set_.Y.shape"
   ]
  },
  {
   "cell_type": "markdown",
   "metadata": {},
   "source": [
    "Normal prediction"
   ]
  },
  {
   "cell_type": "code",
   "execution_count": 12,
   "metadata": {},
   "outputs": [
    {
     "data": {
      "text/plain": [
       "(100, 50, 50, 2)"
      ]
     },
     "execution_count": 12,
     "metadata": {},
     "output_type": "execute_result"
    }
   ],
   "source": [
    "pred_norm = model.predict(set_.X)\n",
    "pred_norm.shape"
   ]
  },
  {
   "cell_type": "markdown",
   "metadata": {},
   "source": [
    "Predict augmenting the image: 4 rotations"
   ]
  },
  {
   "cell_type": "markdown",
   "metadata": {},
   "source": [
    "pred_rot4 = model.predict_augmented(set_.X, n_rotations=4)\n",
    "pred_rot4.shape"
   ]
  },
  {
   "cell_type": "markdown",
   "metadata": {},
   "source": [
    "Predict augmenting the image: 8 rotations"
   ]
  },
  {
   "cell_type": "markdown",
   "metadata": {},
   "source": [
    "pred_rot8 = model.predict_augmented(set_.X, n_rotations=8)\n",
    "pred_rot8.shape"
   ]
  },
  {
   "cell_type": "markdown",
   "metadata": {},
   "source": [
    "- ** evaluate **"
   ]
  },
  {
   "cell_type": "markdown",
   "metadata": {},
   "source": [
    "Evaluate all of them and compare the F1 scores"
   ]
  },
  {
   "cell_type": "code",
   "execution_count": 25,
   "metadata": {},
   "outputs": [
    {
     "data": {
      "text/plain": [
       "((250000,), (250000,), (250000,), (250000,))"
      ]
     },
     "execution_count": 25,
     "metadata": {},
     "output_type": "execute_result"
    }
   ],
   "source": [
    "true = predictions_to_class(np.array([gt_img_to_Y(y, predict_patch_width=8) for y in set_.Y])).flatten()\n",
    "pred_norm_class = predictions_to_class(pred_norm).flatten()\n",
    "pred_rot4_class = predictions_to_class(pred_rot4).flatten()\n",
    "pred_rot8_class = predictions_to_class(pred_rot8).flatten()\n",
    "pred_norm_class.shape, pred_rot4_class.shape, pred_rot8_class.shape, true.shape"
   ]
  },
  {
   "cell_type": "code",
   "execution_count": 40,
   "metadata": {},
   "outputs": [
    {
     "name": "stdout",
     "output_type": "stream",
     "text": [
      "                precision    recall  f1-score   support\n",
      "\n",
      "0 (background)       1.00      0.99      0.99    192521\n",
      "      1 (road)       0.98      0.98      0.98     57479\n",
      "\n",
      "   avg / total       0.99      0.99      0.99    250000\n",
      "\n",
      "Confusion matrix, without normalization\n"
     ]
    },
    {
     "data": {
      "image/png": "[encoded data removed]",
      "text/plain": [
       "<matplotlib.figure.Figure at 0x7fc445f0c588>"
      ]
     },
     "metadata": {},
     "output_type": "display_data"
    },
    {
     "name": "stdout",
     "output_type": "stream",
     "text": [
      "Normalized confusion matrix\n"
     ]
    },
    {
     "data": {
      "image/png": "[encoded data removed]",
      "text/plain": [
       "<matplotlib.figure.Figure at 0x7fc44a0da208>"
      ]
     },
     "metadata": {},
     "output_type": "display_data"
    }
   ],
   "source": [
    "evaluate_predictions(pred_norm_class, true)"
   ]
  },
  {
   "cell_type": "code",
   "execution_count": null,
   "metadata": {},
   "outputs": [],
   "source": [
    "evaluate_predictions(pred_rot4_class, true)"
   ]
  },
  {
   "cell_type": "code",
   "execution_count": null,
   "metadata": {},
   "outputs": [],
   "source": [
    "evaluate_predictions(pred_rot8_class, true)"
   ]
  },
  {
   "cell_type": "code",
   "execution_count": null,
   "metadata": {},
   "outputs": [],
   "source": [
    "# im_rot = rotate(im, 45, reshape=True, order=1, mode=\"reflect\")\n",
    "# plt.figure(figsize=(10, 10))\n",
    "# plt.imshow(im_rot)\n",
    "# plt.show()\n",
    "\n",
    "# pred = model.predict(np.array([im_rot]))[0]\n",
    "# pred = take_image_at_center(rotate_image(pred, -45), target_shape=(50, 50))\n",
    "# plt.figure(figsize=(10, 10))\n",
    "# plt.imshow(prediction_to_class(pred), cmap=\"gray\")\n",
    "# plt.show()"
   ]
  },
  {
   "cell_type": "markdown",
   "metadata": {},
   "source": [
    "- Choose the best threshold to classify a patch as road."
   ]
  },
  {
   "cell_type": "code",
   "execution_count": 29,
   "metadata": {},
   "outputs": [
    {
     "data": {
      "text/plain": [
       "(0.98309300586178705, 0.53000000000000003)"
      ]
     },
     "execution_count": 29,
     "metadata": {},
     "output_type": "execute_result"
    }
   ],
   "source": [
    "grid_search_treshold(pred_norm[:, :, :, 1].flatten(), true)"
   ]
  },
  {
   "cell_type": "code",
   "execution_count": 30,
   "metadata": {},
   "outputs": [
    {
     "data": {
      "text/plain": [
       "(0.98871375076199608, 0.54000000000000004)"
      ]
     },
     "execution_count": 30,
     "metadata": {},
     "output_type": "execute_result"
    }
   ],
   "source": [
    "grid_search_treshold(pred_rot4[:, :, :, 1].flatten(), true)"
   ]
  },
  {
   "cell_type": "code",
   "execution_count": 31,
   "metadata": {},
   "outputs": [
    {
     "data": {
      "text/plain": [
       "(0.97797379776178361, 0.47000000000000003)"
      ]
     },
     "execution_count": 31,
     "metadata": {},
     "output_type": "execute_result"
    }
   ],
   "source": [
    "grid_search_treshold(pred_rot8[:, :, :, 1].flatten(), true)"
   ]
  },
  {
   "cell_type": "code",
   "execution_count": 43,
   "metadata": {},
   "outputs": [
    {
     "name": "stdout",
     "output_type": "stream",
     "text": [
      "Threshold: 0.55\n",
      "Loading 5 images to predict\n",
      "loading image ../dataset/test_set_images/test_1/test_1.png\n",
      "loading image ../dataset/test_set_images/test_2/test_2.png\n",
      "loading image ../dataset/test_set_images/test_3/test_3.png\n",
      "loading image ../dataset/test_set_images/test_4/test_4.png\n",
      "loading image ../dataset/test_set_images/test_5/test_5.png\n",
      "Predicting image 0\n",
      "\tFlipping image: False\n",
      "\t\tRotate by 0 degrees and predict\n",
      "\t\tRotate by 90 degrees and predict\n",
      "\t\tRotate by 180 degrees and predict\n",
      "\t\tRotate by 270 degrees and predict\n",
      "\tFlipping image: True\n",
      "\t\tRotate by 0 degrees and predict\n",
      "\t\tRotate by 90 degrees and predict\n",
      "\t\tRotate by 180 degrees and predict\n",
      "\t\tRotate by 270 degrees and predict\n",
      "Predicting image 1\n",
      "\tFlipping image: False\n",
      "\t\tRotate by 0 degrees and predict\n",
      "\t\tRotate by 90 degrees and predict\n",
      "\t\tRotate by 180 degrees and predict\n",
      "\t\tRotate by 270 degrees and predict\n",
      "\tFlipping image: True\n",
      "\t\tRotate by 0 degrees and predict\n",
      "\t\tRotate by 90 degrees and predict\n",
      "\t\tRotate by 180 degrees and predict\n",
      "\t\tRotate by 270 degrees and predict\n",
      "Predicting image 2\n",
      "\tFlipping image: False\n",
      "\t\tRotate by 0 degrees and predict\n",
      "\t\tRotate by 90 degrees and predict\n",
      "\t\tRotate by 180 degrees and predict\n",
      "\t\tRotate by 270 degrees and predict\n",
      "\tFlipping image: True\n",
      "\t\tRotate by 0 degrees and predict\n",
      "\t\tRotate by 90 degrees and predict\n",
      "\t\tRotate by 180 degrees and predict\n",
      "\t\tRotate by 270 degrees and predict\n",
      "Predicting image 3\n",
      "\tFlipping image: False\n",
      "\t\tRotate by 0 degrees and predict\n",
      "\t\tRotate by 90 degrees and predict\n",
      "\t\tRotate by 180 degrees and predict\n",
      "\t\tRotate by 270 degrees and predict\n",
      "\tFlipping image: True\n",
      "\t\tRotate by 0 degrees and predict\n",
      "\t\tRotate by 90 degrees and predict\n",
      "\t\tRotate by 180 degrees and predict\n",
      "\t\tRotate by 270 degrees and predict\n",
      "Predicting image 4\n",
      "\tFlipping image: False\n",
      "\t\tRotate by 0 degrees and predict\n",
      "\t\tRotate by 90 degrees and predict\n",
      "\t\tRotate by 180 degrees and predict\n",
      "\t\tRotate by 270 degrees and predict\n",
      "\tFlipping image: True\n",
      "\t\tRotate by 0 degrees and predict\n",
      "\t\tRotate by 90 degrees and predict\n",
      "\t\tRotate by 180 degrees and predict\n",
      "\t\tRotate by 270 degrees and predict\n"
     ]
    },
    {
     "name": "stderr",
     "output_type": "stream",
     "text": [
      "/home/niccolo/anaconda3/envs/ada/lib/python3.6/site-packages/imageio/core/util.py:78: UserWarning: Lossy conversion from float64 to uint8, range [0, 1]\n",
      "  dtype_str, out_type.__name__))\n"
     ]
    },
    {
     "name": "stdout",
     "output_type": "stream",
     "text": [
      "Loading 5 images to predict\n",
      "loading image ../dataset/test_set_images/test_6/test_6.png\n",
      "loading image ../dataset/test_set_images/test_7/test_7.png\n",
      "loading image ../dataset/test_set_images/test_8/test_8.png\n",
      "loading image ../dataset/test_set_images/test_9/test_9.png\n",
      "loading image ../dataset/test_set_images/test_10/test_10.png\n",
      "Predicting image 0\n",
      "\tFlipping image: False\n",
      "\t\tRotate by 0 degrees and predict\n",
      "\t\tRotate by 90 degrees and predict\n",
      "\t\tRotate by 180 degrees and predict\n",
      "\t\tRotate by 270 degrees and predict\n",
      "\tFlipping image: True\n",
      "\t\tRotate by 0 degrees and predict\n",
      "\t\tRotate by 90 degrees and predict\n",
      "\t\tRotate by 180 degrees and predict\n",
      "\t\tRotate by 270 degrees and predict\n",
      "Predicting image 1\n",
      "\tFlipping image: False\n",
      "\t\tRotate by 0 degrees and predict\n",
      "\t\tRotate by 90 degrees and predict\n",
      "\t\tRotate by 180 degrees and predict\n",
      "\t\tRotate by 270 degrees and predict\n",
      "\tFlipping image: True\n",
      "\t\tRotate by 0 degrees and predict\n",
      "\t\tRotate by 90 degrees and predict\n",
      "\t\tRotate by 180 degrees and predict\n",
      "\t\tRotate by 270 degrees and predict\n",
      "Predicting image 2\n",
      "\tFlipping image: False\n",
      "\t\tRotate by 0 degrees and predict\n",
      "\t\tRotate by 90 degrees and predict\n",
      "\t\tRotate by 180 degrees and predict\n",
      "\t\tRotate by 270 degrees and predict\n",
      "\tFlipping image: True\n",
      "\t\tRotate by 0 degrees and predict\n",
      "\t\tRotate by 90 degrees and predict\n",
      "\t\tRotate by 180 degrees and predict\n",
      "\t\tRotate by 270 degrees and predict\n",
      "Predicting image 3\n",
      "\tFlipping image: False\n",
      "\t\tRotate by 0 degrees and predict\n",
      "\t\tRotate by 90 degrees and predict\n",
      "\t\tRotate by 180 degrees and predict\n",
      "\t\tRotate by 270 degrees and predict\n",
      "\tFlipping image: True\n",
      "\t\tRotate by 0 degrees and predict\n",
      "\t\tRotate by 90 degrees and predict\n",
      "\t\tRotate by 180 degrees and predict\n",
      "\t\tRotate by 270 degrees and predict\n",
      "Predicting image 4\n",
      "\tFlipping image: False\n",
      "\t\tRotate by 0 degrees and predict\n",
      "\t\tRotate by 90 degrees and predict\n",
      "\t\tRotate by 180 degrees and predict\n",
      "\t\tRotate by 270 degrees and predict\n",
      "\tFlipping image: True\n",
      "\t\tRotate by 0 degrees and predict\n",
      "\t\tRotate by 90 degrees and predict\n",
      "\t\tRotate by 180 degrees and predict\n",
      "\t\tRotate by 270 degrees and predict\n",
      "Loading 5 images to predict\n",
      "loading image ../dataset/test_set_images/test_11/test_11.png\n",
      "loading image ../dataset/test_set_images/test_12/test_12.png\n",
      "loading image ../dataset/test_set_images/test_13/test_13.png\n",
      "loading image ../dataset/test_set_images/test_14/test_14.png\n",
      "loading image ../dataset/test_set_images/test_15/test_15.png\n",
      "Predicting image 0\n",
      "\tFlipping image: False\n",
      "\t\tRotate by 0 degrees and predict\n",
      "\t\tRotate by 90 degrees and predict\n",
      "\t\tRotate by 180 degrees and predict\n",
      "\t\tRotate by 270 degrees and predict\n",
      "\tFlipping image: True\n",
      "\t\tRotate by 0 degrees and predict\n",
      "\t\tRotate by 90 degrees and predict\n",
      "\t\tRotate by 180 degrees and predict\n",
      "\t\tRotate by 270 degrees and predict\n",
      "Predicting image 1\n",
      "\tFlipping image: False\n",
      "\t\tRotate by 0 degrees and predict\n",
      "\t\tRotate by 90 degrees and predict\n",
      "\t\tRotate by 180 degrees and predict\n",
      "\t\tRotate by 270 degrees and predict\n",
      "\tFlipping image: True\n",
      "\t\tRotate by 0 degrees and predict\n",
      "\t\tRotate by 90 degrees and predict\n",
      "\t\tRotate by 180 degrees and predict\n",
      "\t\tRotate by 270 degrees and predict\n",
      "Predicting image 2\n",
      "\tFlipping image: False\n",
      "\t\tRotate by 0 degrees and predict\n",
      "\t\tRotate by 90 degrees and predict\n",
      "\t\tRotate by 180 degrees and predict\n",
      "\t\tRotate by 270 degrees and predict\n",
      "\tFlipping image: True\n",
      "\t\tRotate by 0 degrees and predict\n",
      "\t\tRotate by 90 degrees and predict\n",
      "\t\tRotate by 180 degrees and predict\n",
      "\t\tRotate by 270 degrees and predict\n",
      "Predicting image 3\n",
      "\tFlipping image: False\n",
      "\t\tRotate by 0 degrees and predict\n",
      "\t\tRotate by 90 degrees and predict\n",
      "\t\tRotate by 180 degrees and predict\n",
      "\t\tRotate by 270 degrees and predict\n",
      "\tFlipping image: True\n",
      "\t\tRotate by 0 degrees and predict\n",
      "\t\tRotate by 90 degrees and predict\n",
      "\t\tRotate by 180 degrees and predict\n",
      "\t\tRotate by 270 degrees and predict\n",
      "Predicting image 4\n",
      "\tFlipping image: False\n",
      "\t\tRotate by 0 degrees and predict\n",
      "\t\tRotate by 90 degrees and predict\n",
      "\t\tRotate by 180 degrees and predict\n",
      "\t\tRotate by 270 degrees and predict\n",
      "\tFlipping image: True\n",
      "\t\tRotate by 0 degrees and predict\n",
      "\t\tRotate by 90 degrees and predict\n",
      "\t\tRotate by 180 degrees and predict\n",
      "\t\tRotate by 270 degrees and predict\n",
      "Loading 5 images to predict\n",
      "loading image ../dataset/test_set_images/test_16/test_16.png\n",
      "loading image ../dataset/test_set_images/test_17/test_17.png\n",
      "loading image ../dataset/test_set_images/test_18/test_18.png\n",
      "loading image ../dataset/test_set_images/test_19/test_19.png\n",
      "loading image ../dataset/test_set_images/test_20/test_20.png\n",
      "Predicting image 0\n",
      "\tFlipping image: False\n",
      "\t\tRotate by 0 degrees and predict\n",
      "\t\tRotate by 90 degrees and predict\n",
      "\t\tRotate by 180 degrees and predict\n",
      "\t\tRotate by 270 degrees and predict\n",
      "\tFlipping image: True\n",
      "\t\tRotate by 0 degrees and predict\n",
      "\t\tRotate by 90 degrees and predict\n",
      "\t\tRotate by 180 degrees and predict\n",
      "\t\tRotate by 270 degrees and predict\n",
      "Predicting image 1\n",
      "\tFlipping image: False\n",
      "\t\tRotate by 0 degrees and predict\n",
      "\t\tRotate by 90 degrees and predict\n",
      "\t\tRotate by 180 degrees and predict\n",
      "\t\tRotate by 270 degrees and predict\n",
      "\tFlipping image: True\n",
      "\t\tRotate by 0 degrees and predict\n",
      "\t\tRotate by 90 degrees and predict\n",
      "\t\tRotate by 180 degrees and predict\n",
      "\t\tRotate by 270 degrees and predict\n",
      "Predicting image 2\n",
      "\tFlipping image: False\n",
      "\t\tRotate by 0 degrees and predict\n",
      "\t\tRotate by 90 degrees and predict\n",
      "\t\tRotate by 180 degrees and predict\n",
      "\t\tRotate by 270 degrees and predict\n",
      "\tFlipping image: True\n",
      "\t\tRotate by 0 degrees and predict\n",
      "\t\tRotate by 90 degrees and predict\n",
      "\t\tRotate by 180 degrees and predict\n",
      "\t\tRotate by 270 degrees and predict\n",
      "Predicting image 3\n",
      "\tFlipping image: False\n",
      "\t\tRotate by 0 degrees and predict\n",
      "\t\tRotate by 90 degrees and predict\n",
      "\t\tRotate by 180 degrees and predict\n",
      "\t\tRotate by 270 degrees and predict\n",
      "\tFlipping image: True\n",
      "\t\tRotate by 0 degrees and predict\n",
      "\t\tRotate by 90 degrees and predict\n",
      "\t\tRotate by 180 degrees and predict\n",
      "\t\tRotate by 270 degrees and predict\n",
      "Predicting image 4\n",
      "\tFlipping image: False\n",
      "\t\tRotate by 0 degrees and predict\n",
      "\t\tRotate by 90 degrees and predict\n",
      "\t\tRotate by 180 degrees and predict\n",
      "\t\tRotate by 270 degrees and predict\n",
      "\tFlipping image: True\n",
      "\t\tRotate by 0 degrees and predict\n",
      "\t\tRotate by 90 degrees and predict\n",
      "\t\tRotate by 180 degrees and predict\n",
      "\t\tRotate by 270 degrees and predict\n",
      "Loading 5 images to predict\n",
      "loading image ../dataset/test_set_images/test_21/test_21.png\n",
      "loading image ../dataset/test_set_images/test_22/test_22.png\n",
      "loading image ../dataset/test_set_images/test_23/test_23.png\n",
      "loading image ../dataset/test_set_images/test_24/test_24.png\n",
      "loading image ../dataset/test_set_images/test_25/test_25.png\n",
      "Predicting image 0\n",
      "\tFlipping image: False\n",
      "\t\tRotate by 0 degrees and predict\n",
      "\t\tRotate by 90 degrees and predict\n",
      "\t\tRotate by 180 degrees and predict\n",
      "\t\tRotate by 270 degrees and predict\n",
      "\tFlipping image: True\n",
      "\t\tRotate by 0 degrees and predict\n",
      "\t\tRotate by 90 degrees and predict\n",
      "\t\tRotate by 180 degrees and predict\n",
      "\t\tRotate by 270 degrees and predict\n",
      "Predicting image 1\n",
      "\tFlipping image: False\n",
      "\t\tRotate by 0 degrees and predict\n",
      "\t\tRotate by 90 degrees and predict\n",
      "\t\tRotate by 180 degrees and predict\n",
      "\t\tRotate by 270 degrees and predict\n",
      "\tFlipping image: True\n",
      "\t\tRotate by 0 degrees and predict\n",
      "\t\tRotate by 90 degrees and predict\n",
      "\t\tRotate by 180 degrees and predict\n",
      "\t\tRotate by 270 degrees and predict\n",
      "Predicting image 2\n",
      "\tFlipping image: False\n",
      "\t\tRotate by 0 degrees and predict\n",
      "\t\tRotate by 90 degrees and predict\n",
      "\t\tRotate by 180 degrees and predict\n",
      "\t\tRotate by 270 degrees and predict\n",
      "\tFlipping image: True\n",
      "\t\tRotate by 0 degrees and predict\n",
      "\t\tRotate by 90 degrees and predict\n",
      "\t\tRotate by 180 degrees and predict\n",
      "\t\tRotate by 270 degrees and predict\n",
      "Predicting image 3\n",
      "\tFlipping image: False\n",
      "\t\tRotate by 0 degrees and predict\n",
      "\t\tRotate by 90 degrees and predict\n",
      "\t\tRotate by 180 degrees and predict\n",
      "\t\tRotate by 270 degrees and predict\n",
      "\tFlipping image: True\n",
      "\t\tRotate by 0 degrees and predict\n",
      "\t\tRotate by 90 degrees and predict\n",
      "\t\tRotate by 180 degrees and predict\n",
      "\t\tRotate by 270 degrees and predict\n",
      "Predicting image 4\n",
      "\tFlipping image: False\n",
      "\t\tRotate by 0 degrees and predict\n",
      "\t\tRotate by 90 degrees and predict\n",
      "\t\tRotate by 180 degrees and predict\n",
      "\t\tRotate by 270 degrees and predict\n",
      "\tFlipping image: True\n",
      "\t\tRotate by 0 degrees and predict\n",
      "\t\tRotate by 90 degrees and predict\n",
      "\t\tRotate by 180 degrees and predict\n"
     ]
    },
    {
     "name": "stdout",
     "output_type": "stream",
     "text": [
      "\t\tRotate by 270 degrees and predict\n",
      "Loading 5 images to predict\n",
      "loading image ../dataset/test_set_images/test_26/test_26.png\n",
      "loading image ../dataset/test_set_images/test_27/test_27.png\n",
      "loading image ../dataset/test_set_images/test_28/test_28.png\n",
      "loading image ../dataset/test_set_images/test_29/test_29.png\n",
      "loading image ../dataset/test_set_images/test_30/test_30.png\n",
      "Predicting image 0\n",
      "\tFlipping image: False\n",
      "\t\tRotate by 0 degrees and predict\n",
      "\t\tRotate by 90 degrees and predict\n",
      "\t\tRotate by 180 degrees and predict\n",
      "\t\tRotate by 270 degrees and predict\n",
      "\tFlipping image: True\n",
      "\t\tRotate by 0 degrees and predict\n",
      "\t\tRotate by 90 degrees and predict\n",
      "\t\tRotate by 180 degrees and predict\n",
      "\t\tRotate by 270 degrees and predict\n",
      "Predicting image 1\n",
      "\tFlipping image: False\n",
      "\t\tRotate by 0 degrees and predict\n",
      "\t\tRotate by 90 degrees and predict\n",
      "\t\tRotate by 180 degrees and predict\n",
      "\t\tRotate by 270 degrees and predict\n",
      "\tFlipping image: True\n",
      "\t\tRotate by 0 degrees and predict\n",
      "\t\tRotate by 90 degrees and predict\n",
      "\t\tRotate by 180 degrees and predict\n",
      "\t\tRotate by 270 degrees and predict\n",
      "Predicting image 2\n",
      "\tFlipping image: False\n",
      "\t\tRotate by 0 degrees and predict\n",
      "\t\tRotate by 90 degrees and predict\n",
      "\t\tRotate by 180 degrees and predict\n",
      "\t\tRotate by 270 degrees and predict\n",
      "\tFlipping image: True\n",
      "\t\tRotate by 0 degrees and predict\n",
      "\t\tRotate by 90 degrees and predict\n",
      "\t\tRotate by 180 degrees and predict\n",
      "\t\tRotate by 270 degrees and predict\n",
      "Predicting image 3\n",
      "\tFlipping image: False\n",
      "\t\tRotate by 0 degrees and predict\n",
      "\t\tRotate by 90 degrees and predict\n",
      "\t\tRotate by 180 degrees and predict\n",
      "\t\tRotate by 270 degrees and predict\n",
      "\tFlipping image: True\n",
      "\t\tRotate by 0 degrees and predict\n",
      "\t\tRotate by 90 degrees and predict\n",
      "\t\tRotate by 180 degrees and predict\n",
      "\t\tRotate by 270 degrees and predict\n",
      "Predicting image 4\n",
      "\tFlipping image: False\n",
      "\t\tRotate by 0 degrees and predict\n",
      "\t\tRotate by 90 degrees and predict\n",
      "\t\tRotate by 180 degrees and predict\n",
      "\t\tRotate by 270 degrees and predict\n",
      "\tFlipping image: True\n",
      "\t\tRotate by 0 degrees and predict\n",
      "\t\tRotate by 90 degrees and predict\n",
      "\t\tRotate by 180 degrees and predict\n",
      "\t\tRotate by 270 degrees and predict\n",
      "Loading 5 images to predict\n",
      "loading image ../dataset/test_set_images/test_31/test_31.png\n",
      "loading image ../dataset/test_set_images/test_32/test_32.png\n",
      "loading image ../dataset/test_set_images/test_33/test_33.png\n",
      "loading image ../dataset/test_set_images/test_34/test_34.png\n",
      "loading image ../dataset/test_set_images/test_35/test_35.png\n",
      "Predicting image 0\n",
      "\tFlipping image: False\n",
      "\t\tRotate by 0 degrees and predict\n",
      "\t\tRotate by 90 degrees and predict\n",
      "\t\tRotate by 180 degrees and predict\n",
      "\t\tRotate by 270 degrees and predict\n",
      "\tFlipping image: True\n",
      "\t\tRotate by 0 degrees and predict\n",
      "\t\tRotate by 90 degrees and predict\n",
      "\t\tRotate by 180 degrees and predict\n",
      "\t\tRotate by 270 degrees and predict\n",
      "Predicting image 1\n",
      "\tFlipping image: False\n",
      "\t\tRotate by 0 degrees and predict\n",
      "\t\tRotate by 90 degrees and predict\n",
      "\t\tRotate by 180 degrees and predict\n",
      "\t\tRotate by 270 degrees and predict\n",
      "\tFlipping image: True\n",
      "\t\tRotate by 0 degrees and predict\n",
      "\t\tRotate by 90 degrees and predict\n",
      "\t\tRotate by 180 degrees and predict\n",
      "\t\tRotate by 270 degrees and predict\n",
      "Predicting image 2\n",
      "\tFlipping image: False\n",
      "\t\tRotate by 0 degrees and predict\n",
      "\t\tRotate by 90 degrees and predict\n",
      "\t\tRotate by 180 degrees and predict\n",
      "\t\tRotate by 270 degrees and predict\n",
      "\tFlipping image: True\n",
      "\t\tRotate by 0 degrees and predict\n",
      "\t\tRotate by 90 degrees and predict\n",
      "\t\tRotate by 180 degrees and predict\n",
      "\t\tRotate by 270 degrees and predict\n",
      "Predicting image 3\n",
      "\tFlipping image: False\n",
      "\t\tRotate by 0 degrees and predict\n",
      "\t\tRotate by 90 degrees and predict\n",
      "\t\tRotate by 180 degrees and predict\n",
      "\t\tRotate by 270 degrees and predict\n",
      "\tFlipping image: True\n",
      "\t\tRotate by 0 degrees and predict\n",
      "\t\tRotate by 90 degrees and predict\n",
      "\t\tRotate by 180 degrees and predict\n",
      "\t\tRotate by 270 degrees and predict\n",
      "Predicting image 4\n",
      "\tFlipping image: False\n",
      "\t\tRotate by 0 degrees and predict\n",
      "\t\tRotate by 90 degrees and predict\n",
      "\t\tRotate by 180 degrees and predict\n",
      "\t\tRotate by 270 degrees and predict\n",
      "\tFlipping image: True\n",
      "\t\tRotate by 0 degrees and predict\n",
      "\t\tRotate by 90 degrees and predict\n",
      "\t\tRotate by 180 degrees and predict\n",
      "\t\tRotate by 270 degrees and predict\n",
      "Loading 5 images to predict\n",
      "loading image ../dataset/test_set_images/test_36/test_36.png\n",
      "loading image ../dataset/test_set_images/test_37/test_37.png\n",
      "loading image ../dataset/test_set_images/test_38/test_38.png\n",
      "loading image ../dataset/test_set_images/test_39/test_39.png\n",
      "loading image ../dataset/test_set_images/test_40/test_40.png\n",
      "Predicting image 0\n",
      "\tFlipping image: False\n",
      "\t\tRotate by 0 degrees and predict\n",
      "\t\tRotate by 90 degrees and predict\n",
      "\t\tRotate by 180 degrees and predict\n",
      "\t\tRotate by 270 degrees and predict\n",
      "\tFlipping image: True\n",
      "\t\tRotate by 0 degrees and predict\n",
      "\t\tRotate by 90 degrees and predict\n",
      "\t\tRotate by 180 degrees and predict\n",
      "\t\tRotate by 270 degrees and predict\n",
      "Predicting image 1\n",
      "\tFlipping image: False\n",
      "\t\tRotate by 0 degrees and predict\n",
      "\t\tRotate by 90 degrees and predict\n",
      "\t\tRotate by 180 degrees and predict\n",
      "\t\tRotate by 270 degrees and predict\n",
      "\tFlipping image: True\n",
      "\t\tRotate by 0 degrees and predict\n",
      "\t\tRotate by 90 degrees and predict\n",
      "\t\tRotate by 180 degrees and predict\n",
      "\t\tRotate by 270 degrees and predict\n",
      "Predicting image 2\n",
      "\tFlipping image: False\n",
      "\t\tRotate by 0 degrees and predict\n",
      "\t\tRotate by 90 degrees and predict\n",
      "\t\tRotate by 180 degrees and predict\n",
      "\t\tRotate by 270 degrees and predict\n",
      "\tFlipping image: True\n",
      "\t\tRotate by 0 degrees and predict\n",
      "\t\tRotate by 90 degrees and predict\n",
      "\t\tRotate by 180 degrees and predict\n",
      "\t\tRotate by 270 degrees and predict\n",
      "Predicting image 3\n",
      "\tFlipping image: False\n",
      "\t\tRotate by 0 degrees and predict\n",
      "\t\tRotate by 90 degrees and predict\n",
      "\t\tRotate by 180 degrees and predict\n",
      "\t\tRotate by 270 degrees and predict\n",
      "\tFlipping image: True\n",
      "\t\tRotate by 0 degrees and predict\n",
      "\t\tRotate by 90 degrees and predict\n",
      "\t\tRotate by 180 degrees and predict\n",
      "\t\tRotate by 270 degrees and predict\n",
      "Predicting image 4\n",
      "\tFlipping image: False\n",
      "\t\tRotate by 0 degrees and predict\n",
      "\t\tRotate by 90 degrees and predict\n",
      "\t\tRotate by 180 degrees and predict\n",
      "\t\tRotate by 270 degrees and predict\n",
      "\tFlipping image: True\n",
      "\t\tRotate by 0 degrees and predict\n",
      "\t\tRotate by 90 degrees and predict\n",
      "\t\tRotate by 180 degrees and predict\n",
      "\t\tRotate by 270 degrees and predict\n",
      "Loading 5 images to predict\n",
      "loading image ../dataset/test_set_images/test_41/test_41.png\n",
      "loading image ../dataset/test_set_images/test_42/test_42.png\n",
      "loading image ../dataset/test_set_images/test_43/test_43.png\n",
      "loading image ../dataset/test_set_images/test_44/test_44.png\n",
      "loading image ../dataset/test_set_images/test_45/test_45.png\n",
      "Predicting image 0\n",
      "\tFlipping image: False\n",
      "\t\tRotate by 0 degrees and predict\n",
      "\t\tRotate by 90 degrees and predict\n",
      "\t\tRotate by 180 degrees and predict\n",
      "\t\tRotate by 270 degrees and predict\n",
      "\tFlipping image: True\n",
      "\t\tRotate by 0 degrees and predict\n",
      "\t\tRotate by 90 degrees and predict\n",
      "\t\tRotate by 180 degrees and predict\n",
      "\t\tRotate by 270 degrees and predict\n",
      "Predicting image 1\n",
      "\tFlipping image: False\n",
      "\t\tRotate by 0 degrees and predict\n",
      "\t\tRotate by 90 degrees and predict\n",
      "\t\tRotate by 180 degrees and predict\n",
      "\t\tRotate by 270 degrees and predict\n",
      "\tFlipping image: True\n",
      "\t\tRotate by 0 degrees and predict\n",
      "\t\tRotate by 90 degrees and predict\n",
      "\t\tRotate by 180 degrees and predict\n",
      "\t\tRotate by 270 degrees and predict\n",
      "Predicting image 2\n",
      "\tFlipping image: False\n",
      "\t\tRotate by 0 degrees and predict\n",
      "\t\tRotate by 90 degrees and predict\n",
      "\t\tRotate by 180 degrees and predict\n",
      "\t\tRotate by 270 degrees and predict\n",
      "\tFlipping image: True\n",
      "\t\tRotate by 0 degrees and predict\n",
      "\t\tRotate by 90 degrees and predict\n",
      "\t\tRotate by 180 degrees and predict\n",
      "\t\tRotate by 270 degrees and predict\n",
      "Predicting image 3\n",
      "\tFlipping image: False\n",
      "\t\tRotate by 0 degrees and predict\n",
      "\t\tRotate by 90 degrees and predict\n",
      "\t\tRotate by 180 degrees and predict\n",
      "\t\tRotate by 270 degrees and predict\n",
      "\tFlipping image: True\n",
      "\t\tRotate by 0 degrees and predict\n",
      "\t\tRotate by 90 degrees and predict\n",
      "\t\tRotate by 180 degrees and predict\n",
      "\t\tRotate by 270 degrees and predict\n",
      "Predicting image 4\n",
      "\tFlipping image: False\n",
      "\t\tRotate by 0 degrees and predict\n",
      "\t\tRotate by 90 degrees and predict\n",
      "\t\tRotate by 180 degrees and predict\n",
      "\t\tRotate by 270 degrees and predict\n",
      "\tFlipping image: True\n",
      "\t\tRotate by 0 degrees and predict\n",
      "\t\tRotate by 90 degrees and predict\n"
     ]
    },
    {
     "name": "stdout",
     "output_type": "stream",
     "text": [
      "\t\tRotate by 180 degrees and predict\n",
      "\t\tRotate by 270 degrees and predict\n",
      "Loading 5 images to predict\n",
      "loading image ../dataset/test_set_images/test_46/test_46.png\n",
      "loading image ../dataset/test_set_images/test_47/test_47.png\n",
      "loading image ../dataset/test_set_images/test_48/test_48.png\n",
      "loading image ../dataset/test_set_images/test_49/test_49.png\n",
      "loading image ../dataset/test_set_images/test_50/test_50.png\n",
      "Predicting image 0\n",
      "\tFlipping image: False\n",
      "\t\tRotate by 0 degrees and predict\n",
      "\t\tRotate by 90 degrees and predict\n",
      "\t\tRotate by 180 degrees and predict\n",
      "\t\tRotate by 270 degrees and predict\n",
      "\tFlipping image: True\n",
      "\t\tRotate by 0 degrees and predict\n",
      "\t\tRotate by 90 degrees and predict\n",
      "\t\tRotate by 180 degrees and predict\n",
      "\t\tRotate by 270 degrees and predict\n",
      "Predicting image 1\n",
      "\tFlipping image: False\n",
      "\t\tRotate by 0 degrees and predict\n",
      "\t\tRotate by 90 degrees and predict\n",
      "\t\tRotate by 180 degrees and predict\n",
      "\t\tRotate by 270 degrees and predict\n",
      "\tFlipping image: True\n",
      "\t\tRotate by 0 degrees and predict\n",
      "\t\tRotate by 90 degrees and predict\n",
      "\t\tRotate by 180 degrees and predict\n",
      "\t\tRotate by 270 degrees and predict\n",
      "Predicting image 2\n",
      "\tFlipping image: False\n",
      "\t\tRotate by 0 degrees and predict\n",
      "\t\tRotate by 90 degrees and predict\n",
      "\t\tRotate by 180 degrees and predict\n",
      "\t\tRotate by 270 degrees and predict\n",
      "\tFlipping image: True\n",
      "\t\tRotate by 0 degrees and predict\n",
      "\t\tRotate by 90 degrees and predict\n",
      "\t\tRotate by 180 degrees and predict\n",
      "\t\tRotate by 270 degrees and predict\n",
      "Predicting image 3\n",
      "\tFlipping image: False\n",
      "\t\tRotate by 0 degrees and predict\n",
      "\t\tRotate by 90 degrees and predict\n",
      "\t\tRotate by 180 degrees and predict\n",
      "\t\tRotate by 270 degrees and predict\n",
      "\tFlipping image: True\n",
      "\t\tRotate by 0 degrees and predict\n",
      "\t\tRotate by 90 degrees and predict\n",
      "\t\tRotate by 180 degrees and predict\n",
      "\t\tRotate by 270 degrees and predict\n",
      "Predicting image 4\n",
      "\tFlipping image: False\n",
      "\t\tRotate by 0 degrees and predict\n",
      "\t\tRotate by 90 degrees and predict\n",
      "\t\tRotate by 180 degrees and predict\n",
      "\t\tRotate by 270 degrees and predict\n",
      "\tFlipping image: True\n",
      "\t\tRotate by 0 degrees and predict\n",
      "\t\tRotate by 90 degrees and predict\n",
      "\t\tRotate by 180 degrees and predict\n",
      "\t\tRotate by 270 degrees and predict\n"
     ]
    }
   ],
   "source": [
    "model.predict_augmented_and_export()"
   ]
  },
  {
   "cell_type": "markdown",
   "metadata": {},
   "source": [
    "### - Others"
   ]
  },
  {
   "cell_type": "code",
   "execution_count": null,
   "metadata": {},
   "outputs": [],
   "source": [
    "# some callbacks example: \n",
    "\n",
    "# create a list of callbacks we want to use during training\n",
    "# # a callback to store epoch results to a csv file\n",
    "# filename='model_train_new.csv'\n",
    "# csv_log = callbacks.CSVLogger(filename, separator=',', append=False)\n",
    "\n",
    "# # a callback to stob before doing the predefined number of epochs (stop before overfitting the data)\n",
    "# early_stopping = callbacks.EarlyStopping(monitor='val_loss', min_delta=0, patience=0, verbose=0, mode='min')\n",
    "\n",
    "# # a callback to save the best model (best model = the one with the lowest 'monitor' variable)\n",
    "# filepath = \"best-weights-{epoch:03d}-{loss:.4f}-{acc:.4f}.hdf5\"\n",
    "# checkpoint = callbacks.ModelCheckpoint(filepath, monitor='val_loss', verbose=1, save_best_only=True, mode='min')\n",
    "\n",
    "# # callbacks_list = [csv_log,early_stopping,checkpoint]\n",
    "\n",
    "print(\n",
    "    \"-get configurations:\", \"\\n\",\n",
    "    model.get_config(), \"\\n\",\n",
    "    model.layers[0].get_config(), \"\\n\",\n",
    "\n",
    "    \"\\n-get shapes\", \"\\n\",\n",
    "    model.layers[0].input_shape, \"\\n\",\n",
    "    model.layers[0].output_shape, \"\\n\",\n",
    "    \n",
    "    \"\\n-get weights\", \"\\n\",\n",
    "    model.layers[0].get_weights()[0].shape, \"\\n\",\n",
    "    \n",
    "    \"\\n-check if trainable\", \"\\n\",\n",
    "    model.layers[0].trainable, \"\\n\", # you can set this to false to \"freeze\" a layer\n",
    ")"
   ]
  },
  {
   "cell_type": "code",
   "execution_count": null,
   "metadata": {},
   "outputs": [],
   "source": [
    "from IPython.core.debugger import Pdb\n",
    "debugger = Pdb()\n",
    "debugger.set_trace() # put this line as a breakpoint"
   ]
  },
  {
   "cell_type": "markdown",
   "metadata": {},
   "source": [
    "Test batch generation"
   ]
  },
  {
   "cell_type": "code",
   "execution_count": null,
   "metadata": {},
   "outputs": [],
   "source": [
    "gen1, gen2 = image_generators(X, Y) "
   ]
  },
  {
   "cell_type": "code",
   "execution_count": null,
   "metadata": {},
   "outputs": [],
   "source": [
    "from cnn_models import batches_generator\n",
    "j = 0\n",
    "x_batches = []\n",
    "y_batches = []\n",
    "\n",
    "for x, y in batches_generator(X[:4], Y[:4], batch_size = 4):\n",
    "    j += 1\n",
    "    if j > 10:\n",
    "        break\n",
    "    x_batches.append(x)\n",
    "    y_batches.append(y)"
   ]
  },
  {
   "cell_type": "code",
   "execution_count": null,
   "metadata": {},
   "outputs": [],
   "source": [
    "np.array(x_batches).shape, np.array(y_batches).shape"
   ]
  },
  {
   "cell_type": "code",
   "execution_count": null,
   "metadata": {},
   "outputs": [],
   "source": [
    "b = 0\n",
    "i = -1"
   ]
  },
  {
   "cell_type": "code",
   "execution_count": null,
   "metadata": {},
   "outputs": [],
   "source": [
    "i += 1\n",
    "if i >= x_batches[0].shape[0]:\n",
    "    i = 0\n",
    "    b += 1\n",
    "print(\"Batch\", str(b) + \". Image\", i)\n",
    "fig, axs = plt.subplots(1, 2)\n",
    "fig.set_size_inches((20, 10))\n",
    "axs[0].imshow(x_batches[b][i], cmap='gray')\n",
    "axs[1].imshow(y_batches[b][i][:, :, 1], cmap='gray')"
   ]
  }
 ],
 "metadata": {
  "anaconda-cloud": {},
  "kernelspec": {
   "display_name": "Python [default]",
   "language": "python",
   "name": "python3"
  },
  "language_info": {
   "codemirror_mode": {
    "name": "ipython",
    "version": 3
   },
   "file_extension": ".py",
   "mimetype": "text/x-python",
   "name": "python",
   "nbconvert_exporter": "python",
   "pygments_lexer": "ipython3",
   "version": "3.6.3"
  }
 },
 "nbformat": 4,
 "nbformat_minor": 2
}
