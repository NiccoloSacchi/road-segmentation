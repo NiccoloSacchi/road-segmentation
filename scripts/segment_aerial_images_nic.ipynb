{
 "cells": [
  {
   "cell_type": "code",
   "execution_count": null,
   "metadata": {},
   "outputs": [],
   "source": [
    "%matplotlib inline\n",
    "# import matplotlib.image as mpimg\n",
    "# from PIL import Image\n",
    "import numpy as np\n",
    "import matplotlib.pyplot as plt\n",
    "from helpers import *\n",
    "from tf_aerial_images import *\n",
    "from sklearn import linear_model\n",
    "from types import SimpleNamespace \n",
    "%load_ext autoreload\n",
    "%autoreload 2"
   ]
  },
  {
   "cell_type": "markdown",
   "metadata": {},
   "source": [
    "## 1. Load data"
   ]
  },
  {
   "cell_type": "code",
   "execution_count": null,
   "metadata": {},
   "outputs": [],
   "source": [
    "# Loaded a set of images\n",
    "n = 20\n",
    "\n",
    "imgs, gt_imgs = load_images(n)\n",
    "\n",
    "imgs[0].shape, gt_imgs[0].shape"
   ]
  },
  {
   "cell_type": "code",
   "execution_count": null,
   "metadata": {},
   "outputs": [],
   "source": [
    "# # Show first image and its groundtruth image\n",
    "# cimg = concatenate_images(imgs[1], gt_imgs[1])\n",
    "# fig1 = plt.figure(figsize=(20, 10))\n",
    "# plt.imshow(cimg, cmap='Greys_r', vmin=0, vmax=1)"
   ]
  },
  {
   "cell_type": "markdown",
   "metadata": {},
   "source": [
    "## 2. Generate the input and extract the outputs.\n",
    "From each image extract the inputs (patches) and generate a list of features for each one of them."
   ]
  },
  {
   "cell_type": "code",
   "execution_count": null,
   "metadata": {},
   "outputs": [],
   "source": [
    "t = 19 # number of images to use fore the training\n",
    "train = SimpleNamespace()\n",
    "train.X = imgs_to_inputs(imgs[:t])\n",
    "train.Y = imgs_to_outputs(gt_imgs[:t])\n",
    "train.indices = range(t) # indices on the trained images\n",
    "\n",
    "test = SimpleNamespace()\n",
    "test.X = imgs_to_inputs(imgs[t:])\n",
    "test.Y = imgs_to_outputs(gt_imgs[t:])\n",
    "test.indices = range(t, n)\n",
    "\n",
    "train.X.shape, train.Y.shape"
   ]
  },
  {
   "cell_type": "markdown",
   "metadata": {},
   "source": [
    "Just check the **output** has been generated correctly."
   ]
  },
  {
   "cell_type": "code",
   "execution_count": null,
   "metadata": {},
   "outputs": [],
   "source": [
    "# Print feature statistics\n",
    "Y0 = np.where(train.Y==0)[0]\n",
    "Y1 = np.where(train.Y==1)[0]\n",
    "print(str(len(Y1)) + ' inputs are classified as background (0)')\n",
    "print(str(len(Y0)) + ' inputs are classified as road (1)')"
   ]
  },
  {
   "cell_type": "markdown",
   "metadata": {},
   "source": [
    "## 3. Train a model"
   ]
  },
  {
   "cell_type": "code",
   "execution_count": null,
   "metadata": {},
   "outputs": [],
   "source": [
    "print('Confusion matrix:')\n",
    "confmat = pd.DataFrame(\n",
    "    data = [['True Negative (TN)', 'False Negative (FN)'], ['False Positive (FP)', 'True Positive (TP)']],\n",
    "    index = pd.MultiIndex(\n",
    "        levels=[['predicted (Z)'], ['0', '1']],\n",
    "        labels=[[0, 0], [0, 1]]),\n",
    "    columns = pd.MultiIndex(\n",
    "        levels=[['actual (Y)'], ['0 (background)', '1 (road)']],\n",
    "        labels=[[0, 0], [0, 1]]),\n",
    ")\n",
    "display(confmat)\n",
    "print('TN + FN + FP + TP = number of predictions')"
   ]
  },
  {
   "cell_type": "markdown",
   "metadata": {},
   "source": [
    "- Logistic regression:"
   ]
  },
  {
   "cell_type": "code",
   "execution_count": null,
   "metadata": {},
   "outputs": [],
   "source": [
    "logreg = linear_model.LogisticRegression(C=1e5, class_weight=\"balanced\")\n",
    "# train\n",
    "logreg.fit(train.X, train.Y)\n",
    "# predict\n",
    "train.Z = logreg.predict(train.X)\n",
    "\n",
    "# print('True positive rate = ' + str(TPR) + ' (#correctly predicted road patches / #predicted road patches)')\n",
    "display(confusion_matrix(train.Z, train.Y))\n",
    "print('Lot of non road patches are classified as road')"
   ]
  },
  {
   "cell_type": "markdown",
   "metadata": {},
   "source": [
    "## 4. Validation"
   ]
  },
  {
   "cell_type": "code",
   "execution_count": null,
   "metadata": {},
   "outputs": [],
   "source": [
    "test.Z = logreg.predict(test.X)"
   ]
  },
  {
   "cell_type": "code",
   "execution_count": null,
   "metadata": {},
   "outputs": [],
   "source": [
    "# Display prediction as an image\n",
    "fig1 = plt.figure(figsize=(10, 10)) # create a figure with the default size \n",
    "\n",
    "patch_size = 16\n",
    "w, h = 400, 400\n",
    "\n",
    "# show an image of the test set and the corresponding predictions\n",
    "i = 0\n",
    "predicted_im = label_to_img(w, h, patch_size, patch_size, test.Z)\n",
    "new_img = make_img_overlay(imgs[test.indices[i]], predicted_im)\n",
    "\n",
    "plt.imshow(new_img)"
   ]
  }
 ],
 "metadata": {
  "kernelspec": {
   "display_name": "Python [conda env:ada]",
   "language": "python",
   "name": "conda-env-ada-py"
  },
  "language_info": {
   "codemirror_mode": {
    "name": "ipython",
    "version": 3
   },
   "file_extension": ".py",
   "mimetype": "text/x-python",
   "name": "python",
   "nbconvert_exporter": "python",
   "pygments_lexer": "ipython3",
   "version": "3.6.2"
  }
 },
 "nbformat": 4,
 "nbformat_minor": 1
}
