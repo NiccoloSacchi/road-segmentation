{
 "cells": [
  {
   "cell_type": "code",
   "execution_count": 49,
   "metadata": {},
   "outputs": [
    {
     "name": "stdout",
     "output_type": "stream",
     "text": [
      "The autoreload extension is already loaded. To reload it, use:\n",
      "  %reload_ext autoreload\n"
     ]
    }
   ],
   "source": [
    "%matplotlib inline\n",
    "# import matplotlib.image as mpimg\n",
    "# from PIL import Image\n",
    "import numpy as np\n",
    "import matplotlib.pyplot as plt\n",
    "from helpers import *\n",
    "from tf_aerial_images import *\n",
    "from sklearn import linear_model\n",
    "from types import SimpleNamespace \n",
    "from sklearn.model_selection import KFold\n",
    "from sklearn.metrics import f1_score\n",
    "\n",
    "from preprocessing import *\n",
    "from datetime import datetime\n",
    "from evaluate import *\n",
    "from sklearn.ensemble import RandomForestClassifier\n",
    "%load_ext autoreload\n",
    "%autoreload 2"
   ]
  },
  {
   "cell_type": "code",
   "execution_count": 3,
   "metadata": {},
   "outputs": [
    {
     "name": "stdout",
     "output_type": "stream",
     "text": [
      "Confusion matrix:\n"
     ]
    },
    {
     "data": {
      "text/html": [
       "<div>\n",
       "<style scoped>\n",
       "    .dataframe tbody tr th:only-of-type {\n",
       "        vertical-align: middle;\n",
       "    }\n",
       "\n",
       "    .dataframe tbody tr th {\n",
       "        vertical-align: top;\n",
       "    }\n",
       "\n",
       "    .dataframe thead tr th {\n",
       "        text-align: left;\n",
       "    }\n",
       "</style>\n",
       "<table border=\"1\" class=\"dataframe\">\n",
       "  <thead>\n",
       "    <tr>\n",
       "      <th></th>\n",
       "      <th></th>\n",
       "      <th colspan=\"2\" halign=\"left\">actual (Y)</th>\n",
       "    </tr>\n",
       "    <tr>\n",
       "      <th></th>\n",
       "      <th></th>\n",
       "      <th>0 (background)</th>\n",
       "      <th>1 (road)</th>\n",
       "    </tr>\n",
       "  </thead>\n",
       "  <tbody>\n",
       "    <tr>\n",
       "      <th rowspan=\"2\" valign=\"top\">predicted (Z)</th>\n",
       "      <th>0</th>\n",
       "      <td>True Negative (TN)</td>\n",
       "      <td>False Negative (FN)</td>\n",
       "    </tr>\n",
       "    <tr>\n",
       "      <th>1</th>\n",
       "      <td>False Positive (FP)</td>\n",
       "      <td>True Positive (TP)</td>\n",
       "    </tr>\n",
       "  </tbody>\n",
       "</table>\n",
       "</div>"
      ],
      "text/plain": [
       "                          actual (Y)                     \n",
       "                      0 (background)             1 (road)\n",
       "predicted (Z) 0   True Negative (TN)  False Negative (FN)\n",
       "              1  False Positive (FP)   True Positive (TP)"
      ]
     },
     "metadata": {},
     "output_type": "display_data"
    },
    {
     "name": "stdout",
     "output_type": "stream",
     "text": [
      "TN + FN + FP + TP = number of predictions\n"
     ]
    }
   ],
   "source": [
    "# remind of confusion matrix\n",
    "print('Confusion matrix:')\n",
    "confmat = pd.DataFrame(\n",
    "    data = [['True Negative (TN)', 'False Negative (FN)'], ['False Positive (FP)', 'True Positive (TP)']],\n",
    "    index = pd.MultiIndex(\n",
    "        levels=[['predicted (Z)'], ['0', '1']],\n",
    "        labels=[[0, 0], [0, 1]]),\n",
    "    columns = pd.MultiIndex(\n",
    "        levels=[['actual (Y)'], ['0 (background)', '1 (road)']],\n",
    "        labels=[[0, 0], [0, 1]]),\n",
    ")\n",
    "display(confmat)\n",
    "print('TN + FN + FP + TP = number of predictions')"
   ]
  },
  {
   "cell_type": "markdown",
   "metadata": {},
   "source": [
    "## 1. Load data"
   ]
  },
  {
   "cell_type": "code",
   "execution_count": 2,
   "metadata": {},
   "outputs": [
    {
     "name": "stdout",
     "output_type": "stream",
     "text": [
      "Loading 100 images\n"
     ]
    },
    {
     "data": {
      "text/plain": [
       "((400, 400, 3), (400, 400))"
      ]
     },
     "execution_count": 2,
     "metadata": {},
     "output_type": "execute_result"
    }
   ],
   "source": [
    "# Loaded a set of images\n",
    "n = 100\n",
    "\n",
    "imgs, gt_imgs = load_images(n)\n",
    "\n",
    "imgs.shape, gt_imgs.shape"
   ]
  },
  {
   "cell_type": "code",
   "execution_count": null,
   "metadata": {},
   "outputs": [],
   "source": [
    "# # Show first image and its groundtruth image\n",
    "# cimg = concatenate_images(imgs[1], gt_imgs[1])\n",
    "# fig1 = plt.figure(figsize=(20, 10))\n",
    "# plt.imshow(cimg, cmap='Greys_r', vmin=0, vmax=1)"
   ]
  },
  {
   "cell_type": "markdown",
   "metadata": {},
   "source": [
    "## 2. Transform in input and output"
   ]
  },
  {
   "cell_type": "markdown",
   "metadata": {},
   "source": [
    "From each image extract the inputs (patches) and generate a list of features for each one of them."
   ]
  },
  {
   "cell_type": "code",
   "execution_count": 9,
   "metadata": {},
   "outputs": [],
   "source": [
    "set_ = SimpleNamespace()\n",
    "set_.X = imgs_to_inputs(imgs)\n",
    "set_.Y = imgs_to_outputs(gt_imgs)"
   ]
  },
  {
   "cell_type": "markdown",
   "metadata": {},
   "source": [
    "Just check the **output** has been generated correctly."
   ]
  },
  {
   "cell_type": "code",
   "execution_count": 79,
   "metadata": {},
   "outputs": [
    {
     "name": "stdout",
     "output_type": "stream",
     "text": [
      "46309 inputs are classified as background (0)\n",
      "16191 inputs are classified as road (1)\n"
     ]
    }
   ],
   "source": [
    "# Print feature statistics\n",
    "Y0 = np.where(set_.Y==0)[0]\n",
    "Y1 = np.where(set_.Y==1)[0]\n",
    "print(str(len(Y0)) + ' inputs are classified as background (0)')\n",
    "print(str(len(Y1)) + ' inputs are classified as road (1)')"
   ]
  },
  {
   "cell_type": "markdown",
   "metadata": {},
   "source": [
    "## 3. Train and evaluate: naive, logistic and random forest models"
   ]
  },
  {
   "cell_type": "markdown",
   "metadata": {},
   "source": [
    "First, just split the dataset in test and train and tune the models a little, we will do cross-validation faterward.  "
   ]
  },
  {
   "cell_type": "code",
   "execution_count": null,
   "metadata": {},
   "outputs": [],
   "source": [
    "train, test = split_train_test(set_.X, set_.Y, test_ratio=0.2, seed=1)\n",
    "\n",
    "train.X.shape, train.Y.shape, test.X.shape, test.Y.shape"
   ]
  },
  {
   "cell_type": "markdown",
   "metadata": {},
   "source": [
    "### a. Naive\n",
    "Predict all roads"
   ]
  },
  {
   "cell_type": "code",
   "execution_count": 18,
   "metadata": {},
   "outputs": [
    {
     "name": "stderr",
     "output_type": "stream",
     "text": [
      "/home/niccolo/anaconda3/envs/ada/lib/python3.6/site-packages/sklearn/metrics/classification.py:1135: UndefinedMetricWarning: Precision and F-score are ill-defined and being set to 0.0 in labels with no predicted samples.\n",
      "  'precision', 'predicted', average, warn_for)\n"
     ]
    },
    {
     "name": "stdout",
     "output_type": "stream",
     "text": [
      "                precision    recall  f1-score   support\n",
      "\n",
      "0 (background)       0.00      0.00      0.00     37017\n",
      "      1 (road)       0.26      1.00      0.41     12983\n",
      "\n",
      "   avg / total       0.07      0.26      0.11     50000\n",
      "\n",
      "Confusion matrix, without normalization\n"
     ]
    },
    {
     "data": {
      "image/png": "[encoded data removed]",
      "text/plain": [
       "<matplotlib.figure.Figure at 0x7f2d363b2780>"
      ]
     },
     "metadata": {},
     "output_type": "display_data"
    },
    {
     "name": "stdout",
     "output_type": "stream",
     "text": [
      "Normalized confusion matrix\n"
     ]
    },
    {
     "data": {
      "image/png": "[encoded data removed]",
      "text/plain": [
       "<matplotlib.figure.Figure at 0x7f2d3621bb70>"
      ]
     },
     "metadata": {},
     "output_type": "display_data"
    }
   ],
   "source": [
    "train.Z = np.ones(train.Y.shape)\n",
    "evaluate_predictions(train.Z, train.Y)"
   ]
  },
  {
   "cell_type": "markdown",
   "metadata": {},
   "source": [
    "### b. Logistic regression"
   ]
  },
  {
   "cell_type": "code",
   "execution_count": 80,
   "metadata": {},
   "outputs": [
    {
     "name": "stdout",
     "output_type": "stream",
     "text": [
      "                precision    recall  f1-score   support\n",
      "\n",
      "0 (background)       0.84      0.56      0.67      9292\n",
      "      1 (road)       0.35      0.69      0.46      3208\n",
      "\n",
      "   avg / total       0.71      0.59      0.62     12500\n",
      "\n",
      "Confusion matrix, without normalization\n"
     ]
    },
    {
     "data": {
      "image/png": "[encoded data removed]",
      "text/plain": [
       "<matplotlib.figure.Figure at 0x7f2d2c869b38>"
      ]
     },
     "metadata": {},
     "output_type": "display_data"
    },
    {
     "name": "stdout",
     "output_type": "stream",
     "text": [
      "Normalized confusion matrix\n"
     ]
    },
    {
     "data": {
      "image/png": "[encoded data removed]",
      "text/plain": [
       "<matplotlib.figure.Figure at 0x7f2d2cb61a58>"
      ]
     },
     "metadata": {},
     "output_type": "display_data"
    }
   ],
   "source": [
    "logreg = linear_model.LogisticRegression(C=1e5, class_weight=\"balanced\", max_iter=1000)\n",
    "# train\n",
    "logreg.fit(train.X, train.Y)\n",
    "# predict\n",
    "test.Z = logreg.predict(test.X)\n",
    "# evaluate\n",
    "evaluate_predictions(test.Z, test.Y)"
   ]
  },
  {
   "cell_type": "markdown",
   "metadata": {},
   "source": [
    "### c. Random forest"
   ]
  },
  {
   "cell_type": "code",
   "execution_count": 81,
   "metadata": {},
   "outputs": [
    {
     "name": "stdout",
     "output_type": "stream",
     "text": [
      "                precision    recall  f1-score   support\n",
      "\n",
      "0 (background)       0.82      0.92      0.87      9292\n",
      "      1 (road)       0.65      0.42      0.51      3208\n",
      "\n",
      "   avg / total       0.78      0.79      0.78     12500\n",
      "\n",
      "Confusion matrix, without normalization\n"
     ]
    },
    {
     "data": {
      "image/png": "[encoded data removed]",
      "text/plain": [
       "<matplotlib.figure.Figure at 0x7f2d2c6d29e8>"
      ]
     },
     "metadata": {},
     "output_type": "display_data"
    },
    {
     "name": "stdout",
     "output_type": "stream",
     "text": [
      "Normalized confusion matrix\n"
     ]
    },
    {
     "data": {
      "image/png": "[encoded data removed]",
      "text/plain": [
       "<matplotlib.figure.Figure at 0x7f2d2c7f59b0>"
      ]
     },
     "metadata": {},
     "output_type": "display_data"
    }
   ],
   "source": [
    "# train\n",
    "num_estimators = 400\n",
    "depth = 40\n",
    "num_threads = 4\n",
    "clf = RandomForestClassifier(max_depth=depth, random_state=0, n_estimators=num_estimators, n_jobs=num_threads)\n",
    "clf.fit(train.X, train.Y)\n",
    "# predict\n",
    "test.Z = clf.predict(test.X)\n",
    "# evaluate\n",
    "evaluate_predictions(test.Z, test.Y)"
   ]
  },
  {
   "cell_type": "markdown",
   "metadata": {},
   "source": [
    "## 3. Repeat with cross validation "
   ]
  },
  {
   "cell_type": "code",
   "execution_count": 73,
   "metadata": {},
   "outputs": [],
   "source": [
    "num_estimators = 500\n",
    "depth = 40\n",
    "num_threads = 4\n",
    "\n",
    "def cross_validation(set_):\n",
    "    # divide the data in 6 folds\n",
    "    nfolds = 6\n",
    "\n",
    "    F1_scores = {\"naive\": [], \"logistic\": [], \"random_forest\": []}\n",
    "    kf = KFold(n_splits=nfolds)\n",
    "    train = SimpleNamespace()\n",
    "    test = SimpleNamespace()\n",
    "    status = 1\n",
    "    for train_indices, test_indices in kf.split(range(set_.X.shape[0])): # split the indices\n",
    "        print(\"fold:\", status)\n",
    "        status += 1\n",
    "        # split in train and test\n",
    "        train.X = set_.X[train_indices]\n",
    "        train.Y = set_.Y[train_indices]\n",
    "        test.X = set_.X[test_indices]\n",
    "        test.Y = set_.Y[test_indices]\n",
    "\n",
    "        # fit the models\n",
    "        # logistic\n",
    "        print(\"fitting logistic\")\n",
    "        logreg = linear_model.LogisticRegression(C=1e5, class_weight=\"balanced\", max_iter=1000)\n",
    "        logreg.fit(train.X, train.Y)\n",
    "        # random forest\n",
    "        print(\"fitting random forest\")\n",
    "        rand_forest = RandomForestClassifier(max_depth=depth, random_state=0, n_estimators=num_estimators, n_jobs=num_threads)\n",
    "        rand_forest.fit(train.X, train.Y)\n",
    "\n",
    "        # compute F1 score of the road labels\n",
    "        true = test.Y\n",
    "        # naive\n",
    "        f1 = f1_score(true, np.ones(true.shape), pos_label=1, average='binary', sample_weight=None)\n",
    "        F1_scores[\"naive\"].append(f1)\n",
    "        # logistic\n",
    "        f1 = f1_score(true, logreg.predict(test.X), pos_label=1, average='binary', sample_weight=None)\n",
    "        F1_scores[\"logistic\"].append(f1)\n",
    "        # random forest\n",
    "        f1 = f1_score(true, rand_forest.predict(test.X), pos_label=1, average='binary', sample_weight=None)\n",
    "        F1_scores[\"random_forest\"].append(f1)\n",
    "    return F1_scores"
   ]
  },
  {
   "cell_type": "code",
   "execution_count": null,
   "metadata": {},
   "outputs": [],
   "source": [
    "f1_scores = cross_validation(set_)"
   ]
  },
  {
   "cell_type": "code",
   "execution_count": null,
   "metadata": {},
   "outputs": [],
   "source": [
    "# f1_scores={'logistic': [0.46514408705010168,\n",
    "#   0.40765476496275366,\n",
    "#   0.44973899076428858,\n",
    "#   0.49714964370546316,\n",
    "#   0.46313253012048183,\n",
    "#   0.47467243009590704],\n",
    "#  'naive': [0.41046768902113367,\n",
    "#   0.36698542091236874,\n",
    "#   0.40230061349693258,\n",
    "#   0.45146424855061695,\n",
    "#   0.4199029126213592,\n",
    "#   0.41557651353818076],\n",
    "#  'random_forest': [0.49617956064947466,\n",
    "#   0.45909528392685273,\n",
    "#   0.51150558842866534,\n",
    "#   0.48005013578441619,\n",
    "#   0.47865921787709503,\n",
    "#   0.48172446110590439]}\n",
    "f1_scores"
   ]
  },
  {
   "cell_type": "code",
   "execution_count": null,
   "metadata": {},
   "outputs": [],
   "source": [
    "# Create a figure instance\n",
    "fig = plt.figure(1, figsize=(9, 6))\n",
    "\n",
    "# Create an axes instance\n",
    "ax = fig.add_subplot(111)\n",
    "\n",
    "bp = ax.boxplot([f1_scores[\"naive\"], f1_scores[\"logistic\"], f1_scores[\"random_forest\"]], patch_artist=True)\n",
    "\n",
    "## change outline color, fill color and linewidth of the boxes\n",
    "for box in bp['boxes']:\n",
    "    # change outline color\n",
    "    box.set(color='#7570b3', linewidth=2)\n",
    "    # change fill color\n",
    "    box.set(facecolor = '#1b9e77' )\n",
    "\n",
    "## change color and linewidth of the whiskers\n",
    "for whisker in bp['whiskers']:\n",
    "    whisker.set(color='#7570b3', linewidth=2)\n",
    "\n",
    "## change color and linewidth of the caps\n",
    "for cap in bp['caps']:\n",
    "    cap.set(color='#7570b3', linewidth=2)\n",
    "\n",
    "## change color and linewidth of the medians\n",
    "for median in bp['medians']:\n",
    "    median.set(color='#b2df8a', linewidth=2)\n",
    "\n",
    "## change the style of fliers and their fill\n",
    "for flier in bp['fliers']:\n",
    "    flier.set(marker='o', color='#e7298a', alpha=0.5)\n",
    "    \n",
    "## Custom x-axis labels\n",
    "ax.set_xticklabels(['Naive', 'Logistic regression', 'Random Forest'])\n",
    "ax.set_ylabel(\"F1 score\")\n",
    "ax.set_xlabel(\"Models\")\n",
    "ax.grid()\n",
    "# Save the figure\n",
    "fig.savefig('boxplots.png', bbox_inches='tight')"
   ]
  },
  {
   "cell_type": "markdown",
   "metadata": {},
   "source": [
    "### idea: expand features with the prediction probabilities (not much success...) .\n",
    "there is something wrong (ignore this part! not worth to spend time in fixing it)"
   ]
  },
  {
   "cell_type": "code",
   "execution_count": null,
   "metadata": {},
   "outputs": [],
   "source": [
    "X_list, Y = initialize_input_output(imgs, gt_imgs)"
   ]
  },
  {
   "cell_type": "code",
   "execution_count": null,
   "metadata": {},
   "outputs": [],
   "source": [
    "X = np.array(flatten([flatten(matr) for matr in X_list]))\n",
    "output_patches = flatten([flatten(img_crop_matr(img)) for img in gt_imgs])\n",
    "Y = np.array([int(value_to_class(np.mean(patch))) for patch in output_patches])\n",
    "X.shape, Y.shape"
   ]
  },
  {
   "cell_type": "code",
   "execution_count": null,
   "metadata": {},
   "outputs": [],
   "source": [
    "models = train_models(train.imgs, train.gt_imgs, n_layers=2)"
   ]
  },
  {
   "cell_type": "code",
   "execution_count": null,
   "metadata": {},
   "outputs": [],
   "source": [
    "Z, Y = test_models(test.imgs, test.gt_imgs, models=models)\n",
    "Z.shape, Y.shape"
   ]
  },
  {
   "cell_type": "code",
   "execution_count": null,
   "metadata": {},
   "outputs": [],
   "source": [
    "i = 1\n",
    "image = test.imgs[i]\n",
    "prediction = Z[i*625:(i+1)*625]\n",
    "display_prediction(image, prediction)"
   ]
  },
  {
   "cell_type": "code",
   "execution_count": null,
   "metadata": {},
   "outputs": [],
   "source": []
  }
 ],
 "metadata": {
  "kernelspec": {
   "display_name": "Python [conda env:ada]",
   "language": "python",
   "name": "conda-env-ada-py"
  },
  "language_info": {
   "codemirror_mode": {
    "name": "ipython",
    "version": 3
   },
   "file_extension": ".py",
   "mimetype": "text/x-python",
   "name": "python",
   "nbconvert_exporter": "python",
   "pygments_lexer": "ipython3",
   "version": "3.6.3"
  }
 },
 "nbformat": 4,
 "nbformat_minor": 1
}
