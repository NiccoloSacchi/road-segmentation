{
 "cells": [
  {
   "cell_type": "markdown",
   "metadata": {},
   "source": [
    "##### Flow:\n",
    "1. load, reshape and split in test and train all the images\n",
    "2. instantiate a cnn model \n",
    "3. run the model on train and test data to verify how many epochs are more or less needed to get a nice model\n",
    "4. use that number of epochs to run cross validation (pass the whole 'set_' of images to the cross validation). Repeat from 2 with another model and compare.\n",
    "\n",
    "\n",
    "- If you notice that you hardly overfit maybe remove/decrease the dropout layers (e.g. from 0.25 to 0.15)\n",
    "- Try building a model that predicts directly 16x16"
   ]
  },
  {
   "cell_type": "code",
   "execution_count": 50,
   "metadata": {
    "collapsed": false
   },
   "outputs": [
    {
     "name": "stdout",
     "output_type": "stream",
     "text": [
      "The autoreload extension is already loaded. To reload it, use:\n",
      "  %reload_ext autoreload\n"
     ]
    }
   ],
   "source": [
    "%matplotlib inline\n",
    "\n",
    "import tensorflow as tf\n",
    "from keras.backend.tensorflow_backend import set_session\n",
    "config = tf.ConfigProto()\n",
    "config.gpu_options.per_process_gpu_memory_fraction = 0.5\n",
    "set_session(tf.Session(config=config))\n",
    "\n",
    "import matplotlib.pyplot as plt\n",
    "from datetime import datetime\n",
    "\n",
    "# keras functions\n",
    "from keras import callbacks\n",
    "from keras import preprocessing\n",
    "from keras.preprocessing import image\n",
    "\n",
    "# our libraries\n",
    "from preprocessing import *\n",
    "\n",
    "from cnn_models import *\n",
    "from evaluate import *\n",
    "\n",
    "import scipy as scipy\n",
    "from mask_to_submission import *\n",
    "\n",
    "%load_ext autoreload\n",
    "%autoreload 2"
   ]
  },
  {
   "cell_type": "markdown",
   "metadata": {},
   "source": [
    "#### Overview\n",
    "The goal here is to use the CNN to reduce the size of the input image to obtain a \"discretized\" image of shape, e.g. (W/16, H/16). Every entry of this image is related to a patch in the input image. This obtained image is compared by the CNN with the groundtruth (after properly discretizing by it patch-wise)."
   ]
  },
  {
   "cell_type": "markdown",
   "metadata": {},
   "source": [
    "### - Load data"
   ]
  },
  {
   "cell_type": "code",
   "execution_count": 51,
   "metadata": {
    "collapsed": false
   },
   "outputs": [
    {
     "name": "stdout",
     "output_type": "stream",
     "text": [
      "Loading 100 images\n"
     ]
    },
    {
     "data": {
      "text/plain": [
       "((400, 400, 3), (400, 400))"
      ]
     },
     "execution_count": 51,
     "metadata": {},
     "output_type": "execute_result"
    }
   ],
   "source": [
    "# Loaded a set of images\n",
    "n = 100\n",
    "\n",
    "imgs, gt_imgs = load_images(n)\n",
    "imgs[0].shape, gt_imgs[0].shape"
   ]
  },
  {
   "cell_type": "markdown",
   "metadata": {},
   "source": [
    "### - Reshape the data\n",
    "We reshape each input to fulfill our cnn inputs and output shape."
   ]
  },
  {
   "cell_type": "code",
   "execution_count": 52,
   "metadata": {
    "collapsed": false
   },
   "outputs": [
    {
     "data": {
      "text/plain": [
       "((100, 400, 400, 3), (100, 50, 50))"
      ]
     },
     "execution_count": 52,
     "metadata": {},
     "output_type": "execute_result"
    }
   ],
   "source": [
    "# !!! set predict_patch_width in accordance to the model you are using !!!\n",
    "# the shape of the output of the model depends on the strides parameters \n",
    "# (if a layer has stride=2 then each ouput's side is half of the input'side).\n",
    "# predict_patch_width must be equal to the total reduction of the model, e.g.\n",
    "# if the model has three layer with stride=2 => the input of the model is \n",
    "# reduced by a factor of 2*2*2=8, i.e. the ouptut will be patch-wise with \n",
    "# patches 8x8 pixels.\n",
    "predict_patch_width = 8\n",
    "\n",
    "X, Y = images_to_XY(imgs, gt_imgs, predict_patch_width=predict_patch_width)\n",
    "\n",
    "set_ = SimpleNamespace()\n",
    "set_.X = X\n",
    "set_.Y = Y\n",
    "\n",
    "X.shape, Y.shape"
   ]
  },
  {
   "cell_type": "markdown",
   "metadata": {},
   "source": [
    "### - For now avoid cross validation, just split the datasest in test and train. "
   ]
  },
  {
   "cell_type": "code",
   "execution_count": 53,
   "metadata": {
    "collapsed": false
   },
   "outputs": [
    {
     "data": {
      "text/plain": [
       "((75, 400, 400, 3), (75, 50, 50), (25, 400, 400, 3), (25, 50, 50))"
      ]
     },
     "execution_count": 53,
     "metadata": {},
     "output_type": "execute_result"
    }
   ],
   "source": [
    "test_ratio = 0.25\n",
    "\n",
    "train, test = split_train_test(X, Y, test_ratio=test_ratio, seed=1)\n",
    "train.X.shape, train.Y.shape, test.X.shape, test.Y.shape "
   ]
  },
  {
   "cell_type": "code",
   "execution_count": null,
   "metadata": {
    "collapsed": true
   },
   "outputs": [],
   "source": [
    "# # check it makes sense (show the i-th input of set_)\n",
    "# i = 0\n",
    "# set_ = test\n",
    "\n",
    "# fig, axs = plt.subplots(1, 2, figsize=(20, 10))\n",
    "# axs[0].imshow(set_.Y[i, :, :, 1], cmap='gray')\n",
    "# axs[1].imshow(set_.X[i, :, :])"
   ]
  },
  {
   "cell_type": "markdown",
   "metadata": {},
   "source": [
    "### - Build the CNN model or load a previous one"
   ]
  },
  {
   "cell_type": "markdown",
   "metadata": {},
   "source": [
    "- Choose one of the models you defined (with model_n) and initialize it."
   ]
  },
  {
   "cell_type": "code",
   "execution_count": 54,
   "metadata": {
    "collapsed": false
   },
   "outputs": [
    {
     "name": "stdout",
     "output_type": "stream",
     "text": [
      "_________________________________________________________________\n",
      "Layer (type)                 Output Shape              Param #   \n",
      "=================================================================\n",
      "conv2d_14 (Conv2D)           (None, None, None, 32)    11648     \n",
      "_________________________________________________________________\n",
      "dropout_6 (Dropout)          (None, None, None, 32)    0         \n",
      "_________________________________________________________________\n",
      "conv2d_15 (Conv2D)           (None, None, None, 48)    38448     \n",
      "_________________________________________________________________\n",
      "conv2d_16 (Conv2D)           (None, None, None, 48)    57648     \n",
      "_________________________________________________________________\n",
      "dropout_7 (Dropout)          (None, None, None, 48)    0         \n",
      "_________________________________________________________________\n",
      "conv2d_17 (Conv2D)           (None, None, None, 48)    57648     \n",
      "_________________________________________________________________\n",
      "conv2d_18 (Conv2D)           (None, None, None, 48)    57648     \n",
      "_________________________________________________________________\n",
      "dropout_8 (Dropout)          (None, None, None, 48)    0         \n",
      "_________________________________________________________________\n",
      "conv2d_19 (Conv2D)           (None, None, None, 64)    76864     \n",
      "_________________________________________________________________\n",
      "conv2d_20 (Conv2D)           (None, None, None, 64)    102464    \n",
      "_________________________________________________________________\n",
      "dropout_9 (Dropout)          (None, None, None, 64)    0         \n",
      "_________________________________________________________________\n",
      "conv2d_21 (Conv2D)           (None, None, None, 2)     3202      \n",
      "_________________________________________________________________\n",
      "activation_3 (Activation)    (None, None, None, 2)     0         \n",
      "=================================================================\n",
      "Total params: 405,570\n",
      "Trainable params: 405,570\n",
      "Non-trainable params: 0\n",
      "_________________________________________________________________\n",
      "None\n"
     ]
    }
   ],
   "source": [
    "# generate an unique name for the model (so to avoid overwriting previous models)\n",
    "folder_name = \"model_\"+str('{0:%Y-%m-%d_%H%M%S}'.format(datetime.now()))\n",
    "model_path = \"..\\\\models\\\\\"+folder_name\n",
    "model = CnnModel(model_n=1, model_path=model_path)\n",
    "model.summary()"
   ]
  },
  {
   "cell_type": "markdown",
   "metadata": {},
   "source": [
    "- Otherwise load a previous model"
   ]
  },
  {
   "cell_type": "code",
   "execution_count": 2,
   "metadata": {
    "collapsed": false
   },
   "outputs": [
    {
     "name": "stdout",
     "output_type": "stream",
     "text": [
      "Loaded model from disk\n",
      "_________________________________________________________________\n",
      "Layer (type)                 Output Shape              Param #   \n",
      "=================================================================\n",
      "conv2d_26 (Conv2D)           (None, None, None, 32)    11648     \n",
      "_________________________________________________________________\n",
      "dropout_6 (Dropout)          (None, None, None, 32)    0         \n",
      "_________________________________________________________________\n",
      "conv2d_27 (Conv2D)           (None, None, None, 48)    38448     \n",
      "_________________________________________________________________\n",
      "conv2d_28 (Conv2D)           (None, None, None, 48)    57648     \n",
      "_________________________________________________________________\n",
      "dropout_7 (Dropout)          (None, None, None, 48)    0         \n",
      "_________________________________________________________________\n",
      "conv2d_29 (Conv2D)           (None, None, None, 48)    57648     \n",
      "_________________________________________________________________\n",
      "conv2d_30 (Conv2D)           (None, None, None, 48)    57648     \n",
      "_________________________________________________________________\n",
      "dropout_8 (Dropout)          (None, None, None, 48)    0         \n",
      "_________________________________________________________________\n",
      "conv2d_31 (Conv2D)           (None, None, None, 64)    76864     \n",
      "_________________________________________________________________\n",
      "conv2d_32 (Conv2D)           (None, None, None, 64)    102464    \n",
      "_________________________________________________________________\n",
      "dropout_9 (Dropout)          (None, None, None, 64)    0         \n",
      "_________________________________________________________________\n",
      "conv2d_33 (Conv2D)           (None, None, None, 2)     3202      \n",
      "_________________________________________________________________\n",
      "activation_6 (Activation)    (None, None, None, 2)     0         \n",
      "=================================================================\n",
      "Total params: 405,570\n",
      "Trainable params: 405,570\n",
      "Non-trainable params: 0\n",
      "_________________________________________________________________\n",
      "None\n"
     ]
    }
   ],
   "source": [
    "# give the folder\n",
    "folder_name = \"model_2017-12-14_194132\"\n",
    "model_path = \"..\\models\\\\\"+folder_name\n",
    "model = CnnModel(model_path=model_path)\n",
    "model.load() # load the model and its weights\n",
    "model.summary()"
   ]
  },
  {
   "cell_type": "markdown",
   "metadata": {},
   "source": [
    "### - Train the model on the train data while validating it on the test data"
   ]
  },
  {
   "cell_type": "code",
   "execution_count": null,
   "metadata": {
    "collapsed": false
   },
   "outputs": [],
   "source": [
    "train.X.shape[0]"
   ]
  },
  {
   "cell_type": "code",
   "execution_count": 56,
   "metadata": {
    "collapsed": false
   },
   "outputs": [
    {
     "name": "stdout",
     "output_type": "stream",
     "text": [
      "Epoch 1/100\n",
      "24/25 [===========================>..] - ETA: 0s - loss: 0.5584 - acc: 0.7604Epoch 00001: val_loss improved from inf to 0.56323, saving model to ..\\models\\model_2017-12-15_005759\\2017-12-15_010207_best-weights.hdf5\n",
      "25/25 [==============================] - 12s 484ms/step - loss: 0.5560 - acc: 0.7638 - val_loss: 0.5632 - val_acc: 0.7628\n",
      "Epoch 2/100\n",
      "24/25 [===========================>..] - ETA: 0s - loss: 0.5371 - acc: 0.7793Epoch 00002: val_loss improved from 0.56323 to 0.55320, saving model to ..\\models\\model_2017-12-15_005759\\2017-12-15_010207_best-weights.hdf5\n",
      "25/25 [==============================] - 11s 444ms/step - loss: 0.5385 - acc: 0.7777 - val_loss: 0.5532 - val_acc: 0.7628\n",
      "Epoch 3/100\n",
      "24/25 [===========================>..] - ETA: 0s - loss: 0.5401 - acc: 0.7734Epoch 00003: val_loss did not improve\n",
      "25/25 [==============================] - 11s 445ms/step - loss: 0.5416 - acc: 0.7721 - val_loss: 0.5539 - val_acc: 0.7628\n",
      "Epoch 4/100\n",
      "24/25 [===========================>..] - ETA: 0s - loss: 0.5319 - acc: 0.7793Epoch 00004: val_loss did not improve\n",
      "25/25 [==============================] - 11s 444ms/step - loss: 0.5300 - acc: 0.7808 - val_loss: 0.5609 - val_acc: 0.7628\n",
      "Epoch 5/100\n",
      "24/25 [===========================>..] - ETA: 0s - loss: 0.5455 - acc: 0.7695Epoch 00005: val_loss did not improve\n",
      "25/25 [==============================] - 11s 443ms/step - loss: 0.5441 - acc: 0.7705 - val_loss: 0.5536 - val_acc: 0.7628\n",
      "Epoch 6/100\n",
      "24/25 [===========================>..] - ETA: 0s - loss: 0.5512 - acc: 0.7633Epoch 00006: val_loss improved from 0.55320 to 0.55308, saving model to ..\\models\\model_2017-12-15_005759\\2017-12-15_010207_best-weights.hdf5\n",
      "25/25 [==============================] - 11s 450ms/step - loss: 0.5513 - acc: 0.7632 - val_loss: 0.5531 - val_acc: 0.7628\n",
      "Epoch 7/100\n",
      "24/25 [===========================>..] - ETA: 0s - loss: 0.5409 - acc: 0.7715Epoch 00007: val_loss improved from 0.55308 to 0.55297, saving model to ..\\models\\model_2017-12-15_005759\\2017-12-15_010207_best-weights.hdf5\n",
      "25/25 [==============================] - 11s 445ms/step - loss: 0.5396 - acc: 0.7725 - val_loss: 0.5530 - val_acc: 0.7628\n",
      "Epoch 8/100\n",
      "24/25 [===========================>..] - ETA: 0s - loss: 0.5292 - acc: 0.7805Epoch 00008: val_loss improved from 0.55297 to 0.55283, saving model to ..\\models\\model_2017-12-15_005759\\2017-12-15_010207_best-weights.hdf5\n",
      "25/25 [==============================] - 11s 445ms/step - loss: 0.5258 - acc: 0.7834 - val_loss: 0.5528 - val_acc: 0.7628\n",
      "Epoch 9/100\n",
      "24/25 [===========================>..] - ETA: 0s - loss: 0.5394 - acc: 0.7724Epoch 00009: val_loss did not improve\n",
      "25/25 [==============================] - 11s 444ms/step - loss: 0.5388 - acc: 0.7729 - val_loss: 0.5538 - val_acc: 0.7628\n",
      "Epoch 10/100\n",
      "24/25 [===========================>..] - ETA: 0s - loss: 0.5471 - acc: 0.7663Epoch 00010: val_loss improved from 0.55283 to 0.55195, saving model to ..\\models\\model_2017-12-15_005759\\2017-12-15_010207_best-weights.hdf5\n",
      "25/25 [==============================] - 11s 448ms/step - loss: 0.5476 - acc: 0.7658 - val_loss: 0.5519 - val_acc: 0.7628\n",
      "Epoch 11/100\n",
      "24/25 [===========================>..] - ETA: 0s - loss: 0.5429 - acc: 0.7694Epoch 00011: val_loss did not improve\n",
      "25/25 [==============================] - 11s 443ms/step - loss: 0.5402 - acc: 0.7716 - val_loss: 0.5524 - val_acc: 0.7628\n",
      "Epoch 12/100\n",
      "24/25 [===========================>..] - ETA: 0s - loss: 0.5418 - acc: 0.7705Epoch 00012: val_loss improved from 0.55195 to 0.55171, saving model to ..\\models\\model_2017-12-15_005759\\2017-12-15_010207_best-weights.hdf5\n",
      "25/25 [==============================] - 11s 446ms/step - loss: 0.5431 - acc: 0.7693 - val_loss: 0.5517 - val_acc: 0.7628\n",
      "Epoch 13/100\n",
      "24/25 [===========================>..] - ETA: 0s - loss: 0.5443 - acc: 0.7675Epoch 00013: val_loss did not improve\n",
      "25/25 [==============================] - 11s 446ms/step - loss: 0.5447 - acc: 0.7672 - val_loss: 0.5548 - val_acc: 0.7628\n",
      "Epoch 14/100\n",
      "24/25 [===========================>..] - ETA: 0s - loss: 0.5545 - acc: 0.7604Epoch 00014: val_loss improved from 0.55171 to 0.55141, saving model to ..\\models\\model_2017-12-15_005759\\2017-12-15_010207_best-weights.hdf5\n",
      "25/25 [==============================] - 11s 447ms/step - loss: 0.5541 - acc: 0.7607 - val_loss: 0.5514 - val_acc: 0.7628\n",
      "Epoch 15/100\n",
      "24/25 [===========================>..] - ETA: 0s - loss: 0.5189 - acc: 0.7890Epoch 00015: val_loss did not improve\n",
      "25/25 [==============================] - 11s 446ms/step - loss: 0.5202 - acc: 0.7878 - val_loss: 0.5535 - val_acc: 0.7628\n",
      "Epoch 16/100\n",
      "24/25 [===========================>..] - ETA: 0s - loss: 0.5408 - acc: 0.7711Epoch 00016: val_loss did not improve\n",
      "25/25 [==============================] - 11s 446ms/step - loss: 0.5440 - acc: 0.7684 - val_loss: 0.5532 - val_acc: 0.7628\n",
      "Epoch 17/100\n",
      "24/25 [===========================>..] - ETA: 0s - loss: 0.5413 - acc: 0.7704Epoch 00017: val_loss improved from 0.55141 to 0.55110, saving model to ..\\models\\model_2017-12-15_005759\\2017-12-15_010207_best-weights.hdf5\n",
      "25/25 [==============================] - 11s 444ms/step - loss: 0.5443 - acc: 0.7677 - val_loss: 0.5511 - val_acc: 0.7628\n",
      "Epoch 18/100\n",
      "24/25 [===========================>..] - ETA: 0s - loss: 0.5424 - acc: 0.7688Epoch 00018: val_loss improved from 0.55110 to 0.55079, saving model to ..\\models\\model_2017-12-15_005759\\2017-12-15_010207_best-weights.hdf5\n",
      "25/25 [==============================] - 11s 447ms/step - loss: 0.5420 - acc: 0.7691 - val_loss: 0.5508 - val_acc: 0.7628\n",
      "Epoch 19/100\n",
      "24/25 [===========================>..] - ETA: 0s - loss: 0.5391 - acc: 0.7721Epoch 00019: val_loss did not improve\n",
      "25/25 [==============================] - 11s 444ms/step - loss: 0.5409 - acc: 0.7706 - val_loss: 0.5508 - val_acc: 0.7628\n",
      "Epoch 20/100\n",
      "24/25 [===========================>..] - ETA: 0s - loss: 0.5370 - acc: 0.7730Epoch 00020: val_loss improved from 0.55079 to 0.55068, saving model to ..\\models\\model_2017-12-15_005759\\2017-12-15_010207_best-weights.hdf5\n",
      "25/25 [==============================] - 11s 446ms/step - loss: 0.5375 - acc: 0.7724 - val_loss: 0.5507 - val_acc: 0.7628\n",
      "Epoch 21/100\n",
      "24/25 [===========================>..] - ETA: 0s - loss: 0.5403 - acc: 0.7709Epoch 00021: val_loss did not improve\n",
      "25/25 [==============================] - 11s 444ms/step - loss: 0.5363 - acc: 0.7740 - val_loss: 0.5532 - val_acc: 0.7628\n",
      "Epoch 22/100\n",
      "24/25 [===========================>..] - ETA: 0s - loss: 0.5330 - acc: 0.7764Epoch 00022: val_loss improved from 0.55068 to 0.55033, saving model to ..\\models\\model_2017-12-15_005759\\2017-12-15_010207_best-weights.hdf5\n",
      "25/25 [==============================] - 11s 446ms/step - loss: 0.5359 - acc: 0.7739 - val_loss: 0.5503 - val_acc: 0.7628\n",
      "Epoch 23/100\n",
      "24/25 [===========================>..] - ETA: 0s - loss: 0.5411 - acc: 0.7718Epoch 00023: val_loss did not improve\n",
      "25/25 [==============================] - 11s 443ms/step - loss: 0.5427 - acc: 0.7704 - val_loss: 0.5528 - val_acc: 0.7628\n",
      "Epoch 24/100\n",
      "24/25 [===========================>..] - ETA: 0s - loss: 0.5507 - acc: 0.7626Epoch 00024: val_loss did not improve\n",
      "25/25 [==============================] - 11s 443ms/step - loss: 0.5534 - acc: 0.7601 - val_loss: 0.5516 - val_acc: 0.7628\n",
      "Epoch 25/100\n",
      "24/25 [===========================>..] - ETA: 0s - loss: 0.5286 - acc: 0.7817Epoch 00025: val_loss did not improve\n",
      "25/25 [==============================] - 11s 443ms/step - loss: 0.5305 - acc: 0.7799 - val_loss: 0.5505 - val_acc: 0.7628\n",
      "Epoch 26/100\n",
      "24/25 [===========================>..] - ETA: 0s - loss: 0.5372 - acc: 0.7738Epoch 00026: val_loss did not improve\n",
      "25/25 [==============================] - 11s 443ms/step - loss: 0.5374 - acc: 0.7735 - val_loss: 0.5504 - val_acc: 0.7628\n",
      "Epoch 27/100\n",
      "24/25 [===========================>..] - ETA: 0s - loss: 0.5389 - acc: 0.7718Epoch 00027: val_loss improved from 0.55033 to 0.55017, saving model to ..\\models\\model_2017-12-15_005759\\2017-12-15_010207_best-weights.hdf5\n",
      "25/25 [==============================] - 11s 445ms/step - loss: 0.5414 - acc: 0.7698 - val_loss: 0.5502 - val_acc: 0.7628\n",
      "Epoch 28/100\n",
      "24/25 [===========================>..] - ETA: 0s - loss: 0.5350 - acc: 0.7745Epoch 00028: val_loss improved from 0.55017 to 0.54987, saving model to ..\\models\\model_2017-12-15_005759\\2017-12-15_010207_best-weights.hdf5\n",
      "25/25 [==============================] - 11s 445ms/step - loss: 0.5349 - acc: 0.7747 - val_loss: 0.5499 - val_acc: 0.7628\n",
      "Epoch 29/100\n",
      "24/25 [===========================>..] - ETA: 0s - loss: 0.5354 - acc: 0.7741Epoch 00029: val_loss did not improve\n",
      "25/25 [==============================] - 11s 444ms/step - loss: 0.5348 - acc: 0.7745 - val_loss: 0.5499 - val_acc: 0.7628\n",
      "Epoch 30/100\n",
      "24/25 [===========================>..] - ETA: 0s - loss: 0.5431 - acc: 0.7694Epoch 00030: val_loss improved from 0.54987 to 0.54982, saving model to ..\\models\\model_2017-12-15_005759\\2017-12-15_010207_best-weights.hdf5\n",
      "25/25 [==============================] - 11s 446ms/step - loss: 0.5448 - acc: 0.7677 - val_loss: 0.5498 - val_acc: 0.7628\n",
      "Epoch 31/100\n",
      "24/25 [===========================>..] - ETA: 0s - loss: 0.5235 - acc: 0.7838Epoch 00031: val_loss did not improve\n",
      "25/25 [==============================] - 11s 444ms/step - loss: 0.5260 - acc: 0.7825 - val_loss: 0.5633 - val_acc: 0.7628\n",
      "Epoch 32/100\n",
      "24/25 [===========================>..] - ETA: 0s - loss: 0.5351 - acc: 0.7778Epoch 00032: val_loss did not improve\n",
      "25/25 [==============================] - 11s 443ms/step - loss: 0.5369 - acc: 0.7764 - val_loss: 0.5559 - val_acc: 0.7628\n",
      "Epoch 33/100\n",
      "24/25 [===========================>..] - ETA: 0s - loss: 0.5325 - acc: 0.7763Epoch 00033: val_loss did not improve\n",
      "25/25 [==============================] - 11s 445ms/step - loss: 0.5333 - acc: 0.7756 - val_loss: 0.5499 - val_acc: 0.7628\n",
      "Epoch 34/100\n",
      "24/25 [===========================>..] - ETA: 0s - loss: 0.5458 - acc: 0.7660Epoch 00034: val_loss did not improve\n",
      "25/25 [==============================] - 11s 443ms/step - loss: 0.5426 - acc: 0.7684 - val_loss: 0.5502 - val_acc: 0.7628\n",
      "Epoch 35/100\n",
      "24/25 [===========================>..] - ETA: 0s - loss: 0.5388 - acc: 0.7725Epoch 00035: val_loss did not improve\n",
      "25/25 [==============================] - 11s 445ms/step - loss: 0.5377 - acc: 0.7733 - val_loss: 0.5511 - val_acc: 0.7628\n",
      "Epoch 36/100\n",
      "24/25 [===========================>..] - ETA: 0s - loss: 0.5497 - acc: 0.7622Epoch 00036: val_loss improved from 0.54982 to 0.54958, saving model to ..\\models\\model_2017-12-15_005759\\2017-12-15_010207_best-weights.hdf5\n",
      "25/25 [==============================] - 11s 446ms/step - loss: 0.5511 - acc: 0.7608 - val_loss: 0.5496 - val_acc: 0.7628\n",
      "Epoch 37/100\n",
      "24/25 [===========================>..] - ETA: 0s - loss: 0.5423 - acc: 0.7676Epoch 00037: val_loss did not improve\n",
      "25/25 [==============================] - 11s 444ms/step - loss: 0.5398 - acc: 0.7697 - val_loss: 0.5497 - val_acc: 0.7628\n",
      "Epoch 38/100\n",
      "24/25 [===========================>..] - ETA: 0s - loss: 0.5434 - acc: 0.7693Epoch 00038: val_loss did not improve\n",
      "25/25 [==============================] - 11s 444ms/step - loss: 0.5434 - acc: 0.7694 - val_loss: 0.5506 - val_acc: 0.7628\n",
      "Epoch 39/100\n",
      "24/25 [===========================>..] - ETA: 0s - loss: 0.5404 - acc: 0.7711Epoch 00039: val_loss improved from 0.54958 to 0.54955, saving model to ..\\models\\model_2017-12-15_005759\\2017-12-15_010207_best-weights.hdf5\n",
      "25/25 [==============================] - 11s 445ms/step - loss: 0.5377 - acc: 0.7734 - val_loss: 0.5495 - val_acc: 0.7628\n",
      "Epoch 40/100\n",
      "24/25 [===========================>..] - ETA: 0s - loss: 0.5214 - acc: 0.7855Epoch 00040: val_loss did not improve\n",
      "25/25 [==============================] - 11s 443ms/step - loss: 0.5212 - acc: 0.7857 - val_loss: 0.5532 - val_acc: 0.7628\n",
      "Epoch 41/100\n",
      "24/25 [===========================>..] - ETA: 0s - loss: 0.5546 - acc: 0.7598Epoch 00041: val_loss improved from 0.54955 to 0.54934, saving model to ..\\models\\model_2017-12-15_005759\\2017-12-15_010207_best-weights.hdf5\n",
      "25/25 [==============================] - 11s 444ms/step - loss: 0.5492 - acc: 0.7645 - val_loss: 0.5493 - val_acc: 0.7628\n",
      "Epoch 42/100\n",
      "24/25 [===========================>..] - ETA: 0s - loss: 0.5462 - acc: 0.7652Epoch 00042: val_loss did not improve\n",
      "25/25 [==============================] - 11s 444ms/step - loss: 0.5484 - acc: 0.7633 - val_loss: 0.5494 - val_acc: 0.7628\n",
      "Epoch 43/100\n",
      "24/25 [===========================>..] - ETA: 0s - loss: 0.5497 - acc: 0.7620Epoch 00043: val_loss did not improve\n",
      "25/25 [==============================] - 11s 444ms/step - loss: 0.5507 - acc: 0.7612 - val_loss: 0.5496 - val_acc: 0.7628\n",
      "Epoch 44/100\n",
      "24/25 [===========================>..] - ETA: 0s - loss: 0.5184 - acc: 0.7876Epoch 00044: val_loss did not improve\n",
      "25/25 [==============================] - 11s 443ms/step - loss: 0.5155 - acc: 0.7900 - val_loss: 0.5498 - val_acc: 0.7628\n",
      "Epoch 45/100\n",
      "24/25 [===========================>..] - ETA: 0s - loss: 0.5459 - acc: 0.7655Epoch 00045: val_loss did not improve\n",
      "25/25 [==============================] - 11s 444ms/step - loss: 0.5481 - acc: 0.7638 - val_loss: 0.5503 - val_acc: 0.7628\n",
      "Epoch 46/100\n",
      "24/25 [===========================>..] - ETA: 0s - loss: 0.5193 - acc: 0.7874Epoch 00046: val_loss did not improve\n",
      "25/25 [==============================] - 11s 444ms/step - loss: 0.5187 - acc: 0.7877 - val_loss: 0.5517 - val_acc: 0.7628\n",
      "Epoch 47/100\n",
      "24/25 [===========================>..] - ETA: 0s - loss: 0.5548 - acc: 0.7575Epoch 00047: val_loss did not improve\n",
      "25/25 [==============================] - 11s 445ms/step - loss: 0.5539 - acc: 0.7583 - val_loss: 0.5499 - val_acc: 0.7628\n",
      "Epoch 48/100\n",
      "24/25 [===========================>..] - ETA: 0s - loss: 0.5238 - acc: 0.7831Epoch 00048: val_loss did not improve\n",
      "25/25 [==============================] - 11s 444ms/step - loss: 0.5187 - acc: 0.7868 - val_loss: 0.5551 - val_acc: 0.7628\n",
      "Epoch 49/100\n",
      "24/25 [===========================>..] - ETA: 0s - loss: 0.5321 - acc: 0.7782Epoch 00049: val_loss improved from 0.54934 to 0.54929, saving model to ..\\models\\model_2017-12-15_005759\\2017-12-15_010207_best-weights.hdf5\n",
      "25/25 [==============================] - 11s 444ms/step - loss: 0.5324 - acc: 0.7777 - val_loss: 0.5493 - val_acc: 0.7628\n",
      "Epoch 50/100\n",
      "24/25 [===========================>..] - ETA: 0s - loss: 0.5435 - acc: 0.7672Epoch 00050: val_loss improved from 0.54929 to 0.54906, saving model to ..\\models\\model_2017-12-15_005759\\2017-12-15_010207_best-weights.hdf5\n",
      "25/25 [==============================] - 11s 446ms/step - loss: 0.5450 - acc: 0.7659 - val_loss: 0.5491 - val_acc: 0.7628\n",
      "Epoch 51/100\n",
      "24/25 [===========================>..] - ETA: 0s - loss: 0.5374 - acc: 0.7719Epoch 00051: val_loss did not improve\n",
      "25/25 [==============================] - 11s 444ms/step - loss: 0.5349 - acc: 0.7741 - val_loss: 0.5492 - val_acc: 0.7628\n",
      "Epoch 52/100\n",
      "24/25 [===========================>..] - ETA: 0s - loss: 0.5364 - acc: 0.7731Epoch 00052: val_loss improved from 0.54906 to 0.54901, saving model to ..\\models\\model_2017-12-15_005759\\2017-12-15_010207_best-weights.hdf5\n",
      "25/25 [==============================] - 11s 445ms/step - loss: 0.5401 - acc: 0.7699 - val_loss: 0.5490 - val_acc: 0.7628\n",
      "Epoch 53/100\n",
      "24/25 [===========================>..] - ETA: 0s - loss: 0.5374 - acc: 0.7728Epoch 00053: val_loss improved from 0.54901 to 0.54899, saving model to ..\\models\\model_2017-12-15_005759\\2017-12-15_010207_best-weights.hdf5\n",
      "25/25 [==============================] - 11s 446ms/step - loss: 0.5394 - acc: 0.7711 - val_loss: 0.5490 - val_acc: 0.7628\n",
      "Epoch 54/100\n",
      "24/25 [===========================>..] - ETA: 0s - loss: 0.5410 - acc: 0.7696Epoch 00054: val_loss did not improve\n",
      "25/25 [==============================] - 11s 443ms/step - loss: 0.5416 - acc: 0.7692 - val_loss: 0.5498 - val_acc: 0.7628\n",
      "Epoch 55/100\n",
      "24/25 [===========================>..] - ETA: 0s - loss: 0.5449 - acc: 0.7661Epoch 00055: val_loss did not improve\n",
      "25/25 [==============================] - 11s 444ms/step - loss: 0.5441 - acc: 0.7668 - val_loss: 0.5493 - val_acc: 0.7628\n",
      "Epoch 56/100\n",
      "24/25 [===========================>..] - ETA: 0s - loss: 0.5216 - acc: 0.7871Epoch 00056: val_loss did not improve\n",
      "25/25 [==============================] - 11s 445ms/step - loss: 0.5228 - acc: 0.7860 - val_loss: 0.5504 - val_acc: 0.7628\n",
      "Epoch 57/100\n",
      "24/25 [===========================>..] - ETA: 0s - loss: 0.5306 - acc: 0.7777Epoch 00057: val_loss did not improve\n",
      "25/25 [==============================] - 11s 444ms/step - loss: 0.5309 - acc: 0.7775 - val_loss: 0.5508 - val_acc: 0.7628\n",
      "Epoch 58/100\n",
      "24/25 [===========================>..] - ETA: 0s - loss: 0.5479 - acc: 0.7649Epoch 00058: val_loss improved from 0.54899 to 0.54890, saving model to ..\\models\\model_2017-12-15_005759\\2017-12-15_010207_best-weights.hdf5\n",
      "25/25 [==============================] - 11s 446ms/step - loss: 0.5503 - acc: 0.7628 - val_loss: 0.5489 - val_acc: 0.7628\n",
      "Epoch 59/100\n",
      "24/25 [===========================>..] - ETA: 0s - loss: 0.5338 - acc: 0.7754Epoch 00059: val_loss did not improve\n",
      "25/25 [==============================] - 11s 444ms/step - loss: 0.5350 - acc: 0.7743 - val_loss: 0.5496 - val_acc: 0.7628\n",
      "Epoch 60/100\n",
      "24/25 [===========================>..] - ETA: 0s - loss: 0.5289 - acc: 0.7791Epoch 00060: val_loss did not improve\n",
      "25/25 [==============================] - 11s 444ms/step - loss: 0.5263 - acc: 0.7812 - val_loss: 0.5492 - val_acc: 0.7628\n",
      "Epoch 61/100\n",
      "24/25 [===========================>..] - ETA: 0s - loss: 0.5395 - acc: 0.7707Epoch 00061: val_loss did not improve\n",
      "25/25 [==============================] - 11s 444ms/step - loss: 0.5418 - acc: 0.7689 - val_loss: 0.5500 - val_acc: 0.7628\n",
      "Epoch 62/100\n",
      "24/25 [===========================>..] - ETA: 0s - loss: 0.5431 - acc: 0.7673Epoch 00062: val_loss did not improve\n",
      "25/25 [==============================] - 11s 444ms/step - loss: 0.5403 - acc: 0.7696 - val_loss: 0.5495 - val_acc: 0.7628\n",
      "Epoch 63/100\n",
      "24/25 [===========================>..] - ETA: 0s - loss: 0.5432 - acc: 0.7680Epoch 00063: val_loss did not improve\n",
      "25/25 [==============================] - 11s 445ms/step - loss: 0.5417 - acc: 0.7692 - val_loss: 0.5496 - val_acc: 0.7628\n",
      "Epoch 64/100\n",
      "24/25 [===========================>..] - ETA: 0s - loss: 0.5465 - acc: 0.7649Epoch 00064: val_loss improved from 0.54890 to 0.54883, saving model to ..\\models\\model_2017-12-15_005759\\2017-12-15_010207_best-weights.hdf5\n",
      "25/25 [==============================] - 11s 446ms/step - loss: 0.5481 - acc: 0.7635 - val_loss: 0.5488 - val_acc: 0.7628\n",
      "Epoch 65/100\n",
      "24/25 [===========================>..] - ETA: 0s - loss: 0.5176 - acc: 0.7880Epoch 00065: val_loss did not improve\n",
      "25/25 [==============================] - 11s 444ms/step - loss: 0.5226 - acc: 0.7843 - val_loss: 0.5517 - val_acc: 0.7628\n",
      "Epoch 66/100\n",
      "24/25 [===========================>..] - ETA: 0s - loss: 0.5535 - acc: 0.7589Epoch 00066: val_loss did not improve\n",
      "25/25 [==============================] - 11s 444ms/step - loss: 0.5545 - acc: 0.7580 - val_loss: 0.5491 - val_acc: 0.7628\n",
      "Epoch 67/100\n",
      "24/25 [===========================>..] - ETA: 0s - loss: 0.5291 - acc: 0.7799Epoch 00067: val_loss did not improve\n",
      "25/25 [==============================] - 11s 443ms/step - loss: 0.5312 - acc: 0.7782 - val_loss: 0.5501 - val_acc: 0.7628\n",
      "Epoch 68/100\n",
      "24/25 [===========================>..] - ETA: 0s - loss: 0.5268 - acc: 0.7811Epoch 00068: val_loss did not improve\n",
      "25/25 [==============================] - 11s 443ms/step - loss: 0.5263 - acc: 0.7814 - val_loss: 0.5501 - val_acc: 0.7628\n",
      "Epoch 69/100\n",
      "24/25 [===========================>..] - ETA: 0s - loss: 0.5360 - acc: 0.7738Epoch 00069: val_loss did not improve\n",
      "25/25 [==============================] - 11s 444ms/step - loss: 0.5373 - acc: 0.7726 - val_loss: 0.5490 - val_acc: 0.7628\n",
      "Epoch 70/100\n",
      "24/25 [===========================>..] - ETA: 0s - loss: 0.5330 - acc: 0.7757Epoch 00070: val_loss did not improve\n",
      "25/25 [==============================] - 11s 445ms/step - loss: 0.5308 - acc: 0.7774 - val_loss: 0.5507 - val_acc: 0.7628\n",
      "Epoch 71/100\n",
      "24/25 [===========================>..] - ETA: 0s - loss: 0.5432 - acc: 0.7675Epoch 00071: val_loss improved from 0.54883 to 0.54880, saving model to ..\\models\\model_2017-12-15_005759\\2017-12-15_010207_best-weights.hdf5\n",
      "25/25 [==============================] - 11s 446ms/step - loss: 0.5441 - acc: 0.7667 - val_loss: 0.5488 - val_acc: 0.7628\n",
      "Epoch 72/100\n",
      "24/25 [===========================>..] - ETA: 0s - loss: 0.5368 - acc: 0.7727Epoch 00072: val_loss did not improve\n",
      "25/25 [==============================] - 11s 442ms/step - loss: 0.5377 - acc: 0.7719 - val_loss: 0.5491 - val_acc: 0.7628\n",
      "Epoch 73/100\n",
      "24/25 [===========================>..] - ETA: 0s - loss: 0.5517 - acc: 0.7603Epoch 00073: val_loss did not improve\n",
      "25/25 [==============================] - 11s 444ms/step - loss: 0.5541 - acc: 0.7582 - val_loss: 0.5489 - val_acc: 0.7628\n",
      "Epoch 74/100\n",
      "24/25 [===========================>..] - ETA: 0s - loss: 0.5405 - acc: 0.7695Epoch 00074: val_loss did not improve\n",
      "25/25 [==============================] - 11s 443ms/step - loss: 0.5384 - acc: 0.7711 - val_loss: 0.5495 - val_acc: 0.7628\n",
      "Epoch 75/100\n",
      "24/25 [===========================>..] - ETA: 0s - loss: 0.5261 - acc: 0.7822Epoch 00075: val_loss did not improve\n",
      "25/25 [==============================] - 11s 444ms/step - loss: 0.5276 - acc: 0.7810 - val_loss: 0.5490 - val_acc: 0.7628\n",
      "Epoch 76/100\n",
      "24/25 [===========================>..] - ETA: 0s - loss: 0.5394 - acc: 0.7716Epoch 00076: val_loss did not improve\n",
      "25/25 [==============================] - 11s 444ms/step - loss: 0.5403 - acc: 0.7708 - val_loss: 0.5489 - val_acc: 0.7628\n",
      "Epoch 77/100\n",
      "24/25 [===========================>..] - ETA: 0s - loss: 0.5328 - acc: 0.7763Epoch 00077: val_loss did not improve\n",
      "25/25 [==============================] - 11s 444ms/step - loss: 0.5316 - acc: 0.7772 - val_loss: 0.5517 - val_acc: 0.7628\n",
      "Epoch 78/100\n",
      "24/25 [===========================>..] - ETA: 0s - loss: 0.5440 - acc: 0.7665Epoch 00078: val_loss did not improve\n",
      "25/25 [==============================] - 11s 444ms/step - loss: 0.5448 - acc: 0.7657 - val_loss: 0.5495 - val_acc: 0.7628\n",
      "Epoch 79/100\n",
      "24/25 [===========================>..] - ETA: 0s - loss: 0.5363 - acc: 0.7754Epoch 00079: val_loss did not improve\n",
      "25/25 [==============================] - 11s 444ms/step - loss: 0.5332 - acc: 0.7778 - val_loss: 0.5492 - val_acc: 0.7628\n",
      "Epoch 80/100\n",
      "24/25 [===========================>..] - ETA: 0s - loss: 0.5315 - acc: 0.7765Epoch 00080: val_loss did not improve\n",
      "25/25 [==============================] - 11s 444ms/step - loss: 0.5324 - acc: 0.7758 - val_loss: 0.5500 - val_acc: 0.7628\n",
      "Epoch 81/100\n",
      "24/25 [===========================>..] - ETA: 0s - loss: 0.5421 - acc: 0.7682Epoch 00081: val_loss did not improve\n",
      "25/25 [==============================] - 11s 445ms/step - loss: 0.5359 - acc: 0.7735 - val_loss: 0.5490 - val_acc: 0.7628\n",
      "Epoch 82/100\n",
      "24/25 [===========================>..] - ETA: 0s - loss: 0.5413 - acc: 0.7689Epoch 00082: val_loss did not improve\n",
      "25/25 [==============================] - 11s 443ms/step - loss: 0.5421 - acc: 0.7682 - val_loss: 0.5495 - val_acc: 0.7628\n",
      "Epoch 83/100\n",
      "24/25 [===========================>..] - ETA: 0s - loss: 0.5359 - acc: 0.7741Epoch 00083: val_loss did not improve\n",
      "25/25 [==============================] - 11s 444ms/step - loss: 0.5357 - acc: 0.7743 - val_loss: 0.5492 - val_acc: 0.7628\n",
      "Epoch 84/100\n",
      "24/25 [===========================>..] - ETA: 0s - loss: 0.5497 - acc: 0.7619Epoch 00084: val_loss did not improve\n",
      "25/25 [==============================] - 11s 443ms/step - loss: 0.5502 - acc: 0.7614 - val_loss: 0.5491 - val_acc: 0.7628\n",
      "Epoch 85/100\n",
      "24/25 [===========================>..] - ETA: 0s - loss: 0.5193 - acc: 0.7878Epoch 00085: val_loss did not improve\n",
      "25/25 [==============================] - 11s 443ms/step - loss: 0.5207 - acc: 0.7868 - val_loss: 0.5518 - val_acc: 0.7628\n",
      "Epoch 86/100\n",
      "24/25 [===========================>..] - ETA: 0s - loss: 0.5507 - acc: 0.7612Epoch 00086: val_loss did not improve\n",
      "25/25 [==============================] - 11s 444ms/step - loss: 0.5503 - acc: 0.7617 - val_loss: 0.5488 - val_acc: 0.7628\n",
      "Epoch 87/100\n",
      "24/25 [===========================>..] - ETA: 0s - loss: 0.5442 - acc: 0.7665Epoch 00087: val_loss did not improve\n",
      "25/25 [==============================] - 11s 444ms/step - loss: 0.5439 - acc: 0.7667 - val_loss: 0.5491 - val_acc: 0.7628\n",
      "Epoch 88/100\n",
      "24/25 [===========================>..] - ETA: 0s - loss: 0.5297 - acc: 0.7788Epoch 00088: val_loss did not improve\n",
      "25/25 [==============================] - 11s 444ms/step - loss: 0.5296 - acc: 0.7789 - val_loss: 0.5500 - val_acc: 0.7628\n",
      "Epoch 89/100\n",
      "24/25 [===========================>..] - ETA: 0s - loss: 0.5423 - acc: 0.7686Epoch 00089: val_loss did not improve\n",
      "25/25 [==============================] - 11s 443ms/step - loss: 0.5421 - acc: 0.7688 - val_loss: 0.5500 - val_acc: 0.7628\n",
      "Epoch 90/100\n",
      "24/25 [===========================>..] - ETA: 0s - loss: 0.5369 - acc: 0.7738Epoch 00090: val_loss did not improve\n",
      "25/25 [==============================] - 11s 443ms/step - loss: 0.5378 - acc: 0.7731 - val_loss: 0.5490 - val_acc: 0.7628\n",
      "Epoch 91/100\n",
      "24/25 [===========================>..] - ETA: 0s - loss: 0.5412 - acc: 0.7689Epoch 00091: val_loss did not improve\n",
      "25/25 [==============================] - 11s 444ms/step - loss: 0.5385 - acc: 0.7711 - val_loss: 0.5490 - val_acc: 0.7628\n",
      "Epoch 92/100\n",
      "24/25 [===========================>..] - ETA: 0s - loss: 0.5420 - acc: 0.7683Epoch 00092: val_loss did not improve\n",
      "25/25 [==============================] - 11s 445ms/step - loss: 0.5434 - acc: 0.7671 - val_loss: 0.5489 - val_acc: 0.7628\n",
      "Epoch 93/100\n",
      "24/25 [===========================>..] - ETA: 0s - loss: 0.5348 - acc: 0.7746Epoch 00093: val_loss did not improve\n",
      "25/25 [==============================] - 11s 446ms/step - loss: 0.5351 - acc: 0.7743 - val_loss: 0.5510 - val_acc: 0.7628\n",
      "Epoch 94/100\n",
      "24/25 [===========================>..] - ETA: 0s - loss: 0.5412 - acc: 0.7690Epoch 00094: val_loss did not improve\n",
      "25/25 [==============================] - 11s 443ms/step - loss: 0.5387 - acc: 0.7712 - val_loss: 0.5490 - val_acc: 0.7628\n",
      "Epoch 95/100\n",
      "24/25 [===========================>..] - ETA: 0s - loss: 0.5511 - acc: 0.7604Epoch 00095: val_loss did not improve\n",
      "25/25 [==============================] - 11s 443ms/step - loss: 0.5463 - acc: 0.7644 - val_loss: 0.5490 - val_acc: 0.7628\n",
      "Epoch 96/100\n",
      "24/25 [===========================>..] - ETA: 0s - loss: 0.5485 - acc: 0.7628Epoch 00096: val_loss did not improve\n",
      "25/25 [==============================] - 11s 446ms/step - loss: 0.5485 - acc: 0.7627 - val_loss: 0.5489 - val_acc: 0.7628\n",
      "Epoch 97/100\n",
      "24/25 [===========================>..] - ETA: 0s - loss: 0.5244 - acc: 0.7825Epoch 00097: val_loss did not improve\n",
      "25/25 [==============================] - 11s 444ms/step - loss: 0.5235 - acc: 0.7832 - val_loss: 0.5528 - val_acc: 0.7628\n",
      "Epoch 98/100\n",
      "24/25 [===========================>..] - ETA: 0s - loss: 0.5288 - acc: 0.7793Epoch 00098: val_loss did not improve\n",
      "25/25 [==============================] - 11s 444ms/step - loss: 0.5263 - acc: 0.7812 - val_loss: 0.5495 - val_acc: 0.7628\n",
      "Epoch 99/100\n",
      "24/25 [===========================>..] - ETA: 0s - loss: 0.5481 - acc: 0.7627Epoch 00099: val_loss did not improve\n",
      "25/25 [==============================] - 11s 443ms/step - loss: 0.5475 - acc: 0.7633 - val_loss: 0.5490 - val_acc: 0.7628\n",
      "Epoch 100/100\n",
      "24/25 [===========================>..] - ETA: 0s - loss: 0.5298 - acc: 0.7792Epoch 00100: val_loss did not improve\n",
      "25/25 [==============================] - 11s 444ms/step - loss: 0.5301 - acc: 0.7789 - val_loss: 0.5498 - val_acc: 0.7628\n"
     ]
    }
   ],
   "source": [
    "# pass a batch size which is a factor of train.shape[0] so that all the batches are fo the same size\n",
    "num_epochs=100\n",
    "batch_size=3\n",
    "_ = model.train(train, test=test, num_epochs=num_epochs, batch_size=batch_size, monitor='val_loss') "
   ]
  },
  {
   "cell_type": "code",
   "execution_count": 57,
   "metadata": {
    "collapsed": false
   },
   "outputs": [
    {
     "name": "stdout",
     "output_type": "stream",
     "text": [
      "Saved model to disk\n"
     ]
    }
   ],
   "source": [
    "model.save()"
   ]
  },
  {
   "cell_type": "code",
   "execution_count": 58,
   "metadata": {
    "collapsed": false
   },
   "outputs": [
    {
     "data": {
      "image/png": "[encoded data removed]",
      "text/plain": [
       "<matplotlib.figure.Figure at 0x1c3828ce438>"
      ]
     },
     "metadata": {},
     "output_type": "display_data"
    }
   ],
   "source": [
    "model.plot_history()"
   ]
  },
  {
   "cell_type": "markdown",
   "metadata": {},
   "source": [
    "### - Run cross validation to evaluate the model"
   ]
  },
  {
   "cell_type": "code",
   "execution_count": null,
   "metadata": {
    "collapsed": false
   },
   "outputs": [],
   "source": [
    "num_epochs=10\n",
    "batch_size=3\n",
    "result = model.cross_validation(set_, batch_size=batch_size, num_epochs=num_epochs)\n",
    "result"
   ]
  },
  {
   "cell_type": "code",
   "execution_count": null,
   "metadata": {
    "collapsed": false
   },
   "outputs": [],
   "source": [
    "# plot the histories of the cross validation\n",
    "plot_history(result[\"history_mean\"]) \n",
    "# history of the folds (check if there is a worst case)\n",
    "# plot_history(result[\"histories\"][0]) \n",
    "# plot_history(result[\"histories\"][1]) \n",
    "# plot_history(result[\"histories\"][2]) \n",
    "# plot_history(result[\"histories\"][3]) "
   ]
  },
  {
   "cell_type": "markdown",
   "metadata": {},
   "source": [
    "#### Plot the accuracy and the loss obtained during training"
   ]
  },
  {
   "cell_type": "code",
   "execution_count": null,
   "metadata": {
    "collapsed": false
   },
   "outputs": [],
   "source": [
    "last_epochs=20 # plot only the last n epochs\n",
    "model.plot_history(last_epochs=last_epochs)"
   ]
  },
  {
   "cell_type": "markdown",
   "metadata": {},
   "source": [
    "#### Display the output of a specific layer"
   ]
  },
  {
   "cell_type": "code",
   "execution_count": null,
   "metadata": {
    "collapsed": true
   },
   "outputs": [],
   "source": [
    "# these are all the layers \n",
    "model.model.layers"
   ]
  },
  {
   "cell_type": "code",
   "execution_count": null,
   "metadata": {
    "collapsed": true
   },
   "outputs": [],
   "source": [
    "# choose a layer and an image \n",
    "image = test.X[0]\n",
    "layer_num = 8\n",
    "\n",
    "model.show_layer_output(image, layer_num, filename=\"\") # pass a filename if you want to store the image to file "
   ]
  },
  {
   "cell_type": "markdown",
   "metadata": {},
   "source": [
    "### - Evaluate the model on the test data"
   ]
  },
  {
   "cell_type": "code",
   "execution_count": 60,
   "metadata": {
    "collapsed": true
   },
   "outputs": [],
   "source": [
    "#re-evaluate on some subset\n",
    "test_ratio = 0.10\n",
    "train, test = split_train_test(X, Y, test_ratio=test_ratio, seed=1)"
   ]
  },
  {
   "cell_type": "code",
   "execution_count": 61,
   "metadata": {
    "collapsed": false
   },
   "outputs": [
    {
     "name": "stderr",
     "output_type": "stream",
     "text": [
      "C:\\Program Files\\Anaconda3\\lib\\site-packages\\sklearn\\metrics\\classification.py:1135: UndefinedMetricWarning: Precision and F-score are ill-defined and being set to 0.0 in labels with no predicted samples.\n",
      "  'precision', 'predicted', average, warn_for)\n"
     ]
    },
    {
     "name": "stdout",
     "output_type": "stream",
     "text": [
      "                precision    recall  f1-score   support\n",
      "\n",
      "0 (background)       0.73      1.00      0.84     18170\n",
      "      1 (road)       0.00      0.00      0.00      6830\n",
      "\n",
      "   avg / total       0.53      0.73      0.61     25000\n",
      "\n",
      "Confusion matrix, without normalization\n"
     ]
    },
    {
     "data": {
      "image/png": "[encoded data removed]",
      "text/plain": [
       "<matplotlib.figure.Figure at 0x1c381793908>"
      ]
     },
     "metadata": {},
     "output_type": "display_data"
    },
    {
     "name": "stdout",
     "output_type": "stream",
     "text": [
      "Normalized confusion matrix\n"
     ]
    },
    {
     "data": {
      "image/png": "[encoded data removed]",
      "text/plain": [
       "<matplotlib.figure.Figure at 0x1c380f674e0>"
      ]
     },
     "metadata": {},
     "output_type": "display_data"
    }
   ],
   "source": [
    "# check the performance on train or test\n",
    "\n",
    "\n",
    "set_ = test\n",
    "\n",
    "model.evaluate_model(set_.X, set_.Y)"
   ]
  },
  {
   "cell_type": "code",
   "execution_count": 102,
   "metadata": {
    "collapsed": true
   },
   "outputs": [],
   "source": [
    "#and reset the train set as full dataset\n",
    "test_ratio = 0.0\n",
    "train, test = split_train_test(X, Y, test_ratio=test_ratio, seed=1)"
   ]
  },
  {
   "cell_type": "markdown",
   "metadata": {},
   "source": [
    "### - Show a prediction"
   ]
  },
  {
   "cell_type": "code",
   "execution_count": 4,
   "metadata": {
    "collapsed": false
   },
   "outputs": [
    {
     "ename": "NameError",
     "evalue": "name 'train' is not defined",
     "output_type": "error",
     "traceback": [
      "\u001b[0;31m---------------------------------------------------------------------------\u001b[0m",
      "\u001b[0;31mNameError\u001b[0m                                 Traceback (most recent call last)",
      "\u001b[0;32m<ipython-input-4-524e5e56989a>\u001b[0m in \u001b[0;36m<module>\u001b[0;34m()\u001b[0m\n\u001b[1;32m      1\u001b[0m \u001b[1;31m# choose an image to predict (or part of it)\u001b[0m\u001b[1;33m\u001b[0m\u001b[1;33m\u001b[0m\u001b[0m\n\u001b[0;32m----> 2\u001b[0;31m \u001b[0mimg\u001b[0m \u001b[1;33m=\u001b[0m \u001b[0mtrain\u001b[0m\u001b[1;33m.\u001b[0m\u001b[0mX\u001b[0m\u001b[1;33m[\u001b[0m\u001b[1;36m0\u001b[0m\u001b[1;33m]\u001b[0m\u001b[1;33m[\u001b[0m\u001b[1;33m:\u001b[0m\u001b[1;33m,\u001b[0m \u001b[1;33m:\u001b[0m\u001b[1;33m]\u001b[0m\u001b[1;33m\u001b[0m\u001b[0m\n\u001b[0m\u001b[1;32m      3\u001b[0m \u001b[1;33m\u001b[0m\u001b[0m\n\u001b[1;32m      4\u001b[0m \u001b[0mmodel\u001b[0m\u001b[1;33m.\u001b[0m\u001b[0mdisplay_prediction\u001b[0m\u001b[1;33m(\u001b[0m\u001b[0mimg\u001b[0m\u001b[1;33m,\u001b[0m \u001b[0max\u001b[0m\u001b[1;33m=\u001b[0m\u001b[1;32mNone\u001b[0m\u001b[1;33m)\u001b[0m\u001b[1;33m\u001b[0m\u001b[0m\n",
      "\u001b[0;31mNameError\u001b[0m: name 'train' is not defined"
     ]
    }
   ],
   "source": [
    "# choose an image to predict (or part of it)\n",
    "img = train.X[0][:, :]\n",
    "\n",
    "model.display_prediction(img, ax=None)"
   ]
  },
  {
   "cell_type": "markdown",
   "metadata": {},
   "source": [
    "### Export predictions\n"
   ]
  },
  {
   "cell_type": "code",
   "execution_count": 47,
   "metadata": {
    "collapsed": false
   },
   "outputs": [
    {
     "name": "stdout",
     "output_type": "stream",
     "text": [
      "Loading 5 images to predict\n",
      "loading image ../dataset/test_set_images/test_1/test_1.png\n",
      "loading image ../dataset/test_set_images/test_2/test_2.png\n",
      "loading image ../dataset/test_set_images/test_3/test_3.png\n",
      "loading image ../dataset/test_set_images/test_4/test_4.png\n",
      "loading image ../dataset/test_set_images/test_5/test_5.png\n",
      "(5, 76, 76)\n",
      "Loading 5 images to predict\n",
      "loading image ../dataset/test_set_images/test_6/test_6.png\n",
      "loading image ../dataset/test_set_images/test_7/test_7.png\n",
      "loading image ../dataset/test_set_images/test_8/test_8.png\n",
      "loading image ../dataset/test_set_images/test_9/test_9.png\n",
      "loading image ../dataset/test_set_images/test_10/test_10.png\n"
     ]
    },
    {
     "name": "stderr",
     "output_type": "stream",
     "text": [
      "C:\\Program Files\\Anaconda3\\lib\\site-packages\\imageio\\core\\util.py:78: UserWarning: Lossy conversion from float64 to uint8, range [0, 1]\n",
      "  dtype_str, out_type.__name__))\n"
     ]
    },
    {
     "name": "stdout",
     "output_type": "stream",
     "text": [
      "(5, 76, 76)\n",
      "Loading 5 images to predict\n",
      "loading image ../dataset/test_set_images/test_11/test_11.png\n",
      "loading image ../dataset/test_set_images/test_12/test_12.png\n",
      "loading image ../dataset/test_set_images/test_13/test_13.png\n",
      "loading image ../dataset/test_set_images/test_14/test_14.png\n",
      "loading image ../dataset/test_set_images/test_15/test_15.png\n",
      "(5, 76, 76)\n",
      "Loading 5 images to predict\n",
      "loading image ../dataset/test_set_images/test_16/test_16.png\n",
      "loading image ../dataset/test_set_images/test_17/test_17.png\n",
      "loading image ../dataset/test_set_images/test_18/test_18.png\n",
      "loading image ../dataset/test_set_images/test_19/test_19.png\n",
      "loading image ../dataset/test_set_images/test_20/test_20.png\n",
      "(5, 76, 76)\n",
      "Loading 5 images to predict\n",
      "loading image ../dataset/test_set_images/test_21/test_21.png\n",
      "loading image ../dataset/test_set_images/test_22/test_22.png\n",
      "loading image ../dataset/test_set_images/test_23/test_23.png\n",
      "loading image ../dataset/test_set_images/test_24/test_24.png\n",
      "loading image ../dataset/test_set_images/test_25/test_25.png\n",
      "(5, 76, 76)\n",
      "Loading 5 images to predict\n",
      "loading image ../dataset/test_set_images/test_26/test_26.png\n",
      "loading image ../dataset/test_set_images/test_27/test_27.png\n",
      "loading image ../dataset/test_set_images/test_28/test_28.png\n",
      "loading image ../dataset/test_set_images/test_29/test_29.png\n",
      "loading image ../dataset/test_set_images/test_30/test_30.png\n",
      "(5, 76, 76)\n",
      "Loading 5 images to predict\n",
      "loading image ../dataset/test_set_images/test_31/test_31.png\n",
      "loading image ../dataset/test_set_images/test_32/test_32.png\n",
      "loading image ../dataset/test_set_images/test_33/test_33.png\n",
      "loading image ../dataset/test_set_images/test_34/test_34.png\n",
      "loading image ../dataset/test_set_images/test_35/test_35.png\n",
      "(5, 76, 76)\n",
      "Loading 5 images to predict\n",
      "loading image ../dataset/test_set_images/test_36/test_36.png\n",
      "loading image ../dataset/test_set_images/test_37/test_37.png\n",
      "loading image ../dataset/test_set_images/test_38/test_38.png\n",
      "loading image ../dataset/test_set_images/test_39/test_39.png\n",
      "loading image ../dataset/test_set_images/test_40/test_40.png\n",
      "(5, 76, 76)\n",
      "Loading 5 images to predict\n",
      "loading image ../dataset/test_set_images/test_41/test_41.png\n",
      "loading image ../dataset/test_set_images/test_42/test_42.png\n",
      "loading image ../dataset/test_set_images/test_43/test_43.png\n",
      "loading image ../dataset/test_set_images/test_44/test_44.png\n",
      "loading image ../dataset/test_set_images/test_45/test_45.png\n",
      "(5, 76, 76)\n",
      "Loading 5 images to predict\n",
      "loading image ../dataset/test_set_images/test_46/test_46.png\n",
      "loading image ../dataset/test_set_images/test_47/test_47.png\n",
      "loading image ../dataset/test_set_images/test_48/test_48.png\n",
      "loading image ../dataset/test_set_images/test_49/test_49.png\n",
      "loading image ../dataset/test_set_images/test_50/test_50.png\n",
      "(5, 76, 76)\n"
     ]
    }
   ],
   "source": [
    "from cnn_models import *\n",
    "model.predict_and_export()"
   ]
  },
  {
   "cell_type": "markdown",
   "metadata": {},
   "source": [
    "### - Save/load model"
   ]
  },
  {
   "cell_type": "code",
   "execution_count": null,
   "metadata": {
    "collapsed": true
   },
   "outputs": [],
   "source": [
    "model.save()"
   ]
  },
  {
   "cell_type": "markdown",
   "metadata": {},
   "source": [
    "### - Others"
   ]
  },
  {
   "cell_type": "code",
   "execution_count": null,
   "metadata": {
    "collapsed": true
   },
   "outputs": [],
   "source": [
    "# some callbacks example: \n",
    "\n",
    "# create a list of callbacks we want to use during training\n",
    "# # a callback to store epoch results to a csv file\n",
    "# filename='model_train_new.csv'\n",
    "# csv_log = callbacks.CSVLogger(filename, separator=',', append=False)\n",
    "\n",
    "# # a callback to stob before doing the predefined number of epochs (stop before overfitting the data)\n",
    "# early_stopping = callbacks.EarlyStopping(monitor='val_loss', min_delta=0, patience=0, verbose=0, mode='min')\n",
    "\n",
    "# # a callback to save the best model (best model = the one with the lowest 'monitor' variable)\n",
    "# filepath = \"best-weights-{epoch:03d}-{loss:.4f}-{acc:.4f}.hdf5\"\n",
    "# checkpoint = callbacks.ModelCheckpoint(filepath, monitor='val_loss', verbose=1, save_best_only=True, mode='min')\n",
    "\n",
    "# # callbacks_list = [csv_log,early_stopping,checkpoint]\n",
    "\n",
    "print(\n",
    "    \"-get configurations:\", \"\\n\",\n",
    "    model.get_config(), \"\\n\",\n",
    "    model.layers[0].get_config(), \"\\n\",\n",
    "\n",
    "    \"\\n-get shapes\", \"\\n\",\n",
    "    model.layers[0].input_shape, \"\\n\",\n",
    "    model.layers[0].output_shape, \"\\n\",\n",
    "    \n",
    "    \"\\n-get weights\", \"\\n\",\n",
    "    model.layers[0].get_weights()[0].shape, \"\\n\",\n",
    "    \n",
    "    \"\\n-check if trainable\", \"\\n\",\n",
    "    model.layers[0].trainable, \"\\n\", # you can set this to false to \"freeze\" a layer\n",
    ")"
   ]
  },
  {
   "cell_type": "code",
   "execution_count": null,
   "metadata": {
    "collapsed": true
   },
   "outputs": [],
   "source": [
    "from IPython.core.debugger import Pdb\n",
    "debugger = Pdb()\n",
    "debugger.set_trace() # put this line as a breakpoint"
   ]
  },
  {
   "cell_type": "markdown",
   "metadata": {},
   "source": [
    "Test batch generation"
   ]
  },
  {
   "cell_type": "code",
   "execution_count": null,
   "metadata": {
    "collapsed": true
   },
   "outputs": [],
   "source": [
    "gen1, gen2 = image_generators(X, Y) "
   ]
  },
  {
   "cell_type": "code",
   "execution_count": null,
   "metadata": {
    "collapsed": true
   },
   "outputs": [],
   "source": [
    "from cnn_models import batches_generator\n",
    "j = 0\n",
    "x_batches = []\n",
    "y_batches = []\n",
    "\n",
    "for x, y in batches_generator(X[:4], Y[:4], batch_size = 4):\n",
    "    j += 1\n",
    "    if j > 10:\n",
    "        break\n",
    "    x_batches.append(x)\n",
    "    y_batches.append(y)"
   ]
  },
  {
   "cell_type": "code",
   "execution_count": null,
   "metadata": {
    "collapsed": true
   },
   "outputs": [],
   "source": [
    "np.array(x_batches).shape, np.array(y_batches).shape"
   ]
  },
  {
   "cell_type": "code",
   "execution_count": null,
   "metadata": {
    "collapsed": true
   },
   "outputs": [],
   "source": [
    "b = 0\n",
    "i = -1"
   ]
  },
  {
   "cell_type": "code",
   "execution_count": null,
   "metadata": {
    "collapsed": true
   },
   "outputs": [],
   "source": [
    "i += 1\n",
    "if i >= x_batches[0].shape[0]:\n",
    "    i = 0\n",
    "    b += 1\n",
    "print(\"Batch\", str(b) + \". Image\", i)\n",
    "fig, axs = plt.subplots(1, 2)\n",
    "fig.set_size_inches((20, 10))\n",
    "axs[0].imshow(x_batches[b][i], cmap='gray')\n",
    "axs[1].imshow(y_batches[b][i][:, :, 1], cmap='gray')"
   ]
  }
 ],
 "metadata": {
  "anaconda-cloud": {},
  "kernelspec": {
   "display_name": "Python [default]",
   "language": "python",
   "name": "python3"
  },
  "language_info": {
   "codemirror_mode": {
    "name": "ipython",
    "version": 3
   },
   "file_extension": ".py",
   "mimetype": "text/x-python",
   "name": "python",
   "nbconvert_exporter": "python",
   "pygments_lexer": "ipython3",
   "version": "3.5.2"
  }
 },
 "nbformat": 4,
 "nbformat_minor": 2
}
