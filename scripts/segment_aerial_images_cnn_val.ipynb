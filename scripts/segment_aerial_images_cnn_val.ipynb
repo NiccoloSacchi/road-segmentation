{
 "cells": [
  {
   "cell_type": "markdown",
   "metadata": {},
   "source": [
    "##### Flow:\n",
    "1. load, reshape and split in test and train all the images\n",
    "2. instantiate a cnn model \n",
    "3. run the model on train and test data to verify how many epochs are more or less needed to get a nice model\n",
    "4. use that number of epochs to run cross validation (pass the whole 'set_' of images to the cross validation). Repeat from 2 with another model and compare.\n",
    "\n",
    "\n",
    "- If you notice that you hardly overfit maybe remove/decrease the dropout layers (e.g. from 0.25 to 0.15)\n",
    "- Try building a model that predicts directly 16x16"
   ]
  },
  {
   "cell_type": "code",
   "execution_count": 1,
   "metadata": {
    "collapsed": false
   },
   "outputs": [
    {
     "name": "stderr",
     "output_type": "stream",
     "text": [
      "Using TensorFlow backend.\n"
     ]
    }
   ],
   "source": [
    "%matplotlib inline\n",
    "\n",
    "import tensorflow as tf\n",
    "from keras.backend.tensorflow_backend import set_session\n",
    "config = tf.ConfigProto()\n",
    "config.gpu_options.per_process_gpu_memory_fraction = 0.6\n",
    "set_session(tf.Session(config=config))\n",
    "\n",
    "import matplotlib.pyplot as plt\n",
    "from datetime import datetime\n",
    "\n",
    "# keras functions\n",
    "from keras import callbacks\n",
    "from keras import preprocessing\n",
    "from keras.preprocessing import image\n",
    "\n",
    "# our libraries\n",
    "from preprocessing import *\n",
    "\n",
    "from cnn_models import *\n",
    "from evaluate import *\n",
    "\n",
    "import scipy as scipy\n",
    "from mask_to_submission import *\n",
    "\n",
    "%load_ext autoreload\n",
    "%autoreload 2"
   ]
  },
  {
   "cell_type": "markdown",
   "metadata": {},
   "source": [
    "#### Overview\n",
    "The goal here is to use the CNN to reduce the size of the input image to obtain a \"discretized\" image of shape, e.g. (W/16, H/16). Every entry of this image is related to a patch in the input image. This obtained image is compared by the CNN with the groundtruth (after properly discretizing by it patch-wise)."
   ]
  },
  {
   "cell_type": "markdown",
   "metadata": {},
   "source": [
    "### - Load data"
   ]
  },
  {
   "cell_type": "code",
   "execution_count": 2,
   "metadata": {
    "collapsed": false
   },
   "outputs": [
    {
     "name": "stdout",
     "output_type": "stream",
     "text": [
      "Loading 100 images\n"
     ]
    },
    {
     "data": {
      "text/plain": [
       "((400, 400, 3), (400, 400))"
      ]
     },
     "execution_count": 2,
     "metadata": {},
     "output_type": "execute_result"
    }
   ],
   "source": [
    "# Loaded a set of images\n",
    "n = 100\n",
    "\n",
    "imgs, gt_imgs = load_images(n)\n",
    "imgs[0].shape, gt_imgs[0].shape"
   ]
  },
  {
   "cell_type": "markdown",
   "metadata": {},
   "source": [
    "### - Reshape the data\n",
    "We reshape each input to fulfill our cnn inputs and output shape."
   ]
  },
  {
   "cell_type": "code",
   "execution_count": null,
   "metadata": {
    "collapsed": false
   },
   "outputs": [],
   "source": [
    "# !!! set predict_patch_width in accordance to the model you are using !!!\n",
    "# the shape of the output of the model depends on the strides parameters \n",
    "# (if a layer has stride=2 then each ouput's side is half of the input'side).\n",
    "# predict_patch_width must be equal to the total reduction of the model, e.g.\n",
    "# if the model has three layer with stride=2 => the input of the model is \n",
    "# reduced by a factor of 2*2*2=8, i.e. the ouptut will be patch-wise with \n",
    "# patches 8x8 pixels.\n",
    "predict_patch_width = 8\n",
    "\n",
    "X, Y = images_to_XY(imgs, gt_imgs, predict_patch_width=predict_patch_width)\n",
    "\n",
    "set_ = SimpleNamespace()\n",
    "set_.X = X\n",
    "set_.Y = Y\n",
    "\n",
    "X.shape, Y.shape"
   ]
  },
  {
   "cell_type": "markdown",
   "metadata": {},
   "source": [
    "### - For now avoid cross validation, just split the datasest in test and train. "
   ]
  },
  {
   "cell_type": "code",
   "execution_count": 3,
   "metadata": {
    "collapsed": false
   },
   "outputs": [
    {
     "data": {
      "text/plain": [
       "((96, 400, 400, 3), (96, 400, 400), (4, 400, 400, 3), (4, 400, 400))"
      ]
     },
     "execution_count": 3,
     "metadata": {},
     "output_type": "execute_result"
    }
   ],
   "source": [
    "test_ratio = 0.04\n",
    "\n",
    "train, test = split_train_test(imgs, gt_imgs, test_ratio=test_ratio, seed=1)\n",
    "train.X.shape,train.Y.shape,test.X.shape,test.Y.shape"
   ]
  },
  {
   "cell_type": "code",
   "execution_count": null,
   "metadata": {
    "collapsed": true
   },
   "outputs": [],
   "source": [
    "# # check it makes sense (show the i-th input of set_)\n",
    "# i = 0\n",
    "# set_ = test\n",
    "\n",
    "# fig, axs = plt.subplots(1, 2, figsize=(20, 10))\n",
    "# axs[0].imshow(set_.Y[i, :, :, 1], cmap='gray')\n",
    "# axs[1].imshow(set_.X[i, :, :])"
   ]
  },
  {
   "cell_type": "markdown",
   "metadata": {},
   "source": [
    "### - Build the CNN model or load a previous one"
   ]
  },
  {
   "cell_type": "markdown",
   "metadata": {},
   "source": [
    "- Choose one of the models you defined (with model_n) and initialize it."
   ]
  },
  {
   "cell_type": "code",
   "execution_count": 7,
   "metadata": {
    "collapsed": false
   },
   "outputs": [
    {
     "name": "stdout",
     "output_type": "stream",
     "text": [
      "model_leakyrelu_maxpooling_extra_layer\n",
      "_________________________________________________________________\n",
      "Layer (type)                 Output Shape              Param #   \n",
      "=================================================================\n",
      "conv2d_8 (Conv2D)            (None, None, None, 48)    17472     \n",
      "_________________________________________________________________\n",
      "leaky_re_lu_8 (LeakyReLU)    (None, None, None, 48)    0         \n",
      "_________________________________________________________________\n",
      "max_pooling2d_4 (MaxPooling2 (None, None, None, 48)    0         \n",
      "_________________________________________________________________\n",
      "dropout_7 (Dropout)          (None, None, None, 48)    0         \n",
      "_________________________________________________________________\n",
      "conv2d_9 (Conv2D)            (None, None, None, 64)    150592    \n",
      "_________________________________________________________________\n",
      "leaky_re_lu_9 (LeakyReLU)    (None, None, None, 64)    0         \n",
      "_________________________________________________________________\n",
      "max_pooling2d_5 (MaxPooling2 (None, None, None, 64)    0         \n",
      "_________________________________________________________________\n",
      "dropout_8 (Dropout)          (None, None, None, 64)    0         \n",
      "_________________________________________________________________\n",
      "conv2d_10 (Conv2D)           (None, None, None, 64)    102464    \n",
      "_________________________________________________________________\n",
      "leaky_re_lu_10 (LeakyReLU)   (None, None, None, 64)    0         \n",
      "_________________________________________________________________\n",
      "max_pooling2d_6 (MaxPooling2 (None, None, None, 64)    0         \n",
      "_________________________________________________________________\n",
      "dropout_9 (Dropout)          (None, None, None, 64)    0         \n",
      "_________________________________________________________________\n",
      "conv2d_11 (Conv2D)           (None, None, None, 128)   204928    \n",
      "_________________________________________________________________\n",
      "leaky_re_lu_11 (LeakyReLU)   (None, None, None, 128)   0         \n",
      "_________________________________________________________________\n",
      "dropout_10 (Dropout)         (None, None, None, 128)   0         \n",
      "_________________________________________________________________\n",
      "conv2d_12 (Conv2D)           (None, None, None, 64)    204864    \n",
      "_________________________________________________________________\n",
      "leaky_re_lu_12 (LeakyReLU)   (None, None, None, 64)    0         \n",
      "_________________________________________________________________\n",
      "dropout_11 (Dropout)         (None, None, None, 64)    0         \n",
      "_________________________________________________________________\n",
      "conv2d_13 (Conv2D)           (None, None, None, 64)    102464    \n",
      "_________________________________________________________________\n",
      "leaky_re_lu_13 (LeakyReLU)   (None, None, None, 64)    0         \n",
      "_________________________________________________________________\n",
      "dropout_12 (Dropout)         (None, None, None, 64)    0         \n",
      "_________________________________________________________________\n",
      "conv2d_14 (Conv2D)           (None, None, None, 2)     3202      \n",
      "_________________________________________________________________\n",
      "leaky_re_lu_14 (LeakyReLU)   (None, None, None, 2)     0         \n",
      "_________________________________________________________________\n",
      "activation_2 (Activation)    (None, None, None, 2)     0         \n",
      "=================================================================\n",
      "Total params: 785,986\n",
      "Trainable params: 785,986\n",
      "Non-trainable params: 0\n",
      "_________________________________________________________________\n",
      "None\n"
     ]
    }
   ],
   "source": [
    "# generate an unique name for the model (so to avoid overwriting previous models)\n",
    "from cnn_models import *\n",
    "folder_name = \"model_\"+str('{0:%Y-%m-%d_%H%M%S}'.format(datetime.now()))\n",
    "model_path = \"..\\\\models\\\\\"+folder_name\n",
    "model = CnnModel(model_n=11, model_path=model_path)\n",
    "model.summary()"
   ]
  },
  {
   "cell_type": "markdown",
   "metadata": {},
   "source": [
    "- Otherwise load a previous model"
   ]
  },
  {
   "cell_type": "code",
   "execution_count": 4,
   "metadata": {
    "collapsed": false
   },
   "outputs": [
    {
     "name": "stdout",
     "output_type": "stream",
     "text": [
      "model_leakyrelu_maxpooling_extra_layer\n",
      "_________________________________________________________________\n",
      "Layer (type)                 Output Shape              Param #   \n",
      "=================================================================\n",
      "conv2d_1 (Conv2D)            (None, None, None, 48)    17472     \n",
      "_________________________________________________________________\n",
      "leaky_re_lu_1 (LeakyReLU)    (None, None, None, 48)    0         \n",
      "_________________________________________________________________\n",
      "max_pooling2d_1 (MaxPooling2 (None, None, None, 48)    0         \n",
      "_________________________________________________________________\n",
      "dropout_1 (Dropout)          (None, None, None, 48)    0         \n",
      "_________________________________________________________________\n",
      "conv2d_2 (Conv2D)            (None, None, None, 64)    150592    \n",
      "_________________________________________________________________\n",
      "leaky_re_lu_2 (LeakyReLU)    (None, None, None, 64)    0         \n",
      "_________________________________________________________________\n",
      "max_pooling2d_2 (MaxPooling2 (None, None, None, 64)    0         \n",
      "_________________________________________________________________\n",
      "dropout_2 (Dropout)          (None, None, None, 64)    0         \n",
      "_________________________________________________________________\n",
      "conv2d_3 (Conv2D)            (None, None, None, 64)    102464    \n",
      "_________________________________________________________________\n",
      "leaky_re_lu_3 (LeakyReLU)    (None, None, None, 64)    0         \n",
      "_________________________________________________________________\n",
      "max_pooling2d_3 (MaxPooling2 (None, None, None, 64)    0         \n",
      "_________________________________________________________________\n",
      "dropout_3 (Dropout)          (None, None, None, 64)    0         \n",
      "_________________________________________________________________\n",
      "conv2d_4 (Conv2D)            (None, None, None, 128)   204928    \n",
      "_________________________________________________________________\n",
      "leaky_re_lu_4 (LeakyReLU)    (None, None, None, 128)   0         \n",
      "_________________________________________________________________\n",
      "dropout_4 (Dropout)          (None, None, None, 128)   0         \n",
      "_________________________________________________________________\n",
      "conv2d_5 (Conv2D)            (None, None, None, 64)    204864    \n",
      "_________________________________________________________________\n",
      "leaky_re_lu_5 (LeakyReLU)    (None, None, None, 64)    0         \n",
      "_________________________________________________________________\n",
      "dropout_5 (Dropout)          (None, None, None, 64)    0         \n",
      "_________________________________________________________________\n",
      "conv2d_6 (Conv2D)            (None, None, None, 64)    102464    \n",
      "_________________________________________________________________\n",
      "leaky_re_lu_6 (LeakyReLU)    (None, None, None, 64)    0         \n",
      "_________________________________________________________________\n",
      "dropout_6 (Dropout)          (None, None, None, 64)    0         \n",
      "_________________________________________________________________\n",
      "conv2d_7 (Conv2D)            (None, None, None, 2)     3202      \n",
      "_________________________________________________________________\n",
      "leaky_re_lu_7 (LeakyReLU)    (None, None, None, 2)     0         \n",
      "_________________________________________________________________\n",
      "activation_1 (Activation)    (None, None, None, 2)     0         \n",
      "=================================================================\n",
      "Total params: 785,986\n",
      "Trainable params: 785,986\n",
      "Non-trainable params: 0\n",
      "_________________________________________________________________\n",
      "None\n"
     ]
    }
   ],
   "source": [
    "# give the folder\n",
    "folder_name = \"model_2017-12-18_221122\"\n",
    "model_path = \"..\\models\\\\\"+folder_name\n",
    "model = CnnModel(model_n = 11,model_path=model_path)\n",
    "#model.load() # load the model and its weights\n",
    "model.load_weights(\"2017-12-18_221301_best-weightsmodel_leakyrelu_maxpooling_extra_layer.hdf5\")\n",
    "model.summary()"
   ]
  },
  {
   "cell_type": "markdown",
   "metadata": {},
   "source": [
    "### - Train the model on the train data while validating it on the test data"
   ]
  },
  {
   "cell_type": "code",
   "execution_count": null,
   "metadata": {
    "collapsed": false
   },
   "outputs": [],
   "source": [
    "train.X.shape[0]"
   ]
  },
  {
   "cell_type": "code",
   "execution_count": 5,
   "metadata": {
    "collapsed": false
   },
   "outputs": [
    {
     "name": "stdout",
     "output_type": "stream",
     "text": [
      "Epoch 1/100\n",
      "23/24 [===========================>..] - ETA: 0s - loss: 0.2865 - acc: 0.8873Epoch 00001: loss improved from inf to 0.29113, saving model to ..\\models\\model_2017-12-18_221122\\2017-12-18_230158_best-weightsmodel_leakyrelu_maxpooling_extra_layer.hdf5\n",
      "24/24 [==============================] - 20s 843ms/step - loss: 0.2911 - acc: 0.8848 - val_loss: 0.3242 - val_acc: 0.8658\n",
      "Epoch 2/100\n",
      "23/24 [===========================>..] - ETA: 0s - loss: 0.2652 - acc: 0.8887Epoch 00002: loss improved from 0.29113 to 0.26930, saving model to ..\\models\\model_2017-12-18_221122\\2017-12-18_230158_best-weightsmodel_leakyrelu_maxpooling_extra_layer.hdf5\n",
      "24/24 [==============================] - 17s 698ms/step - loss: 0.2693 - acc: 0.8861 - val_loss: 0.3002 - val_acc: 0.8761\n",
      "Epoch 3/100\n",
      "23/24 [===========================>..] - ETA: 0s - loss: 0.2360 - acc: 0.9024Epoch 00003: loss improved from 0.26930 to 0.24049, saving model to ..\\models\\model_2017-12-18_221122\\2017-12-18_230158_best-weightsmodel_leakyrelu_maxpooling_extra_layer.hdf5\n",
      "24/24 [==============================] - 17s 697ms/step - loss: 0.2405 - acc: 0.9001 - val_loss: 0.2942 - val_acc: 0.8961\n",
      "Epoch 4/100\n",
      "23/24 [===========================>..] - ETA: 0s - loss: 0.2279 - acc: 0.9054Epoch 00004: loss improved from 0.24049 to 0.23442, saving model to ..\\models\\model_2017-12-18_221122\\2017-12-18_230158_best-weightsmodel_leakyrelu_maxpooling_extra_layer.hdf5\n",
      "24/24 [==============================] - 17s 700ms/step - loss: 0.2344 - acc: 0.9018 - val_loss: 0.2575 - val_acc: 0.9029\n",
      "Epoch 5/100\n",
      "23/24 [===========================>..] - ETA: 0s - loss: 0.2457 - acc: 0.8981Epoch 00005: loss did not improve\n",
      "24/24 [==============================] - 17s 698ms/step - loss: 0.2484 - acc: 0.8963 - val_loss: 0.2717 - val_acc: 0.8951\n",
      "Epoch 6/100\n",
      "23/24 [===========================>..] - ETA: 0s - loss: 0.2238 - acc: 0.9064Epoch 00006: loss improved from 0.23442 to 0.22708, saving model to ..\\models\\model_2017-12-18_221122\\2017-12-18_230158_best-weightsmodel_leakyrelu_maxpooling_extra_layer.hdf5\n",
      "24/24 [==============================] - 17s 700ms/step - loss: 0.2271 - acc: 0.9050 - val_loss: 0.2292 - val_acc: 0.9127\n",
      "Epoch 7/100\n",
      "23/24 [===========================>..] - ETA: 0s - loss: 0.2226 - acc: 0.9082Epoch 00007: loss improved from 0.22708 to 0.22523, saving model to ..\\models\\model_2017-12-18_221122\\2017-12-18_230158_best-weightsmodel_leakyrelu_maxpooling_extra_layer.hdf5\n",
      "24/24 [==============================] - 17s 702ms/step - loss: 0.2252 - acc: 0.9065 - val_loss: 0.2599 - val_acc: 0.9021\n",
      "Epoch 8/100\n",
      "23/24 [===========================>..] - ETA: 0s - loss: 0.2241 - acc: 0.9088Epoch 00008: loss did not improve\n",
      "24/24 [==============================] - 17s 699ms/step - loss: 0.2264 - acc: 0.9076 - val_loss: 0.2516 - val_acc: 0.9080\n",
      "Epoch 9/100\n",
      "23/24 [===========================>..] - ETA: 0s - loss: 0.2281 - acc: 0.9064Epoch 00009: loss did not improve\n",
      "24/24 [==============================] - 17s 699ms/step - loss: 0.2326 - acc: 0.9045 - val_loss: 0.2544 - val_acc: 0.9026\n",
      "Epoch 10/100\n",
      "23/24 [===========================>..] - ETA: 0s - loss: 0.2186 - acc: 0.9098Epoch 00010: loss did not improve\n",
      "24/24 [==============================] - 17s 700ms/step - loss: 0.2261 - acc: 0.9062 - val_loss: 0.2551 - val_acc: 0.9045\n",
      "Epoch 11/100\n",
      "23/24 [===========================>..] - ETA: 0s - loss: 0.2457 - acc: 0.8992Epoch 00011: loss did not improve\n",
      "24/24 [==============================] - 17s 703ms/step - loss: 0.2492 - acc: 0.8973 - val_loss: 0.2606 - val_acc: 0.9051\n",
      "Epoch 12/100\n",
      "23/24 [===========================>..] - ETA: 0s - loss: 0.2202 - acc: 0.9098Epoch 00012: loss did not improve\n",
      "24/24 [==============================] - 17s 698ms/step - loss: 0.2275 - acc: 0.9063 - val_loss: 0.2590 - val_acc: 0.8999\n",
      "Epoch 13/100\n",
      "23/24 [===========================>..] - ETA: 0s - loss: 0.2711 - acc: 0.8875Epoch 00013: loss did not improve\n",
      "24/24 [==============================] - 17s 697ms/step - loss: 0.2748 - acc: 0.8851 - val_loss: 0.3016 - val_acc: 0.8867\n",
      "Epoch 14/100\n",
      "23/24 [===========================>..] - ETA: 0s - loss: 0.2277 - acc: 0.9048Epoch 00014: loss did not improve\n",
      "24/24 [==============================] - 17s 701ms/step - loss: 0.2331 - acc: 0.9023 - val_loss: 0.2508 - val_acc: 0.9090\n",
      "Epoch 15/100\n",
      "23/24 [===========================>..] - ETA: 0s - loss: 0.2042 - acc: 0.9159Epoch 00015: loss improved from 0.22523 to 0.20853, saving model to ..\\models\\model_2017-12-18_221122\\2017-12-18_230158_best-weightsmodel_leakyrelu_maxpooling_extra_layer.hdf5\n",
      "24/24 [==============================] - 17s 702ms/step - loss: 0.2085 - acc: 0.9132 - val_loss: 0.2273 - val_acc: 0.9112\n",
      "Epoch 16/100\n",
      "23/24 [===========================>..] - ETA: 0s - loss: 0.2212 - acc: 0.9073Epoch 00016: loss did not improve\n",
      "24/24 [==============================] - 17s 702ms/step - loss: 0.2241 - acc: 0.9050 - val_loss: 0.2844 - val_acc: 0.8955\n",
      "Epoch 17/100\n",
      "23/24 [===========================>..] - ETA: 0s - loss: 0.2173 - acc: 0.9106Epoch 00017: loss did not improve\n",
      "24/24 [==============================] - 17s 702ms/step - loss: 0.2205 - acc: 0.9088 - val_loss: 0.2440 - val_acc: 0.9049\n",
      "Epoch 18/100\n",
      "23/24 [===========================>..] - ETA: 0s - loss: 0.2494 - acc: 0.8967Epoch 00018: loss did not improve\n",
      "24/24 [==============================] - 17s 699ms/step - loss: 0.2519 - acc: 0.8945 - val_loss: 0.2874 - val_acc: 0.8928\n",
      "Epoch 19/100\n",
      "23/24 [===========================>..] - ETA: 0s - loss: 0.2318 - acc: 0.9035Epoch 00019: loss did not improve\n",
      "24/24 [==============================] - 17s 700ms/step - loss: 0.2352 - acc: 0.9020 - val_loss: 0.2546 - val_acc: 0.9058\n",
      "Epoch 20/100\n",
      "23/24 [===========================>..] - ETA: 0s - loss: 0.2256 - acc: 0.9053Epoch 00020: loss did not improve\n",
      "24/24 [==============================] - 17s 701ms/step - loss: 0.2297 - acc: 0.9030 - val_loss: 0.2846 - val_acc: 0.8898\n",
      "Epoch 21/100\n",
      "23/24 [===========================>..] - ETA: 0s - loss: 0.2305 - acc: 0.9028Epoch 00021: loss did not improve\n",
      "24/24 [==============================] - 17s 702ms/step - loss: 0.2352 - acc: 0.9004 - val_loss: 0.2523 - val_acc: 0.9050\n",
      "Epoch 22/100\n",
      "23/24 [===========================>..] - ETA: 0s - loss: 0.2105 - acc: 0.9127Epoch 00022: loss did not improve\n",
      "24/24 [==============================] - 17s 701ms/step - loss: 0.2121 - acc: 0.9117 - val_loss: 0.2346 - val_acc: 0.9108\n",
      "Epoch 23/100\n",
      "23/24 [===========================>..] - ETA: 0s - loss: 0.1924 - acc: 0.9203Epoch 00023: loss improved from 0.20853 to 0.19778, saving model to ..\\models\\model_2017-12-18_221122\\2017-12-18_230158_best-weightsmodel_leakyrelu_maxpooling_extra_layer.hdf5\n",
      "24/24 [==============================] - 17s 702ms/step - loss: 0.1978 - acc: 0.9176 - val_loss: 0.2627 - val_acc: 0.9055\n",
      "Epoch 24/100\n",
      "23/24 [===========================>..] - ETA: 0s - loss: 0.2442 - acc: 0.8997Epoch 00024: loss did not improve\n",
      "24/24 [==============================] - 17s 702ms/step - loss: 0.2475 - acc: 0.8977 - val_loss: 0.2189 - val_acc: 0.9161\n",
      "Epoch 25/100\n",
      "23/24 [===========================>..] - ETA: 0s - loss: 0.2135 - acc: 0.9150Epoch 00025: loss did not improve\n",
      "24/24 [==============================] - 17s 703ms/step - loss: 0.2167 - acc: 0.9141 - val_loss: 0.2641 - val_acc: 0.8975\n",
      "Epoch 26/100\n",
      "23/24 [===========================>..] - ETA: 0s - loss: 0.2265 - acc: 0.9068Epoch 00026: loss did not improve\n",
      "24/24 [==============================] - 17s 699ms/step - loss: 0.2310 - acc: 0.9044 - val_loss: 0.2533 - val_acc: 0.9031\n",
      "Epoch 27/100\n",
      "23/24 [===========================>..] - ETA: 0s - loss: 0.2172 - acc: 0.9092Epoch 00027: loss did not improve\n",
      "24/24 [==============================] - 17s 697ms/step - loss: 0.2216 - acc: 0.9066 - val_loss: 0.2632 - val_acc: 0.9050\n",
      "Epoch 28/100\n",
      "23/24 [===========================>..] - ETA: 0s - loss: 0.2145 - acc: 0.9114Epoch 00028: loss did not improve\n",
      "24/24 [==============================] - 17s 701ms/step - loss: 0.2203 - acc: 0.9084 - val_loss: 0.2402 - val_acc: 0.9023\n",
      "Epoch 29/100\n",
      "23/24 [===========================>..] - ETA: 0s - loss: 0.2062 - acc: 0.9145Epoch 00029: loss did not improve\n",
      "24/24 [==============================] - 17s 698ms/step - loss: 0.2095 - acc: 0.9125 - val_loss: 0.2189 - val_acc: 0.9101\n",
      "Epoch 30/100\n",
      "23/24 [===========================>..] - ETA: 0s - loss: 0.2061 - acc: 0.9146Epoch 00030: loss did not improve\n",
      "24/24 [==============================] - 17s 701ms/step - loss: 0.2113 - acc: 0.9120 - val_loss: 0.2928 - val_acc: 0.8978\n",
      "Epoch 31/100\n",
      "23/24 [===========================>..] - ETA: 0s - loss: 0.1919 - acc: 0.9209Epoch 00031: loss improved from 0.19778 to 0.19338, saving model to ..\\models\\model_2017-12-18_221122\\2017-12-18_230158_best-weightsmodel_leakyrelu_maxpooling_extra_layer.hdf5\n",
      "24/24 [==============================] - 17s 700ms/step - loss: 0.1934 - acc: 0.9199 - val_loss: 0.2700 - val_acc: 0.9023\n",
      "Epoch 32/100\n",
      "23/24 [===========================>..] - ETA: 0s - loss: 0.2087 - acc: 0.9132Epoch 00032: loss did not improve\n",
      "24/24 [==============================] - 17s 698ms/step - loss: 0.2110 - acc: 0.9121 - val_loss: 0.2493 - val_acc: 0.9086\n",
      "Epoch 33/100\n",
      "23/24 [===========================>..] - ETA: 0s - loss: 0.2023 - acc: 0.9159Epoch 00033: loss did not improve\n",
      "24/24 [==============================] - 17s 697ms/step - loss: 0.2075 - acc: 0.9128 - val_loss: 0.2233 - val_acc: 0.9095\n",
      "Epoch 34/100\n",
      "23/24 [===========================>..] - ETA: 0s - loss: 0.1852 - acc: 0.9226Epoch 00034: loss improved from 0.19338 to 0.19099, saving model to ..\\models\\model_2017-12-18_221122\\2017-12-18_230158_best-weightsmodel_leakyrelu_maxpooling_extra_layer.hdf5\n",
      "24/24 [==============================] - 17s 699ms/step - loss: 0.1910 - acc: 0.9198 - val_loss: 0.2225 - val_acc: 0.9144\n",
      "Epoch 35/100\n",
      "23/24 [===========================>..] - ETA: 0s - loss: 0.1982 - acc: 0.9195Epoch 00035: loss did not improve\n",
      "24/24 [==============================] - 17s 697ms/step - loss: 0.2023 - acc: 0.9177 - val_loss: 0.2221 - val_acc: 0.9165\n",
      "Epoch 36/100\n",
      "23/24 [===========================>..] - ETA: 0s - loss: 0.2108 - acc: 0.9101Epoch 00036: loss did not improve\n",
      "24/24 [==============================] - 17s 700ms/step - loss: 0.2160 - acc: 0.9070 - val_loss: 0.2232 - val_acc: 0.9163\n",
      "Epoch 37/100\n",
      "23/24 [===========================>..] - ETA: 0s - loss: 0.2092 - acc: 0.9132Epoch 00037: loss did not improve\n",
      "24/24 [==============================] - 17s 698ms/step - loss: 0.2113 - acc: 0.9129 - val_loss: 0.2845 - val_acc: 0.8850\n",
      "Epoch 38/100\n",
      "23/24 [===========================>..] - ETA: 0s - loss: 0.2194 - acc: 0.9111Epoch 00038: loss did not improve\n",
      "24/24 [==============================] - 17s 701ms/step - loss: 0.2231 - acc: 0.9084 - val_loss: 0.2633 - val_acc: 0.8981\n",
      "Epoch 39/100\n",
      "23/24 [===========================>..] - ETA: 0s - loss: 0.1977 - acc: 0.9170Epoch 00039: loss did not improve\n",
      "24/24 [==============================] - 17s 702ms/step - loss: 0.1994 - acc: 0.9158 - val_loss: 0.2518 - val_acc: 0.9065\n",
      "Epoch 40/100\n",
      "23/24 [===========================>..] - ETA: 0s - loss: 0.1959 - acc: 0.9180Epoch 00040: loss did not improve\n",
      "24/24 [==============================] - 17s 703ms/step - loss: 0.1989 - acc: 0.9163 - val_loss: 0.2196 - val_acc: 0.9120\n",
      "Epoch 41/100\n",
      "23/24 [===========================>..] - ETA: 0s - loss: 0.1806 - acc: 0.9232Epoch 00041: loss improved from 0.19099 to 0.18349, saving model to ..\\models\\model_2017-12-18_221122\\2017-12-18_230158_best-weightsmodel_leakyrelu_maxpooling_extra_layer.hdf5\n",
      "24/24 [==============================] - 17s 699ms/step - loss: 0.1835 - acc: 0.9217 - val_loss: 0.2384 - val_acc: 0.9076\n",
      "Epoch 42/100\n",
      "23/24 [===========================>..] - ETA: 0s - loss: 0.2024 - acc: 0.9165Epoch 00042: loss did not improve\n",
      "24/24 [==============================] - 17s 719ms/step - loss: 0.2037 - acc: 0.9154 - val_loss: 0.2330 - val_acc: 0.9144\n",
      "Epoch 43/100\n",
      "23/24 [===========================>..] - ETA: 0s - loss: 0.1876 - acc: 0.9236Epoch 00043: loss did not improve\n",
      "24/24 [==============================] - 17s 701ms/step - loss: 0.1917 - acc: 0.9224 - val_loss: 0.2648 - val_acc: 0.9047\n",
      "Epoch 44/100\n",
      "23/24 [===========================>..] - ETA: 0s - loss: 0.2016 - acc: 0.9173Epoch 00044: loss did not improve\n",
      "24/24 [==============================] - 17s 702ms/step - loss: 0.2034 - acc: 0.9164 - val_loss: 0.2296 - val_acc: 0.9119\n",
      "Epoch 45/100\n",
      "23/24 [===========================>..] - ETA: 0s - loss: 0.1866 - acc: 0.9225Epoch 00045: loss did not improve\n",
      "24/24 [==============================] - 17s 705ms/step - loss: 0.1903 - acc: 0.9205 - val_loss: 0.2259 - val_acc: 0.9066\n",
      "Epoch 46/100\n",
      "23/24 [===========================>..] - ETA: 0s - loss: 0.1989 - acc: 0.9154Epoch 00046: loss did not improve\n",
      "24/24 [==============================] - 17s 701ms/step - loss: 0.2018 - acc: 0.9142 - val_loss: 0.2272 - val_acc: 0.9151\n",
      "Epoch 47/100\n",
      "23/24 [===========================>..] - ETA: 0s - loss: 0.2119 - acc: 0.9145Epoch 00047: loss did not improve\n",
      "24/24 [==============================] - 17s 710ms/step - loss: 0.2149 - acc: 0.9131 - val_loss: 0.2263 - val_acc: 0.9078\n",
      "Epoch 48/100\n",
      "23/24 [===========================>..] - ETA: 0s - loss: 0.1954 - acc: 0.9198Epoch 00048: loss did not improve\n",
      "24/24 [==============================] - 17s 700ms/step - loss: 0.1979 - acc: 0.9186 - val_loss: 0.2410 - val_acc: 0.9175\n",
      "Epoch 49/100\n",
      "23/24 [===========================>..] - ETA: 0s - loss: 0.1996 - acc: 0.9171Epoch 00049: loss did not improve\n",
      "24/24 [==============================] - 17s 700ms/step - loss: 0.2021 - acc: 0.9151 - val_loss: 0.2287 - val_acc: 0.9137\n",
      "Epoch 50/100\n",
      "23/24 [===========================>..] - ETA: 0s - loss: 0.1914 - acc: 0.9211Epoch 00050: loss did not improve\n",
      "24/24 [==============================] - 17s 699ms/step - loss: 0.1951 - acc: 0.9186 - val_loss: 0.1946 - val_acc: 0.9219\n",
      "Epoch 51/100\n",
      "23/24 [===========================>..] - ETA: 0s - loss: 0.1891 - acc: 0.9201Epoch 00051: loss did not improve\n",
      "24/24 [==============================] - 17s 699ms/step - loss: 0.1907 - acc: 0.9193 - val_loss: 0.2223 - val_acc: 0.9166\n",
      "Epoch 52/100\n",
      "23/24 [===========================>..] - ETA: 0s - loss: 0.1818 - acc: 0.9247Epoch 00052: loss did not improve\n",
      "24/24 [==============================] - 17s 699ms/step - loss: 0.1841 - acc: 0.9236 - val_loss: 0.2242 - val_acc: 0.9117\n",
      "Epoch 53/100\n",
      "23/24 [===========================>..] - ETA: 0s - loss: 0.1706 - acc: 0.9299Epoch 00053: loss improved from 0.18349 to 0.17385, saving model to ..\\models\\model_2017-12-18_221122\\2017-12-18_230158_best-weightsmodel_leakyrelu_maxpooling_extra_layer.hdf5\n",
      "24/24 [==============================] - 17s 702ms/step - loss: 0.1739 - acc: 0.9284 - val_loss: 0.2211 - val_acc: 0.9160\n",
      "Epoch 54/100\n",
      "23/24 [===========================>..] - ETA: 0s - loss: 0.1798 - acc: 0.9253Epoch 00054: loss did not improve\n",
      "24/24 [==============================] - 17s 700ms/step - loss: 0.1814 - acc: 0.9246 - val_loss: 0.2061 - val_acc: 0.9235\n",
      "Epoch 55/100\n",
      "23/24 [===========================>..] - ETA: 0s - loss: 0.1693 - acc: 0.9304Epoch 00055: loss improved from 0.17385 to 0.17203, saving model to ..\\models\\model_2017-12-18_221122\\2017-12-18_230158_best-weightsmodel_leakyrelu_maxpooling_extra_layer.hdf5\n",
      "24/24 [==============================] - 17s 701ms/step - loss: 0.1720 - acc: 0.9294 - val_loss: 0.2143 - val_acc: 0.9228\n",
      "Epoch 56/100\n",
      "23/24 [===========================>..] - ETA: 0s - loss: 0.1877 - acc: 0.9214Epoch 00056: loss did not improve\n",
      "24/24 [==============================] - 17s 700ms/step - loss: 0.1925 - acc: 0.9194 - val_loss: 0.2259 - val_acc: 0.9168\n",
      "Epoch 57/100\n",
      "23/24 [===========================>..] - ETA: 0s - loss: 0.1848 - acc: 0.9264Epoch 00057: loss did not improve\n",
      "24/24 [==============================] - 17s 700ms/step - loss: 0.1879 - acc: 0.9247 - val_loss: 0.2230 - val_acc: 0.9191\n",
      "Epoch 58/100\n",
      "23/24 [===========================>..] - ETA: 0s - loss: 0.1606 - acc: 0.9360Epoch 00058: loss improved from 0.17203 to 0.16381, saving model to ..\\models\\model_2017-12-18_221122\\2017-12-18_230158_best-weightsmodel_leakyrelu_maxpooling_extra_layer.hdf5\n",
      "24/24 [==============================] - 17s 701ms/step - loss: 0.1638 - acc: 0.9343 - val_loss: 0.1917 - val_acc: 0.9251\n",
      "Epoch 59/100\n",
      "23/24 [===========================>..] - ETA: 0s - loss: 0.1762 - acc: 0.9279Epoch 00059: loss did not improve\n",
      "24/24 [==============================] - 17s 700ms/step - loss: 0.1801 - acc: 0.9259 - val_loss: 0.1987 - val_acc: 0.9216\n",
      "Epoch 60/100\n",
      "23/24 [===========================>..] - ETA: 0s - loss: 0.1714 - acc: 0.9286Epoch 00060: loss did not improve\n",
      "24/24 [==============================] - 17s 700ms/step - loss: 0.1732 - acc: 0.9279 - val_loss: 0.1977 - val_acc: 0.9221\n",
      "Epoch 61/100\n",
      "23/24 [===========================>..] - ETA: 0s - loss: 0.1737 - acc: 0.9265Epoch 00061: loss did not improve\n",
      "24/24 [==============================] - 17s 700ms/step - loss: 0.1753 - acc: 0.9258 - val_loss: 0.2152 - val_acc: 0.9172\n",
      "Epoch 62/100\n",
      "23/24 [===========================>..] - ETA: 0s - loss: 0.2375 - acc: 0.9053Epoch 00062: loss did not improve\n",
      "24/24 [==============================] - 17s 700ms/step - loss: 0.2441 - acc: 0.9030 - val_loss: 0.2418 - val_acc: 0.9084\n",
      "Epoch 63/100\n",
      "23/24 [===========================>..] - ETA: 0s - loss: 0.2519 - acc: 0.9005Epoch 00063: loss did not improve\n",
      "24/24 [==============================] - 17s 700ms/step - loss: 0.2537 - acc: 0.8993 - val_loss: 0.2561 - val_acc: 0.8978\n",
      "Epoch 64/100\n",
      "23/24 [===========================>..] - ETA: 0s - loss: 0.2197 - acc: 0.9135Epoch 00064: loss did not improve\n",
      "24/24 [==============================] - 17s 703ms/step - loss: 0.2191 - acc: 0.9136 - val_loss: 0.2243 - val_acc: 0.9196\n",
      "Epoch 65/100\n",
      "23/24 [===========================>..] - ETA: 0s - loss: 0.2108 - acc: 0.9132Epoch 00065: loss did not improve\n",
      "24/24 [==============================] - 17s 701ms/step - loss: 0.2151 - acc: 0.9111 - val_loss: 0.2263 - val_acc: 0.9133\n",
      "Epoch 66/100\n",
      "23/24 [===========================>..] - ETA: 0s - loss: 0.1878 - acc: 0.9247Epoch 00066: loss did not improve\n",
      "24/24 [==============================] - 17s 701ms/step - loss: 0.1897 - acc: 0.9233 - val_loss: 0.1875 - val_acc: 0.9260\n",
      "Epoch 67/100\n",
      "23/24 [===========================>..] - ETA: 0s - loss: 0.1859 - acc: 0.9240Epoch 00067: loss did not improve\n",
      "24/24 [==============================] - 17s 701ms/step - loss: 0.1912 - acc: 0.9222 - val_loss: 0.2431 - val_acc: 0.9108\n",
      "Epoch 68/100\n",
      "23/24 [===========================>..] - ETA: 0s - loss: 0.2101 - acc: 0.9129Epoch 00068: loss did not improve\n",
      "24/24 [==============================] - 17s 701ms/step - loss: 0.2130 - acc: 0.9112 - val_loss: 0.2322 - val_acc: 0.9120\n",
      "Epoch 69/100\n",
      "23/24 [===========================>..] - ETA: 0s - loss: 0.1867 - acc: 0.9250Epoch 00069: loss did not improve\n",
      "24/24 [==============================] - 17s 701ms/step - loss: 0.1885 - acc: 0.9241 - val_loss: 0.2142 - val_acc: 0.9212\n",
      "Epoch 70/100\n",
      "23/24 [===========================>..] - ETA: 0s - loss: 0.1760 - acc: 0.9286Epoch 00070: loss did not improve\n",
      "24/24 [==============================] - 17s 701ms/step - loss: 0.1809 - acc: 0.9261 - val_loss: 0.2080 - val_acc: 0.9234\n",
      "Epoch 71/100\n",
      "23/24 [===========================>..] - ETA: 0s - loss: 0.1695 - acc: 0.9320Epoch 00071: loss did not improve\n",
      "24/24 [==============================] - 17s 701ms/step - loss: 0.1719 - acc: 0.9310 - val_loss: 0.2122 - val_acc: 0.9224\n",
      "Epoch 72/100\n",
      "23/24 [===========================>..] - ETA: 0s - loss: 0.1793 - acc: 0.9250Epoch 00072: loss did not improve\n",
      "24/24 [==============================] - 17s 701ms/step - loss: 0.1807 - acc: 0.9249 - val_loss: 0.2278 - val_acc: 0.9220\n",
      "Epoch 73/100\n",
      "23/24 [===========================>..] - ETA: 0s - loss: 0.1803 - acc: 0.9272Epoch 00073: loss did not improve\n",
      "24/24 [==============================] - 17s 701ms/step - loss: 0.1833 - acc: 0.9256 - val_loss: 0.2335 - val_acc: 0.9173\n",
      "Epoch 74/100\n",
      "23/24 [===========================>..] - ETA: 0s - loss: 0.1810 - acc: 0.9258Epoch 00074: loss did not improve\n",
      "24/24 [==============================] - 17s 701ms/step - loss: 0.1831 - acc: 0.9249 - val_loss: 0.2109 - val_acc: 0.9248\n",
      "Epoch 75/100\n",
      "23/24 [===========================>..] - ETA: 0s - loss: 0.1612 - acc: 0.9337Epoch 00075: loss improved from 0.16381 to 0.16324, saving model to ..\\models\\model_2017-12-18_221122\\2017-12-18_230158_best-weightsmodel_leakyrelu_maxpooling_extra_layer.hdf5\n",
      "24/24 [==============================] - 17s 702ms/step - loss: 0.1632 - acc: 0.9333 - val_loss: 0.2160 - val_acc: 0.9190\n",
      "Epoch 76/100\n",
      "23/24 [===========================>..] - ETA: 0s - loss: 0.1684 - acc: 0.9304Epoch 00076: loss did not improve\n",
      "24/24 [==============================] - 17s 701ms/step - loss: 0.1689 - acc: 0.9303 - val_loss: 0.1922 - val_acc: 0.9224\n",
      "Epoch 77/100\n",
      "23/24 [===========================>..] - ETA: 0s - loss: 0.1745 - acc: 0.9291Epoch 00077: loss did not improve\n",
      "24/24 [==============================] - 17s 701ms/step - loss: 0.1785 - acc: 0.9271 - val_loss: 0.1940 - val_acc: 0.9228\n",
      "Epoch 78/100\n",
      "23/24 [===========================>..] - ETA: 0s - loss: 0.1524 - acc: 0.9387Epoch 00078: loss improved from 0.16324 to 0.15673, saving model to ..\\models\\model_2017-12-18_221122\\2017-12-18_230158_best-weightsmodel_leakyrelu_maxpooling_extra_layer.hdf5\n",
      "24/24 [==============================] - 17s 703ms/step - loss: 0.1567 - acc: 0.9369 - val_loss: 0.1952 - val_acc: 0.9219\n",
      "Epoch 79/100\n",
      "23/24 [===========================>..] - ETA: 0s - loss: 0.1693 - acc: 0.9305Epoch 00079: loss did not improve\n",
      "24/24 [==============================] - 17s 701ms/step - loss: 0.1733 - acc: 0.9277 - val_loss: 0.1745 - val_acc: 0.9327\n",
      "Epoch 80/100\n",
      "23/24 [===========================>..] - ETA: 0s - loss: 0.1841 - acc: 0.9257Epoch 00080: loss did not improve\n",
      "24/24 [==============================] - 17s 701ms/step - loss: 0.1877 - acc: 0.9242 - val_loss: 0.1954 - val_acc: 0.9245\n",
      "Epoch 81/100\n",
      "23/24 [===========================>..] - ETA: 0s - loss: 0.1706 - acc: 0.9286Epoch 00081: loss did not improve\n",
      "24/24 [==============================] - 17s 701ms/step - loss: 0.1736 - acc: 0.9277 - val_loss: 0.2030 - val_acc: 0.9234\n",
      "Epoch 82/100\n",
      "23/24 [===========================>..] - ETA: 0s - loss: 0.1745 - acc: 0.9285Epoch 00082: loss did not improve\n",
      "24/24 [==============================] - 17s 701ms/step - loss: 0.1781 - acc: 0.9273 - val_loss: 0.2117 - val_acc: 0.9223\n",
      "Epoch 83/100\n",
      "23/24 [===========================>..] - ETA: 0s - loss: 0.1649 - acc: 0.9342Epoch 00083: loss did not improve\n",
      "24/24 [==============================] - 17s 702ms/step - loss: 0.1661 - acc: 0.9338 - val_loss: 0.1909 - val_acc: 0.9224\n",
      "Epoch 84/100\n",
      "23/24 [===========================>..] - ETA: 0s - loss: 0.1615 - acc: 0.9346Epoch 00084: loss did not improve\n",
      "24/24 [==============================] - 17s 702ms/step - loss: 0.1638 - acc: 0.9335 - val_loss: 0.1781 - val_acc: 0.9339\n",
      "Epoch 85/100\n",
      "23/24 [===========================>..] - ETA: 0s - loss: 0.1678 - acc: 0.9319Epoch 00085: loss did not improve\n",
      "24/24 [==============================] - 17s 701ms/step - loss: 0.1703 - acc: 0.9308 - val_loss: 0.1960 - val_acc: 0.9292\n",
      "Epoch 86/100\n",
      "23/24 [===========================>..] - ETA: 0s - loss: 0.1635 - acc: 0.9349Epoch 00086: loss did not improve\n",
      "24/24 [==============================] - 17s 702ms/step - loss: 0.1662 - acc: 0.9337 - val_loss: 0.1758 - val_acc: 0.9295\n",
      "Epoch 87/100\n",
      "23/24 [===========================>..] - ETA: 0s - loss: 0.1583 - acc: 0.9357Epoch 00087: loss did not improve\n",
      "24/24 [==============================] - 17s 701ms/step - loss: 0.1615 - acc: 0.9342 - val_loss: 0.1780 - val_acc: 0.9265\n",
      "Epoch 88/100\n",
      "23/24 [===========================>..] - ETA: 0s - loss: 0.1605 - acc: 0.9324Epoch 00088: loss did not improve\n",
      "24/24 [==============================] - 17s 702ms/step - loss: 0.1622 - acc: 0.9324 - val_loss: 0.2020 - val_acc: 0.9280\n",
      "Epoch 89/100\n",
      "23/24 [===========================>..] - ETA: 0s - loss: 0.1529 - acc: 0.9378Epoch 00089: loss improved from 0.15673 to 0.15592, saving model to ..\\models\\model_2017-12-18_221122\\2017-12-18_230158_best-weightsmodel_leakyrelu_maxpooling_extra_layer.hdf5\n",
      "24/24 [==============================] - 17s 703ms/step - loss: 0.1559 - acc: 0.9364 - val_loss: 0.1707 - val_acc: 0.9321\n",
      "Epoch 90/100\n",
      "23/24 [===========================>..] - ETA: 0s - loss: 0.1659 - acc: 0.9326Epoch 00090: loss did not improve\n",
      "24/24 [==============================] - 17s 701ms/step - loss: 0.1674 - acc: 0.9318 - val_loss: 0.2059 - val_acc: 0.9222\n",
      "Epoch 91/100\n",
      "23/24 [===========================>..] - ETA: 0s - loss: 0.1638 - acc: 0.9327Epoch 00091: loss did not improve\n",
      "24/24 [==============================] - 17s 701ms/step - loss: 0.1634 - acc: 0.9329 - val_loss: 0.1932 - val_acc: 0.9281\n",
      "Epoch 92/100\n",
      "23/24 [===========================>..] - ETA: 0s - loss: 0.1572 - acc: 0.9353Epoch 00092: loss did not improve\n",
      "24/24 [==============================] - 17s 701ms/step - loss: 0.1693 - acc: 0.9321 - val_loss: 0.1822 - val_acc: 0.9269\n",
      "Epoch 93/100\n",
      "23/24 [===========================>..] - ETA: 0s - loss: 1.8009 - acc: 0.8068Epoch 00093: loss did not improve\n",
      "24/24 [==============================] - 17s 701ms/step - loss: 1.9114 - acc: 0.8034 - val_loss: 4.6791 - val_acc: 0.7097\n",
      "Epoch 94/100\n",
      "23/24 [===========================>..] - ETA: 0s - loss: 3.6381 - acc: 0.7743Epoch 00094: loss did not improve\n",
      "24/24 [==============================] - 17s 699ms/step - loss: 3.6689 - acc: 0.7724 - val_loss: 4.6791 - val_acc: 0.7097\n",
      "Epoch 95/100\n",
      "23/24 [===========================>..] - ETA: 0s - loss: 3.6362 - acc: 0.7744Epoch 00095: loss did not improve\n",
      "24/24 [==============================] - 17s 698ms/step - loss: 3.6671 - acc: 0.7725 - val_loss: 4.6791 - val_acc: 0.7097\n",
      "Epoch 96/100\n",
      "23/24 [===========================>..] - ETA: 0s - loss: 3.6429 - acc: 0.7740Epoch 00096: loss did not improve\n",
      "24/24 [==============================] - 17s 698ms/step - loss: 3.6720 - acc: 0.7722 - val_loss: 4.6791 - val_acc: 0.7097\n",
      "Epoch 97/100\n",
      "23/24 [===========================>..] - ETA: 0s - loss: 3.6224 - acc: 0.7753Epoch 00097: loss did not improve\n",
      "24/24 [==============================] - 17s 698ms/step - loss: 3.6539 - acc: 0.7733 - val_loss: 4.6791 - val_acc: 0.7097\n",
      "Epoch 98/100\n",
      "23/24 [===========================>..] - ETA: 0s - loss: 3.6184 - acc: 0.7755Epoch 00098: loss did not improve\n",
      "24/24 [==============================] - 17s 698ms/step - loss: 3.6543 - acc: 0.7733 - val_loss: 4.6791 - val_acc: 0.7097\n",
      "Epoch 99/100\n",
      "23/24 [===========================>..] - ETA: 0s - loss: 3.6217 - acc: 0.7753Epoch 00099: loss did not improve\n",
      "24/24 [==============================] - 17s 699ms/step - loss: 3.6522 - acc: 0.7734 - val_loss: 4.6791 - val_acc: 0.7097\n",
      "Epoch 100/100\n",
      "23/24 [===========================>..] - ETA: 0s - loss: 3.6137 - acc: 0.7758Epoch 00100: loss did not improve\n",
      "24/24 [==============================] - 17s 698ms/step - loss: 3.6456 - acc: 0.7738 - val_loss: 4.6791 - val_acc: 0.7097\n"
     ]
    }
   ],
   "source": [
    "# pass a batch size which is a factor of train.shape[0] so that all the batches are fo the same size\n",
    "from cnn_models import *\n",
    "\n",
    "num_epochs=100\n",
    "batch_size=4\n",
    "_ = model.train(train, test=test, num_epochs=num_epochs, batch_size=batch_size, monitor='loss') "
   ]
  },
  {
   "cell_type": "code",
   "execution_count": 6,
   "metadata": {
    "collapsed": false
   },
   "outputs": [
    {
     "name": "stdout",
     "output_type": "stream",
     "text": [
      "Saved model to disk\n"
     ]
    }
   ],
   "source": [
    "model.save()"
   ]
  },
  {
   "cell_type": "code",
   "execution_count": 7,
   "metadata": {
    "collapsed": false
   },
   "outputs": [
    {
     "data": {
      "image/png": "[encoded data removed]",
      "text/plain": [
       "<matplotlib.figure.Figure at 0x2ce9ff11b00>"
      ]
     },
     "metadata": {},
     "output_type": "display_data"
    }
   ],
   "source": [
    "model.plot_history()"
   ]
  },
  {
   "cell_type": "markdown",
   "metadata": {},
   "source": [
    "### - Run cross validation to evaluate the model"
   ]
  },
  {
   "cell_type": "code",
   "execution_count": null,
   "metadata": {
    "collapsed": false
   },
   "outputs": [],
   "source": [
    "num_epochs=10\n",
    "batch_size=3\n",
    "result = model.cross_validation(set_, batch_size=batch_size, num_epochs=num_epochs)\n",
    "result"
   ]
  },
  {
   "cell_type": "code",
   "execution_count": null,
   "metadata": {
    "collapsed": false
   },
   "outputs": [],
   "source": [
    "# plot the histories of the cross validation\n",
    "plot_history(result[\"history_mean\"]) \n",
    "# history of the folds (check if there is a worst case)\n",
    "# plot_history(result[\"histories\"][0]) \n",
    "# plot_history(result[\"histories\"][1]) \n",
    "# plot_history(result[\"histories\"][2]) \n",
    "# plot_history(result[\"histories\"][3]) "
   ]
  },
  {
   "cell_type": "markdown",
   "metadata": {},
   "source": [
    "#### Plot the accuracy and the loss obtained during training"
   ]
  },
  {
   "cell_type": "code",
   "execution_count": null,
   "metadata": {
    "collapsed": false
   },
   "outputs": [],
   "source": [
    "last_epochs=20 # plot only the last n epochs\n",
    "model.plot_history(last_epochs=last_epochs)"
   ]
  },
  {
   "cell_type": "markdown",
   "metadata": {},
   "source": [
    "#### Display the output of a specific layer"
   ]
  },
  {
   "cell_type": "code",
   "execution_count": null,
   "metadata": {
    "collapsed": true
   },
   "outputs": [],
   "source": [
    "# these are all the layers \n",
    "model.model.layers"
   ]
  },
  {
   "cell_type": "code",
   "execution_count": null,
   "metadata": {
    "collapsed": true
   },
   "outputs": [],
   "source": [
    "# choose a layer and an image \n",
    "image = test.X[0]\n",
    "layer_num = 8\n",
    "\n",
    "model.show_layer_output(image, layer_num, filename=\"\") # pass a filename if you want to store the image to file "
   ]
  },
  {
   "cell_type": "markdown",
   "metadata": {},
   "source": [
    "### - Evaluate the model on the test data"
   ]
  },
  {
   "cell_type": "code",
   "execution_count": null,
   "metadata": {
    "collapsed": false
   },
   "outputs": [],
   "source": [
    "#re-evaluate on some subset\n",
    "test_ratio = 0.10\n",
    "train, test = split_train_test(imgs, gt_imgs, test_ratio=test_ratio, seed=1)"
   ]
  },
  {
   "cell_type": "code",
   "execution_count": 8,
   "metadata": {
    "collapsed": false
   },
   "outputs": [
    {
     "name": "stdout",
     "output_type": "stream",
     "text": [
      "                precision    recall  f1-score   support\n",
      "\n",
      "0 (background)       0.71      1.00      0.83      7097\n",
      "      1 (road)       0.00      0.00      0.00      2903\n",
      "\n",
      "   avg / total       0.50      0.71      0.59     10000\n",
      "\n",
      "Confusion matrix, without normalization\n"
     ]
    },
    {
     "name": "stderr",
     "output_type": "stream",
     "text": [
      "C:\\Program Files\\Anaconda3\\lib\\site-packages\\sklearn\\metrics\\classification.py:1135: UndefinedMetricWarning: Precision and F-score are ill-defined and being set to 0.0 in labels with no predicted samples.\n",
      "  'precision', 'predicted', average, warn_for)\n"
     ]
    },
    {
     "data": {
      "image/png": "[encoded data removed]",
      "text/plain": [
       "<matplotlib.figure.Figure at 0x2ceb575e978>"
      ]
     },
     "metadata": {},
     "output_type": "display_data"
    },
    {
     "name": "stdout",
     "output_type": "stream",
     "text": [
      "Normalized confusion matrix\n"
     ]
    },
    {
     "data": {
      "image/png": "[encoded data removed]",
      "text/plain": [
       "<matplotlib.figure.Figure at 0x2ceb56cff28>"
      ]
     },
     "metadata": {},
     "output_type": "display_data"
    }
   ],
   "source": [
    "# check the performance on train or test\n",
    "\n",
    "\n",
    "set_ = test\n",
    "\n",
    "model.evaluate_model(set_.X, set_.Y)"
   ]
  },
  {
   "cell_type": "code",
   "execution_count": null,
   "metadata": {
    "collapsed": false
   },
   "outputs": [],
   "source": [
    "#and reset the train set as full dataset\n",
    "test_ratio = 0.04\n",
    "train, test = split_train_test(imgs, gt_imgs, test_ratio=test_ratio, seed=1)"
   ]
  },
  {
   "cell_type": "markdown",
   "metadata": {},
   "source": [
    "### - Show a prediction"
   ]
  },
  {
   "cell_type": "code",
   "execution_count": null,
   "metadata": {
    "collapsed": false
   },
   "outputs": [],
   "source": [
    "# choose an image to predict (or part of it)\n",
    "for i in range(10):\n",
    "    img = train.X[30+i][:, :]\n",
    "    model.display_prediction(img, ax=None)"
   ]
  },
  {
   "cell_type": "markdown",
   "metadata": {},
   "source": [
    "### Export predictions\n"
   ]
  },
  {
   "cell_type": "code",
   "execution_count": null,
   "metadata": {
    "collapsed": false
   },
   "outputs": [],
   "source": [
    "from cnn_models import *\n",
    "model.predict_augmented_and_export()"
   ]
  },
  {
   "cell_type": "markdown",
   "metadata": {},
   "source": [
    "### - Save/load model"
   ]
  },
  {
   "cell_type": "code",
   "execution_count": null,
   "metadata": {
    "collapsed": true
   },
   "outputs": [],
   "source": [
    "model.save()"
   ]
  },
  {
   "cell_type": "markdown",
   "metadata": {},
   "source": [
    "## multiple models testing"
   ]
  },
  {
   "cell_type": "code",
   "execution_count": null,
   "metadata": {
    "collapsed": true
   },
   "outputs": [],
   "source": [
    "folder_name = \"model_\"+str('{0:%Y-%m-%d_%H%M%S}'.format(datetime.now()))\n"
   ]
  },
  {
   "cell_type": "code",
   "execution_count": null,
   "metadata": {
    "collapsed": false
   },
   "outputs": [],
   "source": [
    "from cnn_models import *\n",
    "#models = [\n",
    "#0          model1,\n",
    "#1          model2,\n",
    "#2          additional_conv_layer_model,\n",
    "#3          max_pooling_model,\n",
    "#4          leaky_relu_model,\n",
    "#5          decreased_dropout_model,\n",
    "#6          many_filters_model, \n",
    "#7          model_leakyrelu_maxpooling, \n",
    "#8          model_relu_maxpooling] \n",
    "models_to_train =  [7]\n",
    "for i in models_to_train:\n",
    "    # generate an unique name for the model (so to avoid overwriting previous models)\n",
    "    model_path = \"..\\\\models\\\\\"+folder_name\n",
    "    model = CnnModel(model_n=i, model_path=model_path)\n",
    "    model.summary()\n",
    "    num_epochs=3\n",
    "    batch_size=2\n",
    "    _ = model.train(train, test=test, num_epochs=num_epochs, batch_size=batch_size, monitor='val_loss') \n",
    "    model.save()\n",
    "    model.plot_history()"
   ]
  },
  {
   "cell_type": "markdown",
   "metadata": {},
   "source": [
    "### - Others"
   ]
  },
  {
   "cell_type": "code",
   "execution_count": null,
   "metadata": {
    "collapsed": true
   },
   "outputs": [],
   "source": [
    "# some callbacks example: \n",
    "\n",
    "# create a list of callbacks we want to use during training\n",
    "# # a callback to store epoch results to a csv file\n",
    "# filename='model_train_new.csv'\n",
    "# csv_log = callbacks.CSVLogger(filename, separator=',', append=False)\n",
    "\n",
    "# # a callback to stob before doing the predefined number of epochs (stop before overfitting the data)\n",
    "# early_stopping = callbacks.EarlyStopping(monitor='val_loss', min_delta=0, patience=0, verbose=0, mode='min')\n",
    "\n",
    "# # a callback to save the best model (best model = the one with the lowest 'monitor' variable)\n",
    "# filepath = \"best-weights-{epoch:03d}-{loss:.4f}-{acc:.4f}.hdf5\"\n",
    "# checkpoint = callbacks.ModelCheckpoint(filepath, monitor='val_loss', verbose=1, save_best_only=True, mode='min')\n",
    "\n",
    "# # callbacks_list = [csv_log,early_stopping,checkpoint]\n",
    "\n",
    "print(\n",
    "    \"-get configurations:\", \"\\n\",\n",
    "    model.get_config(), \"\\n\",\n",
    "    model.layers[0].get_config(), \"\\n\",\n",
    "\n",
    "    \"\\n-get shapes\", \"\\n\",\n",
    "    model.layers[0].input_shape, \"\\n\",\n",
    "    model.layers[0].output_shape, \"\\n\",\n",
    "    \n",
    "    \"\\n-get weights\", \"\\n\",\n",
    "    model.layers[0].get_weights()[0].shape, \"\\n\",\n",
    "    \n",
    "    \"\\n-check if trainable\", \"\\n\",\n",
    "    model.layers[0].trainable, \"\\n\", # you can set this to false to \"freeze\" a layer\n",
    ")"
   ]
  },
  {
   "cell_type": "code",
   "execution_count": null,
   "metadata": {
    "collapsed": true
   },
   "outputs": [],
   "source": [
    "from IPython.core.debugger import Pdb\n",
    "debugger = Pdb()\n",
    "debugger.set_trace() # put this line as a breakpoint"
   ]
  },
  {
   "cell_type": "markdown",
   "metadata": {},
   "source": [
    "Test batch generation"
   ]
  },
  {
   "cell_type": "code",
   "execution_count": null,
   "metadata": {
    "collapsed": true
   },
   "outputs": [],
   "source": [
    "gen1, gen2 = image_generators(X, Y) "
   ]
  },
  {
   "cell_type": "code",
   "execution_count": null,
   "metadata": {
    "collapsed": true
   },
   "outputs": [],
   "source": [
    "from cnn_models import batches_generator\n",
    "j = 0\n",
    "x_batches = []\n",
    "y_batches = []\n",
    "\n",
    "for x, y in batches_generator(X[:4], Y[:4], batch_size = 4):\n",
    "    j += 1\n",
    "    if j > 10:\n",
    "        break\n",
    "    x_batches.append(x)\n",
    "    y_batches.append(y)"
   ]
  },
  {
   "cell_type": "code",
   "execution_count": null,
   "metadata": {
    "collapsed": true
   },
   "outputs": [],
   "source": [
    "np.array(x_batches).shape, np.array(y_batches).shape"
   ]
  },
  {
   "cell_type": "code",
   "execution_count": null,
   "metadata": {
    "collapsed": true
   },
   "outputs": [],
   "source": [
    "b = 0\n",
    "i = -1"
   ]
  },
  {
   "cell_type": "code",
   "execution_count": null,
   "metadata": {
    "collapsed": true
   },
   "outputs": [],
   "source": [
    "i += 1\n",
    "if i >= x_batches[0].shape[0]:\n",
    "    i = 0\n",
    "    b += 1\n",
    "print(\"Batch\", str(b) + \". Image\", i)\n",
    "fig, axs = plt.subplots(1, 2)\n",
    "fig.set_size_inches((20, 10))\n",
    "axs[0].imshow(x_batches[b][i], cmap='gray')\n",
    "axs[1].imshow(y_batches[b][i][:, :, 1], cmap='gray')"
   ]
  }
 ],
 "metadata": {
  "anaconda-cloud": {},
  "kernelspec": {
   "display_name": "Python [default]",
   "language": "python",
   "name": "python3"
  },
  "language_info": {
   "codemirror_mode": {
    "name": "ipython",
    "version": 3
   },
   "file_extension": ".py",
   "mimetype": "text/x-python",
   "name": "python",
   "nbconvert_exporter": "python",
   "pygments_lexer": "ipython3",
   "version": "3.5.2"
  }
 },
 "nbformat": 4,
 "nbformat_minor": 2
}
